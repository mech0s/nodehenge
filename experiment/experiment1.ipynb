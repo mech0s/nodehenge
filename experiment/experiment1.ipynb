{
  "cells": [
    {
      "cell_type": "markdown",
      "metadata": {
        "colab_type": "text",
        "id": "view-in-github"
      },
      "source": [
        "<a href=\"https://colab.research.google.com/github/mech0s/nodehenge/blob/main/experiment/experiment1.ipynb\" target=\"_parent\"><img src=\"https://colab.research.google.com/assets/colab-badge.svg\" alt=\"Open In Colab\"/></a>"
      ]
    },
    {
      "cell_type": "markdown",
      "metadata": {
        "id": "eWX5niFOD5j7"
      },
      "source": [
        "## Experiments"
      ]
    },
    {
      "cell_type": "code",
      "execution_count": null,
      "metadata": {
        "id": "zeERWzmKUjni"
      },
      "outputs": [],
      "source": [
        "tmpdf =  phaseActivityDataFrame.apply(lambda x: x.str.strip() if x.dtype == 'object' else x)\n",
        "\n",
        "\n"
      ]
    },
    {
      "cell_type": "code",
      "execution_count": null,
      "metadata": {
        "id": "1EhEPaWBWt5u"
      },
      "outputs": [],
      "source": [
        "variableColumns = [\n",
        "                   #'Activity' ,\n",
        "                   \"SSDF\",\n",
        "                    'Baseline',\n",
        "                    'Description',\n",
        "                    'Inputs',\n",
        "                    'Outputs',\n",
        "                   # 'SecurityTestingCM',\n",
        "                   # 'ToolDependency'\n",
        "                   ]\n",
        "\n",
        "tmpdf.columns.difference(variableColumns)\n",
        "tmpdf[tmpdf.duplicated(keep=False, subset=tmpdf.columns.difference(variableColumns) )]"
      ]
    },
    {
      "cell_type": "code",
      "execution_count": null,
      "metadata": {
        "colab": {
          "base_uri": "https://localhost:8080/",
          "height": 896
        },
        "id": "jGjZ6wUFOOWB",
        "outputId": "9b680976-3b6f-4ea8-bd00-f0149b2b0e08"
      },
      "outputs": [],
      "source": [
        "variableColumns = [ ]#,'Description']\n",
        "phaseActivityDataFrame[phaseActivityDataFrame.duplicated(keep=False, subset=phaseActivityDataFrame.columns.difference(variableColumns))]\n"
      ]
    },
    {
      "cell_type": "code",
      "execution_count": null,
      "metadata": {
        "id": "zLlYWLSlOQBQ"
      },
      "outputs": [],
      "source": []
    },
    {
      "cell_type": "code",
      "execution_count": null,
      "metadata": {
        "colab": {
          "base_uri": "https://localhost:8080/",
          "height": 35
        },
        "id": "lu7AagXvOQJc",
        "outputId": "5fa08196-c4bf-405d-a58e-e828c23a9604"
      },
      "outputs": [],
      "source": [
        "\"   sdfsdf df   \".strip()"
      ]
    },
    {
      "cell_type": "code",
      "execution_count": null,
      "metadata": {
        "id": "50s3JwGHOQRQ"
      },
      "outputs": [],
      "source": []
    },
    {
      "cell_type": "code",
      "execution_count": null,
      "metadata": {
        "id": "yHlB1RXJ523N"
      },
      "outputs": [],
      "source": [
        "import rdfpandas"
      ]
    },
    {
      "cell_type": "code",
      "execution_count": null,
      "metadata": {
        "id": "RZDtlQdQ5-wU"
      },
      "outputs": [],
      "source": [
        "graph = rdfpandas.graph.to_graph(phaseActivityDataFrame)"
      ]
    },
    {
      "cell_type": "code",
      "execution_count": null,
      "metadata": {
        "colab": {
          "base_uri": "https://localhost:8080/"
        },
        "id": "NQvJrYpX6LO0",
        "outputId": "4295337f-941a-4bd6-ceb0-22c1bc4b8737"
      },
      "outputs": [],
      "source": [
        "print(graph.serialize(format='turtle'))"
      ]
    },
    {
      "cell_type": "code",
      "execution_count": null,
      "metadata": {
        "id": "GvsCKMeuD_3n"
      },
      "outputs": [],
      "source": [
        "# files written during google colab session are saved to session storage\n",
        "\n",
        "f = open(\"textfile.txt\", \"a\")\n",
        "f.write(\"file content!\")\n",
        "f.close()"
      ]
    }
  ],
  "metadata": {
    "colab": {
      "include_colab_link": true,
      "provenance": []
    },
    "kernelspec": {
      "display_name": "Python 3",
      "name": "python3"
    },
    "language_info": {
      "codemirror_mode": {
        "name": "ipython",
        "version": 3
      },
      "file_extension": ".py",
      "mimetype": "text/x-python",
      "name": "python",
      "nbconvert_exporter": "python",
      "pygments_lexer": "ipython3",
      "version": "3.10.7"
    }
  },
  "nbformat": 4,
  "nbformat_minor": 0
}
