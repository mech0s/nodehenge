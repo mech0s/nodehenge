{
  "cells": [
    {
      "cell_type": "markdown",
      "metadata": {
        "colab_type": "text",
        "id": "view-in-github"
      },
      "source": [
        "<a href=\"https://colab.research.google.com/github/mech0s/nodehenge/blob/main/doc2rdf.ipynb\" target=\"_parent\"><img src=\"https://colab.research.google.com/assets/colab-badge.svg\" alt=\"Open In Colab\"/></a>"
      ]
    },
    {
      "cell_type": "code",
      "execution_count": null,
      "metadata": {
        "id": "g2FMZ-cLUX2m"
      },
      "outputs": [],
      "source": [
        "revision = 10\n",
        "print (\"Revision\", revision)"
      ]
    },
    {
      "cell_type": "markdown",
      "metadata": {
        "id": "BB-z2iTEUX2o"
      },
      "source": [
        "##  Install steps\n",
        "Need to re-run for each fresh google colab session"
      ]
    },
    {
      "cell_type": "code",
      "execution_count": null,
      "metadata": {
        "colab": {
          "base_uri": "https://localhost:8080/"
        },
        "id": "RZHU52I0UX2q",
        "outputId": "d985f431-bdc2-465b-bc23-41a578c31540"
      },
      "outputs": [],
      "source": [
        "### commented out - rdfpandas not needed?\n",
        "#  %pip install rdfpandas\n",
        "#  %pip install openpyxl\n",
        "%pip install rdflib\n",
        "%pip install -U spacy"
      ]
    },
    {
      "cell_type": "code",
      "execution_count": null,
      "metadata": {},
      "outputs": [],
      "source": [
        "!python -m spacy download en_core_web_sm"
      ]
    },
    {
      "cell_type": "code",
      "execution_count": null,
      "metadata": {},
      "outputs": [],
      "source": [
        "import spacy\n",
        "nlp = spacy.load(\"en_core_web_sm\")"
      ]
    },
    {
      "cell_type": "markdown",
      "metadata": {
        "id": "hqc52ohYUX2q"
      },
      "source": [
        "##   Imports"
      ]
    },
    {
      "cell_type": "code",
      "execution_count": null,
      "metadata": {
        "id": "n8S3Lkr9UX2q"
      },
      "outputs": [],
      "source": [
        "import numpy as np\n",
        "import pandas as pd\n",
        "import os\n",
        "import re\n",
        "import json"
      ]
    },
    {
      "cell_type": "markdown",
      "metadata": {
        "id": "-SxFF3EBUX2q"
      },
      "source": [
        "### Optional    google  colab   enhancements"
      ]
    },
    {
      "cell_type": "code",
      "execution_count": null,
      "metadata": {
        "id": "j3A_QUmxUX2r"
      },
      "outputs": [],
      "source": [
        "#optional\n",
        "if 'COLAB_JUPYTER_TOKEN' in os.environ:\n",
        "  from google.colab import data_table\n",
        "  data_table.enable_dataframe_formatter()"
      ]
    },
    {
      "cell_type": "markdown",
      "metadata": {
        "id": "q1sXQLGUUX2r"
      },
      "source": [
        "## Source Data Read/Setup"
      ]
    },
    {
      "cell_type": "markdown",
      "metadata": {
        "id": "LgtU0oP9UX2r"
      },
      "source": [
        "### Read dodcio DevSecOpsActivitesToolsGuidebookTables.xlsx"
      ]
    },
    {
      "cell_type": "code",
      "execution_count": null,
      "metadata": {},
      "outputs": [],
      "source": [
        "def cleanCamel(r):\n",
        "  r = re.sub('\\W|^(?=\\d)','_', r) ## cleans to make a valid identifier\n",
        "  r = re.sub(r\"(_|-|\\n|!)+\", \" \", r).title().replace(\" \", \"\")  ## turns to camel-case\n",
        "  return ''.join([r[0].lower(), r[1:]])"
      ]
    },
    {
      "cell_type": "code",
      "execution_count": null,
      "metadata": {
        "id": "OAK5AP5LUX2r"
      },
      "outputs": [],
      "source": [
        "sourceURI = \"https://dodcio.defense.gov/Portals/0/Documents/Library/DevSecOpsActivitesToolsGuidebookTables.xlsx\"\n",
        "xls = pd.ExcelFile(sourceURI)"
      ]
    },
    {
      "cell_type": "markdown",
      "metadata": {
        "id": "XjZeS1j7UX2r"
      },
      "source": [
        "### Setup fixed data"
      ]
    },
    {
      "cell_type": "code",
      "execution_count": null,
      "metadata": {
        "id": "PwZO0RlBUX2s"
      },
      "outputs": [],
      "source": [
        "phaseNames = [ 'Plan',\n",
        " 'Develop',\n",
        " 'Build',\n",
        " 'Test',\n",
        " 'Release',\n",
        " 'Deliver',\n",
        " 'Deploy',\n",
        " 'Operate',\n",
        " 'Monitor',\n",
        " 'Feedback']\n",
        "phaseIDs = list(map(cleanCamel, phaseNames))"
      ]
    },
    {
      "cell_type": "markdown",
      "metadata": {
        "id": "pvkNyFwTUX2s"
      },
      "source": [
        "##  Build phaseActivityDataFrame"
      ]
    },
    {
      "cell_type": "markdown",
      "metadata": {
        "id": "BJ_749-dUX2s"
      },
      "source": [
        "One named worksheet per phase: Pull these into a list of DataFrames, adjusting column names to create valid identifiers. Turn NaN entries into blank strings."
      ]
    },
    {
      "cell_type": "code",
      "execution_count": null,
      "metadata": {
        "id": "JwYBj7y5UX2s"
      },
      "outputs": [],
      "source": [
        "phaseDataList = []\n",
        "phaseOrder = 0\n",
        "for phName in phaseNames:\n",
        "  df = pd.read_excel(xls,phName)\n",
        "  df = df.rename(columns={\"Activities\":\"Activity\",\n",
        "                     \"Security / Testing / CM\": \"SecurityTestingCM\",\n",
        "                     \"Tool Dependencies\": \"ToolDependency\",\n",
        "                     \"Tool Dependency\": \"ToolDependency\"\n",
        "                     })\n",
        "  # add Phase and order columns - alternative avoid tricky MultiIndex when concatening below\n",
        "  df[\"Phase\"] = phName\n",
        "  df[\"PhaseOrder\"] = phaseOrder\n",
        "  df[\"OrderInPhase\"] = df.index\n",
        "  phaseOrder+=1\n",
        "  #\n",
        "  phaseDataList.append(df.replace(np.nan, \"\"))"
      ]
    },
    {
      "cell_type": "markdown",
      "metadata": {
        "id": "oG1YtjvbUX2s"
      },
      "source": [
        "phaseDataList : list of dataframes :- concatenate into one dataframe"
      ]
    },
    {
      "cell_type": "code",
      "execution_count": null,
      "metadata": {},
      "outputs": [],
      "source": [
        "phaseActivityDataFrame = pd.concat(phaseDataList)\n",
        "phaseActivityDataFrame.reset_index(drop=True, inplace=True)\n",
        "# MultiIndex example: phaseActivityDataFrame = pd.concat(phaseDataList,keys=phaseNames, names=[\"Phase\",\"IDinPhase\"])"
      ]
    },
    {
      "cell_type": "code",
      "execution_count": null,
      "metadata": {},
      "outputs": [],
      "source": [
        "phaseActivityDataFrame[\"ActivityIdentifier\"] = phaseActivityDataFrame[\"Activity\"].apply( cleanCamel )"
      ]
    },
    {
      "cell_type": "code",
      "execution_count": null,
      "metadata": {},
      "outputs": [],
      "source": [
        "phaseActivityDataFrame.to_json(orient='table')"
      ]
    },
    {
      "cell_type": "code",
      "execution_count": null,
      "metadata": {
        "id": "RdhybdnYUX2t"
      },
      "outputs": [],
      "source": [
        "phaseActivityDataFrame.rename(columns={\"ToolDependency\":\"ToolDependenciesText\", \"Inputs\":\"InputsText\", \"Outputs\":\"OutputsText\"},inplace=True)\n",
        "## prepare empty lists to accept values parsed from text fields\n",
        "phaseActivityDataFrame[\"ToolsList\"]=[[] for _ in range(len(phaseActivityDataFrame))]\n",
        "phaseActivityDataFrame[\"InputsList\"]=[[] for _ in range(len(phaseActivityDataFrame))]\n",
        "phaseActivityDataFrame[\"OutputsList\"]=[[] for _ in range(len(phaseActivityDataFrame))]"
      ]
    },
    {
      "cell_type": "code",
      "execution_count": null,
      "metadata": {},
      "outputs": [],
      "source": [
        "# check cheet names\n",
        "xls.sheet_names"
      ]
    },
    {
      "cell_type": "code",
      "execution_count": null,
      "metadata": {},
      "outputs": [],
      "source": [
        "toolsDataFrame = pd.read_excel(xls, \"Tools\")\n",
        "toolsDataFrame.replace(np.nan, \"\", inplace=True)"
      ]
    },
    {
      "cell_type": "code",
      "execution_count": null,
      "metadata": {},
      "outputs": [],
      "source": [
        "toolsDataFrame.rename(columns={ \"Inputs\":\"InputsText\", \"Outputs\":\"OutputsText\"},inplace=True)\n",
        "toolsDataFrame[\"InputsList\"]=[[] for _ in range(len(toolsDataFrame))]\n",
        "toolsDataFrame[\"OutputsList\"]=[[] for _ in range(len(toolsDataFrame))]"
      ]
    },
    {
      "cell_type": "markdown",
      "metadata": {},
      "source": [
        "### Dataframe select, filter, order examples"
      ]
    },
    {
      "cell_type": "code",
      "execution_count": null,
      "metadata": {},
      "outputs": [],
      "source": [
        "### Dataframe slicing examples\n",
        "phaseActivityDataFrame.iloc[3:39]"
      ]
    },
    {
      "cell_type": "code",
      "execution_count": null,
      "metadata": {},
      "outputs": [],
      "source": [
        "### Dataframe ordering and filtering examples\n",
        "phaseActivityDataFrame.sort_values([\"PhaseOrder\",\"OrderInPhase\"])[phaseActivityDataFrame[\"Phase\"]>=\"Plan\"]"
      ]
    },
    {
      "cell_type": "code",
      "execution_count": null,
      "metadata": {},
      "outputs": [],
      "source": [
        "### Dataframe selection examples\n",
        "phaseActivityDataFrame[[\"Phase\",\"Baseline\"]]"
      ]
    },
    {
      "cell_type": "code",
      "execution_count": null,
      "metadata": {},
      "outputs": [],
      "source": [
        "### access to lists within cells\n",
        "toolsDataFrame.iloc[0].InputsList.append(123)\n",
        "toolsDataFrame.iloc[0].InputsList.clear()\n",
        "toolsDataFrame.iloc[0]"
      ]
    },
    {
      "cell_type": "markdown",
      "metadata": {},
      "source": [
        "### Parse out text cells"
      ]
    },
    {
      "cell_type": "code",
      "execution_count": null,
      "metadata": {},
      "outputs": [],
      "source": [
        "#helper function - check what text isn't being extracted from a string during parsing\n",
        "def remaining_text(txt, strs):\n",
        "    rem = txt\n",
        "    for s in strs:\n",
        "        rem = rem.replace(s,'')\n",
        "\n",
        "    return rem.replace(\"\\n\",\"\")"
      ]
    },
    {
      "cell_type": "markdown",
      "metadata": {},
      "source": [
        "### Cleansing of text list cells"
      ]
    },
    {
      "cell_type": "code",
      "execution_count": null,
      "metadata": {},
      "outputs": [],
      "source": [
        "phaseActivityDataFramePreMods = phaseActivityDataFrame.copy()\n",
        "toolsDataFramePreMdods = toolsDataFrame.copy()\n",
        "\n",
        "inputOutputReplaces ={ \"Change management\" : \"Change-management\" ,\n",
        "           \"IT infrastructure asset\" : \"IT-infrastructure-asset\",\n",
        "            \"Artifacts (Infrastructure as Code)\" : \"IAC Artifacts,\",\n",
        "            \"Infrastructure as Code\" : \"IAC\",\n",
        "            \"NIST 800-53 RMF Control Implementations\" :\"NIST80053RMFControl-Implementations,\",\n",
        "            \"FIPS 199 system categorization\" : \"FIPS-199-system-categorization,\",\n",
        "            \"Stakeholder inputs or feedback\" : \"Stakeholder-inputs, Stakeholder feedback\",\n",
        "            \"Requirements database or documents\" : \"Requirements database, Requirements documents\",\n",
        "            \"Test environment applications and infrastructure\" : \"Test environment applications, Test environment infrastructure\",\n",
        "            \"Developer coding and appropriate unit, integration, etc. testing input\" : \"Developer coding, Unit test input, Integration test input, Other test input\",\n",
        "            \"- Review Comments\" : \"Review-Comments,\",\n",
        "            \"- Source Code Weakness Findings\" : \"Source Code Weakness Findings,\",\n",
        "            \"- Version-Controlled Source Code\" :\"Version-Controlled Source Code,\",\n",
        "            \"- Security Findings and Warnings\" : \"Security Findings, Security Warnings,\",\n",
        "            \n",
        "            \"\" : \"\",\n",
        "            \"\" : \"\",\n",
        "            \"\" : \"\",\n",
        "            \"\" : \"\",\n",
        "            \"\" : \"\",\n",
        "}\n",
        "for pair in inputOutputReplaces.items():\n",
        "    phaseActivityDataFrame.InputsText = phaseActivityDataFrame.apply(lambda x : x.InputsText.replace(pair[0], pair[1]), axis='columns')\n",
        "    phaseActivityDataFrame.OutputsText = phaseActivityDataFrame.apply(lambda x : x.OutputsText.replace(pair[0], pair[1]), axis='columns')\n",
        "\n",
        "toolReplaces = {\n",
        "            \"Monitoring tool suite\" : \"Monitoring-tool suite\",\n",
        "            \"Test tool suite\" : \"Test-tool suite\",\n",
        "            \"Log aggregator\" : \"Log-aggregator\",\n",
        "            \"Log analysis & auditing\" : \"Log-analysis, Log-auditing, \",\n",
        "            \"Logging\" : \"Logging-tool\",\n",
        "            \"Logging-tool tool\" : \"Logging-tool\",\n",
        "            \"\" : \"\",\n",
        "            \"\" : \"\",\n",
        "}\n",
        "for pair in toolReplaces.items():\n",
        "    phaseActivityDataFrame.ToolDependenciesText = phaseActivityDataFrame.apply(lambda x : x.ToolDependenciesText.replace(pair[0], pair[1]), axis='columns')\n",
        "    toolsDataFrame.Tool = toolsDataFrame.apply(lambda x : x.Tool.replace(pair[0], pair[1]), axis='columns')\n",
        "\n",
        "\n",
        "# nlp extraction of noun phrases\n",
        "phaseActivityDataFrame.InputsList = phaseActivityDataFrame.apply(lambda x :  [chunk.text for chunk in nlp(x.InputsText).noun_chunks], axis='columns')\n",
        "phaseActivityDataFrame.OutputsList = phaseActivityDataFrame.apply(lambda x :  [chunk.text for chunk in nlp(x.OutputsText).noun_chunks], axis='columns')\n",
        "phaseActivityDataFrame.ToolsList = phaseActivityDataFrame.apply(lambda x :  [chunk.text for chunk in nlp(x.ToolDependenciesText).noun_chunks], axis='columns')\n",
        "# text left behind\n",
        "phaseActivityDataFrame['InputsTextRemainder'] = phaseActivityDataFrame.apply(lambda x : remaining_text(x.InputsText, x.InputsList) , axis='columns')\n",
        "phaseActivityDataFrame['OutputsTextRemainder'] = phaseActivityDataFrame.apply(lambda x : remaining_text(x.OutputsText, x.OutputsList) , axis='columns')\n",
        "phaseActivityDataFrame['ToolsTextRemainder'] = phaseActivityDataFrame.apply(lambda x : remaining_text(x.ToolDependenciesText, x.ToolsList) , axis='columns')\n"
      ]
    },
    {
      "cell_type": "markdown",
      "metadata": {},
      "source": [
        "### Cleansed - Now turn item names into identifiers - camelCase"
      ]
    },
    {
      "cell_type": "code",
      "execution_count": null,
      "metadata": {},
      "outputs": [],
      "source": [
        "toolsDataFrame[\"ToolIdentifier\"]=toolsDataFrame[\"Tool\"].apply( cleanCamel )\n",
        "phaseActivityDataFrame.InputsList = phaseActivityDataFrame.apply(lambda x : [ cleanCamel(y) for y in x.InputsList ], axis='columns' )\n",
        "phaseActivityDataFrame.OutputsList = phaseActivityDataFrame.apply(lambda x : [ cleanCamel(y) for y in x.OutputsList ], axis='columns' )\n",
        "phaseActivityDataFrame.ToolsList = phaseActivityDataFrame.apply(lambda x : [ cleanCamel(y) for y in x.ToolsList ], axis='columns' )\n",
        "\n"
      ]
    },
    {
      "cell_type": "code",
      "execution_count": null,
      "metadata": {},
      "outputs": [],
      "source": [
        "\n",
        "#filtered column view to aid visual inspection post-cleansing\n",
        "checkPAInputs = phaseActivityDataFrame[[\"Phase\",\"Activity\",\"InputsText\",\"InputsList\",\"InputsTextRemainder\"]]\n",
        "checkPAOutputs = phaseActivityDataFrame[[\"Phase\",\"Activity\",\"OutputsText\",\"OutputsList\",\"OutputsTextRemainder\"]]\n",
        "checkPATools = phaseActivityDataFrame[[\"Phase\",\"Activity\",\"ToolDependenciesText\",\"ToolsList\",\"ToolsTextRemainder\"]]"
      ]
    },
    {
      "cell_type": "markdown",
      "metadata": {},
      "source": [
        "## TODO : Other sheets / regions"
      ]
    },
    {
      "cell_type": "markdown",
      "metadata": {},
      "source": [
        "# RDF creation"
      ]
    },
    {
      "cell_type": "code",
      "execution_count": null,
      "metadata": {},
      "outputs": [],
      "source": [
        "from rdflib import Graph, Namespace, URIRef, Literal, BNode\n",
        "from rdflib.namespace import SKOS, RDF, RDFS, XSD, NamespaceManager, DCTERMS # DC, DOAP, FOAF, VOID, XMLNS\n",
        "\n",
        "ONT = Namespace(\"http://nodehenge.org/ont#\")\n",
        "INST = Namespace(\"http://nodehenge.org/inst#\")\n",
        "PHASE = Namespace(\"http://nodehenge.org/inst/phase#\")\n",
        "TOOL = Namespace(\"http://nodehenge.org/inst/tool#\")\n",
        "ACT = Namespace(\"http://nodehenge.org/inst/activity#\")\n",
        "ART = Namespace(\"http://nodehenge.org/inst/artifact#\")\n",
        "g = Graph() ###base=\"http://nodehenge.org/inst/\")\n",
        "g.bind(\"rdf\", RDF)\n",
        "g.bind(\"rdfs\", RDFS)\n",
        "g.bind(\"skos\", SKOS)\n",
        "g.bind(\"xsd\", XSD)\n",
        "g.bind(\"ont\", ONT)\n",
        "g.bind(\"inst\", INST)\n",
        "g.bind(\"phase\", PHASE)\n",
        "g.bind(\"tool\", TOOL)\n",
        "g.bind(\"act\", ACT)\n",
        "g.bind(\"art\", ART)\n",
        "\n"
      ]
    },
    {
      "cell_type": "code",
      "execution_count": null,
      "metadata": {},
      "outputs": [],
      "source": [
        "# populate the top level INST namespace\n",
        "g.add ((INST.dodDsopScheme, RDF.type, SKOS.ConceptScheme ))\n",
        "g.add ((INST.dodDsopScheme, DCTERMS.title, Literal(\"DoD DevSecOps Abstract Phase Activites and Tools Scheme\") ))\n",
        "g.add ((INST.dodDsopScheme, DCTERMS.source, URIRef(sourceURI) ))\n",
        "orderedPhaseBNodes = dict([(ph, BNode()) for ph in phaseIDs ])\n",
        "g.add ((INST.phasing, RDF.type, SKOS.OrderedCollection))\n",
        "g.add ((INST.phasing, SKOS.inScheme, INST.dodDsopScheme))\n",
        "g.add ((INST.phasing, SKOS.memberList, orderedPhaseBNodes[phaseIDs[0]]))"
      ]
    },
    {
      "cell_type": "code",
      "execution_count": null,
      "metadata": {},
      "outputs": [],
      "source": [
        "#populate the PHASE namespace\n",
        "sideEffectTranversePhases = [ (\n",
        "    g.add((\n",
        "        PHASE[current], RDF.type, ONT.Phase\n",
        "    )),\n",
        "    g.add ((\n",
        "        PHASE[current], SKOS.inScheme, INST.dodDsopScheme\n",
        "    )),\n",
        "    g.add((\n",
        "        PHASE[current], RDF.type, SKOS.Concept\n",
        "    )),\n",
        "    g.add((\n",
        "        PHASE[current], SKOS.prefLabel, Literal(currentName)\n",
        "    )),    \n",
        "    g.add((\n",
        "        orderedPhaseBNodes[current], RDF.first, PHASE[current]    #list head\n",
        "    )),\n",
        "    g.add((\n",
        "        orderedPhaseBNodes[current], RDF.rest , orderedPhaseBNodes[next] if next != None else RDF.nil\n",
        "    )),\n",
        "    )\n",
        "    for current, currentName, next in zip( phaseIDs, phaseNames , phaseIDs[1:]+[None]) ]\n",
        "\n",
        "#print(g.serialize(format=\"turtle\"))"
      ]
    },
    {
      "cell_type": "markdown",
      "metadata": {},
      "source": [
        "### Load"
      ]
    },
    {
      "cell_type": "markdown",
      "metadata": {},
      "source": [
        "... pre-load from onto.ttl here ?\n",
        "g.parse('publish/nodehenge.org/ont.ttl')"
      ]
    },
    {
      "cell_type": "code",
      "execution_count": null,
      "metadata": {},
      "outputs": [],
      "source": [
        "toolsDataFrame.apply( lambda row : \n",
        "    (\n",
        "        g.add((\n",
        "            TOOL[row.ToolIdentifier], RDF.type, ONT.AbstractTool\n",
        "        )),\n",
        "        g.add((\n",
        "            TOOL[row.ToolIdentifier], RDF.type, SKOS.Concept\n",
        "        )),\n",
        "        g.add ((\n",
        "            TOOL[row.ToolIdentifier], SKOS.inScheme, INST.dodDsopScheme\n",
        "        )),\n",
        "        g.add((\n",
        "            TOOL[row.ToolIdentifier], SKOS.prefLabel, Literal(row.Tool)   \n",
        "        )),\n",
        "        g.add((\n",
        "            TOOL[row.ToolIdentifier], SKOS.definition, Literal(row.Benefits)\n",
        "        )),\n",
        "        g.add((\n",
        "            TOOL[row.ToolIdentifier], SKOS.scopeNote, Literal(row.Features)\n",
        "        )),\n",
        "        g.add((\n",
        "            TOOL[row.ToolIdentifier], SKOS.editorialNote, Literal(\"InputsText and OutputText source fields need cleansed and turned into related Atrifact entities\")\n",
        "        )),\n",
        "    )\n",
        "    , axis='columns' )\n",
        "None"
      ]
    },
    {
      "cell_type": "markdown",
      "metadata": {},
      "source": [
        "### TODO : Tools : InputsText and OutputText source fields need cleansed and turned into related Atrifact entities"
      ]
    },
    {
      "cell_type": "code",
      "execution_count": null,
      "metadata": {},
      "outputs": [],
      "source": [
        "phaseActivityDataFrame.apply( lambda row : \n",
        "    (\n",
        "        g.add((\n",
        "            ACT[row.ActivityIdentifier], RDF.type, ONT.AbstractActivity\n",
        "        )),\n",
        "        g.add((\n",
        "            ACT[row.ActivityIdentifier], RDF.type, SKOS.Concept\n",
        "        )),\n",
        "        g.add((\n",
        "            ACT[row.ActivityIdentifier], SKOS.inScheme, INST.dodDsopScheme\n",
        "        )),\n",
        "        g.add((\n",
        "            ACT[row.ActivityIdentifier], SKOS.prefLabel, Literal(row.Activity)   \n",
        "        )),\n",
        "        g.add((\n",
        "            ACT[row.ActivityIdentifier], SKOS.definition, Literal(row.Description)\n",
        "        )),\n",
        "        g.add((\n",
        "            ACT[row.ActivityIdentifier], SKOS.scopeNote, Literal(\"Baseline: \" + row.Baseline )\n",
        "        )),\n",
        "        g.add((\n",
        "            ACT[row.ActivityIdentifier], SKOS.scopeNote, Literal(\"Relevance: \" + row.SecurityTestingCM )\n",
        "        )),\n",
        "        g.add((\n",
        "            ACT[row.ActivityIdentifier], SKOS.scopeNote, Literal(\"SSDF: \" + row.SSDF )\n",
        "        )),\n",
        "        g.add((\n",
        "            ACT[row.ActivityIdentifier], SKOS.editorialNote, Literal(\"skos:scopeNote currently holding three fields. Could normalize\")\n",
        "        )),\n",
        "        [ ( g.add(( ART[item], RDF.type, ONT.AbstractArtifact )),\n",
        "            g.add(( ART[item], RDF.type, SKOS.Concept )),\n",
        "            g.add(( ART[item], SKOS.inScheme, INST.dodDsopScheme )),\n",
        "            g.add(( ACT[row.ActivityIdentifier], ONT.input, ART[item] )), \n",
        "            g.add(( ART[item], ONT.input, ACT[row.ActivityIdentifier] )),\n",
        "            ) for item in row.InputsList ],\n",
        "        [ ( g.add(( ART[item], RDF.type, ONT.AbstractArtifact )),\n",
        "            g.add(( ART[item], RDF.type, SKOS.Concept )),\n",
        "            g.add(( ART[item], SKOS.inScheme, INST.dodDsopScheme )),\n",
        "            g.add(( ACT[row.ActivityIdentifier], ONT.output, ART[item] )), \n",
        "            g.add(( ART[item], ONT.output, ACT[row.ActivityIdentifier] )),\n",
        "            ) for item in row.OutputsList ],\n",
        "        [ ( g.add(( TOOL[item], RDF.type, TOOL.AbstractTool )),\n",
        "            g.add(( TOOL[item], RDF.type, SKOS.Concept )),\n",
        "            g.add(( TOOL[item], SKOS.inScheme, INST.dodDsopScheme )),\n",
        "            g.add(( ACT[row.ActivityIdentifier], ONT.activityTool, TOOL[item] )), \n",
        "            g.add(( TOOL[item], ONT.activityTool, ACT[row.ActivityIdentifier] )),\n",
        "            ) for item in row.ToolsList ],\n",
        "        g.add((\n",
        "            ACT[row.ActivityIdentifier], ONT.phaseActivity, PHASE[cleanCamel(row.Phase)]\n",
        "        )),\n",
        "        g.add((\n",
        "            PHASE[cleanCamel(row.Phase)], ONT.phaseActivity, ACT[row.ActivityIdentifier]\n",
        "        )),\n",
        "        g.add(( ACT[row.ActivityIdentifier] , SKOS.editorialNote, Literal(\"Unused Inputs text::\"+row.InputsTextRemainder))) if any(letter.isalpha() for letter in row.InputsTextRemainder) else None,\n",
        "        g.add(( ACT[row.ActivityIdentifier] , SKOS.editorialNote, Literal(\"Unused Outputs text::\"+row.OutputsTextRemainder))) if any(letter.isalpha() for letter in row.OutputsTextRemainder) else None,\n",
        "        g.add(( ACT[row.ActivityIdentifier] , SKOS.editorialNote, Literal(\"Unused Tools text::\"+row.ToolsTextRemainder))) if any(letter.isalpha() for letter in row.ToolsTextRemainder) else None,\n",
        "    )\n",
        "    , axis='columns' )\n",
        "None"
      ]
    },
    {
      "cell_type": "code",
      "execution_count": null,
      "metadata": {},
      "outputs": [],
      "source": [
        "g.serialize(format=\"turtle\",destination=\"publish/nodehenge.org/inst.ttl\")"
      ]
    },
    {
      "cell_type": "code",
      "execution_count": null,
      "metadata": {},
      "outputs": [],
      "source": [
        "print(g.serialize(format=\"turtle\"))"
      ]
    },
    {
      "cell_type": "code",
      "execution_count": null,
      "metadata": {},
      "outputs": [],
      "source": [
        "# some commented-out RDF exploration tests\n",
        "%%script false --no-raise-error\n",
        "\n",
        "g.add((\n",
        "    URIRef(\"#nick\"),\n",
        "    SKOS.prefLabel,\n",
        "    Literal(\"Nick\") #, datatype=XSD.string)\n",
        "    )\n",
        ")\n",
        "g.add((\n",
        "    URIRef(\"#bob\"),\n",
        "    SKOS.prefLabel,\n",
        "    Literal(\"Bob\") #, datatype=XSD.string)\n",
        "    )\n",
        ")\n",
        "\n",
        "print(g.serialize(format=\"turtle\"))\n",
        "\n",
        "my_query = \"\"\"\n",
        "SELECT DISTINCT ?a ?b\n",
        "WHERE {\n",
        "    ?a skos:prefLabel \"Nick\" .\n",
        "}\"\"\"\n",
        "\n",
        "qres = g.query(my_query)\n",
        "for row in qres:\n",
        "    print(f\"{row.a} \")\n",
        "\n",
        "bob=URIRef(\"#bob\")\n",
        "print(g.value(bob,SKOS.prefLabel))\n",
        "#```"
      ]
    },
    {
      "cell_type": "code",
      "execution_count": null,
      "metadata": {},
      "outputs": [],
      "source": [
        "%%script false --no-raise-error\n",
        "\n",
        "g.add( (PHASE.plan, SKOS.prefLabel, Literal(\"Plan\")))\n",
        "print(  PHASE.plan )\n",
        "print( g.value( PHASE.plan, SKOS.prefLabel ) )"
      ]
    },
    {
      "cell_type": "code",
      "execution_count": null,
      "metadata": {},
      "outputs": [],
      "source": [
        "%%script false --no-raise-error\n",
        "\n",
        "phaseID = \"pha+--=sfgsdfg   \\n se13\"\n",
        "phaseID2 = \"phase13432\"\n",
        "g.remove( (PHASE[cleanCamel(phaseID)], None, None) )  #dict notation as alternative to explicit value and dot notation\n",
        "g.add( (PHASE[cleanCamel(phaseID)], SKOS.related, PHASE[phaseID2]))\n",
        "print( g.value( PHASE[cleanCamel(phaseID)], SKOS.related ) )"
      ]
    }
  ],
  "metadata": {
    "colab": {
      "include_colab_link": true,
      "provenance": []
    },
    "kernelspec": {
      "display_name": "Python 3",
      "name": "python3"
    },
    "language_info": {
      "codemirror_mode": {
        "name": "ipython",
        "version": 3
      },
      "file_extension": ".py",
      "mimetype": "text/x-python",
      "name": "python",
      "nbconvert_exporter": "python",
      "pygments_lexer": "ipython3",
      "version": "3.10.7"
    },
    "orig_nbformat": 4
  },
  "nbformat": 4,
  "nbformat_minor": 0
}
