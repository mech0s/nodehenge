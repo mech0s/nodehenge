{
  "cells": [
    {
      "cell_type": "markdown",
      "metadata": {
        "colab_type": "text",
        "id": "view-in-github"
      },
      "source": [
        "<a href=\"https://colab.research.google.com/github/mech0s/nodehenge/blob/main/doc2rdf.ipynb\" target=\"_parent\"><img src=\"https://colab.research.google.com/assets/colab-badge.svg\" alt=\"Open In Colab\"/></a>"
      ]
    },
    {
      "cell_type": "code",
      "execution_count": 41,
      "metadata": {
        "id": "g2FMZ-cLUX2m"
      },
      "outputs": [
        {
          "name": "stdout",
          "output_type": "stream",
          "text": [
            "Revision 17\n"
          ]
        }
      ],
      "source": [
        "scriptRevision = 17\n",
        "print (\"Revision\", scriptRevision)"
      ]
    },
    {
      "cell_type": "markdown",
      "metadata": {
        "id": "BB-z2iTEUX2o"
      },
      "source": [
        "##  Install steps\n",
        "Need to re-run for each fresh google colab session"
      ]
    },
    {
      "cell_type": "code",
      "execution_count": 42,
      "metadata": {
        "id": "RZHU52I0UX2q"
      },
      "outputs": [
        {
          "name": "stdout",
          "output_type": "stream",
          "text": [
            "Requirement already satisfied: rdflib in c:\\users\\donal\\.virtualenvs\\nodehenge-puq04jya\\lib\\site-packages (6.3.2)\n",
            "Requirement already satisfied: isodate<0.7.0,>=0.6.0 in c:\\users\\donal\\.virtualenvs\\nodehenge-puq04jya\\lib\\site-packages (from rdflib) (0.6.1)\n",
            "Requirement already satisfied: pyparsing<4,>=2.1.0 in c:\\users\\donal\\.virtualenvs\\nodehenge-puq04jya\\lib\\site-packages (from rdflib) (3.1.0)\n",
            "Requirement already satisfied: six in c:\\users\\donal\\.virtualenvs\\nodehenge-puq04jya\\lib\\site-packages (from isodate<0.7.0,>=0.6.0->rdflib) (1.16.0)\n",
            "Note: you may need to restart the kernel to use updated packages.\n"
          ]
        },
        {
          "name": "stderr",
          "output_type": "stream",
          "text": [
            "\n",
            "[notice] A new release of pip is available: 23.1.2 -> 23.2\n",
            "[notice] To update, run: python.exe -m pip install --upgrade pip\n"
          ]
        },
        {
          "name": "stdout",
          "output_type": "stream",
          "text": [
            "Requirement already satisfied: spacy in c:\\users\\donal\\.virtualenvs\\nodehenge-puq04jya\\lib\\site-packages (3.6.0)\n",
            "Requirement already satisfied: spacy-legacy<3.1.0,>=3.0.11 in c:\\users\\donal\\.virtualenvs\\nodehenge-puq04jya\\lib\\site-packages (from spacy) (3.0.12)\n",
            "Requirement already satisfied: spacy-loggers<2.0.0,>=1.0.0 in c:\\users\\donal\\.virtualenvs\\nodehenge-puq04jya\\lib\\site-packages (from spacy) (1.0.4)\n",
            "Requirement already satisfied: murmurhash<1.1.0,>=0.28.0 in c:\\users\\donal\\.virtualenvs\\nodehenge-puq04jya\\lib\\site-packages (from spacy) (1.0.9)\n",
            "Requirement already satisfied: cymem<2.1.0,>=2.0.2 in c:\\users\\donal\\.virtualenvs\\nodehenge-puq04jya\\lib\\site-packages (from spacy) (2.0.7)\n",
            "Requirement already satisfied: preshed<3.1.0,>=3.0.2 in c:\\users\\donal\\.virtualenvs\\nodehenge-puq04jya\\lib\\site-packages (from spacy) (3.0.8)\n",
            "Requirement already satisfied: thinc<8.2.0,>=8.1.8 in c:\\users\\donal\\.virtualenvs\\nodehenge-puq04jya\\lib\\site-packages (from spacy) (8.1.10)\n",
            "Requirement already satisfied: wasabi<1.2.0,>=0.9.1 in c:\\users\\donal\\.virtualenvs\\nodehenge-puq04jya\\lib\\site-packages (from spacy) (1.1.2)\n",
            "Requirement already satisfied: srsly<3.0.0,>=2.4.3 in c:\\users\\donal\\.virtualenvs\\nodehenge-puq04jya\\lib\\site-packages (from spacy) (2.4.6)\n",
            "Requirement already satisfied: catalogue<2.1.0,>=2.0.6 in c:\\users\\donal\\.virtualenvs\\nodehenge-puq04jya\\lib\\site-packages (from spacy) (2.0.8)\n",
            "Requirement already satisfied: typer<0.10.0,>=0.3.0 in c:\\users\\donal\\.virtualenvs\\nodehenge-puq04jya\\lib\\site-packages (from spacy) (0.9.0)\n",
            "Requirement already satisfied: pathy>=0.10.0 in c:\\users\\donal\\.virtualenvs\\nodehenge-puq04jya\\lib\\site-packages (from spacy) (0.10.2)\n",
            "Requirement already satisfied: smart-open<7.0.0,>=5.2.1 in c:\\users\\donal\\.virtualenvs\\nodehenge-puq04jya\\lib\\site-packages (from spacy) (6.3.0)\n",
            "Requirement already satisfied: tqdm<5.0.0,>=4.38.0 in c:\\users\\donal\\.virtualenvs\\nodehenge-puq04jya\\lib\\site-packages (from spacy) (4.65.0)\n",
            "Requirement already satisfied: numpy>=1.15.0 in c:\\users\\donal\\.virtualenvs\\nodehenge-puq04jya\\lib\\site-packages (from spacy) (1.25.0)\n",
            "Requirement already satisfied: requests<3.0.0,>=2.13.0 in c:\\users\\donal\\.virtualenvs\\nodehenge-puq04jya\\lib\\site-packages (from spacy) (2.31.0)\n",
            "Requirement already satisfied: pydantic!=1.8,!=1.8.1,<1.11.0,>=1.7.4 in c:\\users\\donal\\.virtualenvs\\nodehenge-puq04jya\\lib\\site-packages (from spacy) (1.10.11)\n",
            "Requirement already satisfied: jinja2 in c:\\users\\donal\\.virtualenvs\\nodehenge-puq04jya\\lib\\site-packages (from spacy) (3.1.2)\n",
            "Requirement already satisfied: setuptools in c:\\users\\donal\\.virtualenvs\\nodehenge-puq04jya\\lib\\site-packages (from spacy) (67.8.0)\n",
            "Requirement already satisfied: packaging>=20.0 in c:\\users\\donal\\.virtualenvs\\nodehenge-puq04jya\\lib\\site-packages (from spacy) (23.1)\n",
            "Requirement already satisfied: langcodes<4.0.0,>=3.2.0 in c:\\users\\donal\\.virtualenvs\\nodehenge-puq04jya\\lib\\site-packages (from spacy) (3.3.0)\n",
            "Requirement already satisfied: typing-extensions>=4.2.0 in c:\\users\\donal\\.virtualenvs\\nodehenge-puq04jya\\lib\\site-packages (from pydantic!=1.8,!=1.8.1,<1.11.0,>=1.7.4->spacy) (4.7.1)\n",
            "Requirement already satisfied: charset-normalizer<4,>=2 in c:\\users\\donal\\.virtualenvs\\nodehenge-puq04jya\\lib\\site-packages (from requests<3.0.0,>=2.13.0->spacy) (3.2.0)\n",
            "Requirement already satisfied: idna<4,>=2.5 in c:\\users\\donal\\.virtualenvs\\nodehenge-puq04jya\\lib\\site-packages (from requests<3.0.0,>=2.13.0->spacy) (3.4)\n",
            "Requirement already satisfied: urllib3<3,>=1.21.1 in c:\\users\\donal\\.virtualenvs\\nodehenge-puq04jya\\lib\\site-packages (from requests<3.0.0,>=2.13.0->spacy) (2.0.3)\n",
            "Requirement already satisfied: certifi>=2017.4.17 in c:\\users\\donal\\.virtualenvs\\nodehenge-puq04jya\\lib\\site-packages (from requests<3.0.0,>=2.13.0->spacy) (2023.5.7)\n",
            "Requirement already satisfied: blis<0.8.0,>=0.7.8 in c:\\users\\donal\\.virtualenvs\\nodehenge-puq04jya\\lib\\site-packages (from thinc<8.2.0,>=8.1.8->spacy) (0.7.9)\n",
            "Requirement already satisfied: confection<1.0.0,>=0.0.1 in c:\\users\\donal\\.virtualenvs\\nodehenge-puq04jya\\lib\\site-packages (from thinc<8.2.0,>=8.1.8->spacy) (0.1.0)\n",
            "Requirement already satisfied: colorama in c:\\users\\donal\\.virtualenvs\\nodehenge-puq04jya\\lib\\site-packages (from tqdm<5.0.0,>=4.38.0->spacy) (0.4.6)\n",
            "Requirement already satisfied: click<9.0.0,>=7.1.1 in c:\\users\\donal\\.virtualenvs\\nodehenge-puq04jya\\lib\\site-packages (from typer<0.10.0,>=0.3.0->spacy) (8.1.4)\n",
            "Requirement already satisfied: MarkupSafe>=2.0 in c:\\users\\donal\\.virtualenvs\\nodehenge-puq04jya\\lib\\site-packages (from jinja2->spacy) (2.1.3)\n",
            "Note: you may need to restart the kernel to use updated packages.\n"
          ]
        },
        {
          "name": "stderr",
          "output_type": "stream",
          "text": [
            "\n",
            "[notice] A new release of pip is available: 23.1.2 -> 23.2\n",
            "[notice] To update, run: python.exe -m pip install --upgrade pip\n"
          ]
        }
      ],
      "source": [
        "### commented out - rdfpandas not needed?\n",
        "###  %pip install rdfpandas\n",
        "#  %pip install pandas\n",
        "#  %pip install openpyxl\n",
        "%pip install rdflib\n",
        "%pip install -U spacy"
      ]
    },
    {
      "cell_type": "code",
      "execution_count": 43,
      "metadata": {
        "id": "AAwgZO9_i0fR"
      },
      "outputs": [
        {
          "name": "stdout",
          "output_type": "stream",
          "text": [
            "Collecting en-core-web-sm==3.6.0\n",
            "  Downloading https://github.com/explosion/spacy-models/releases/download/en_core_web_sm-3.6.0/en_core_web_sm-3.6.0-py3-none-any.whl (12.8 MB)\n",
            "                                              0.0/12.8 MB ? eta -:--:--\n",
            "     -                                        0.3/12.8 MB 10.2 MB/s eta 0:00:02\n",
            "     --                                       0.7/12.8 MB 10.4 MB/s eta 0:00:02\n",
            "     ---                                      1.0/12.8 MB 9.0 MB/s eta 0:00:02\n",
            "     ----                                     1.3/12.8 MB 9.2 MB/s eta 0:00:02\n",
            "     -----                                    1.6/12.8 MB 9.4 MB/s eta 0:00:02\n",
            "     ------                                   1.9/12.8 MB 9.5 MB/s eta 0:00:02\n",
            "     -------                                  2.3/12.8 MB 9.0 MB/s eta 0:00:02\n",
            "     --------                                 2.6/12.8 MB 9.1 MB/s eta 0:00:02\n",
            "     ---------                                2.9/12.8 MB 9.2 MB/s eta 0:00:02\n",
            "     ----------                               3.2/12.8 MB 8.9 MB/s eta 0:00:02\n",
            "     -----------                              3.5/12.8 MB 9.0 MB/s eta 0:00:02\n",
            "     -----------                              3.5/12.8 MB 9.0 MB/s eta 0:00:02\n",
            "     ------------                             4.0/12.8 MB 8.9 MB/s eta 0:00:01\n",
            "     -------------                            4.4/12.8 MB 8.7 MB/s eta 0:00:01\n",
            "     --------------                           4.7/12.8 MB 8.8 MB/s eta 0:00:01\n",
            "     ---------------                          5.0/12.8 MB 8.9 MB/s eta 0:00:01\n",
            "     ----------------                         5.3/12.8 MB 8.7 MB/s eta 0:00:01\n",
            "     -----------------                        5.7/12.8 MB 8.8 MB/s eta 0:00:01\n",
            "     ------------------                       6.0/12.8 MB 8.9 MB/s eta 0:00:01\n",
            "     -------------------                      6.3/12.8 MB 8.8 MB/s eta 0:00:01\n",
            "     --------------------                     6.6/12.8 MB 8.8 MB/s eta 0:00:01\n",
            "     ---------------------                    7.0/12.8 MB 8.7 MB/s eta 0:00:01\n",
            "     ----------------------                   7.3/12.8 MB 8.8 MB/s eta 0:00:01\n",
            "     -----------------------                  7.6/12.8 MB 8.8 MB/s eta 0:00:01\n",
            "     ------------------------                 8.0/12.8 MB 8.8 MB/s eta 0:00:01\n",
            "     -------------------------                8.3/12.8 MB 8.8 MB/s eta 0:00:01\n",
            "     --------------------------               8.6/12.8 MB 8.9 MB/s eta 0:00:01\n",
            "     ---------------------------              8.9/12.8 MB 8.8 MB/s eta 0:00:01\n",
            "     ----------------------------             9.2/12.8 MB 8.8 MB/s eta 0:00:01\n",
            "     -----------------------------            9.6/12.8 MB 8.9 MB/s eta 0:00:01\n",
            "     ------------------------------           9.9/12.8 MB 8.8 MB/s eta 0:00:01\n",
            "     -------------------------------          10.2/12.8 MB 8.8 MB/s eta 0:00:01\n",
            "     --------------------------------         10.5/12.8 MB 8.8 MB/s eta 0:00:01\n",
            "     ---------------------------------        10.8/12.8 MB 8.7 MB/s eta 0:00:01\n",
            "     ----------------------------------       11.2/12.8 MB 8.7 MB/s eta 0:00:01\n",
            "     -----------------------------------      11.5/12.8 MB 8.7 MB/s eta 0:00:01\n",
            "     ------------------------------------     11.8/12.8 MB 8.7 MB/s eta 0:00:01\n",
            "     -------------------------------------    12.1/12.8 MB 8.7 MB/s eta 0:00:01\n",
            "     --------------------------------------   12.5/12.8 MB 8.7 MB/s eta 0:00:01\n",
            "     ---------------------------------------  12.8/12.8 MB 8.7 MB/s eta 0:00:01\n",
            "     ---------------------------------------  12.8/12.8 MB 8.7 MB/s eta 0:00:01\n",
            "     ---------------------------------------  12.8/12.8 MB 8.7 MB/s eta 0:00:01\n",
            "     ---------------------------------------  12.8/12.8 MB 8.7 MB/s eta 0:00:01\n",
            "     ---------------------------------------  12.8/12.8 MB 8.7 MB/s eta 0:00:01\n",
            "     ---------------------------------------  12.8/12.8 MB 8.7 MB/s eta 0:00:01\n",
            "     ---------------------------------------  12.8/12.8 MB 8.7 MB/s eta 0:00:01\n",
            "     ---------------------------------------  12.8/12.8 MB 8.7 MB/s eta 0:00:01\n",
            "     ---------------------------------------  12.8/12.8 MB 8.7 MB/s eta 0:00:01\n",
            "     ---------------------------------------  12.8/12.8 MB 8.7 MB/s eta 0:00:01\n",
            "     ---------------------------------------  12.8/12.8 MB 8.7 MB/s eta 0:00:01\n",
            "     ---------------------------------------- 12.8/12.8 MB 6.5 MB/s eta 0:00:00\n",
            "Requirement already satisfied: spacy<3.7.0,>=3.6.0 in c:\\users\\donal\\.virtualenvs\\nodehenge-puq04jya\\lib\\site-packages (from en-core-web-sm==3.6.0) (3.6.0)\n",
            "Requirement already satisfied: spacy-legacy<3.1.0,>=3.0.11 in c:\\users\\donal\\.virtualenvs\\nodehenge-puq04jya\\lib\\site-packages (from spacy<3.7.0,>=3.6.0->en-core-web-sm==3.6.0) (3.0.12)\n",
            "Requirement already satisfied: spacy-loggers<2.0.0,>=1.0.0 in c:\\users\\donal\\.virtualenvs\\nodehenge-puq04jya\\lib\\site-packages (from spacy<3.7.0,>=3.6.0->en-core-web-sm==3.6.0) (1.0.4)\n",
            "Requirement already satisfied: murmurhash<1.1.0,>=0.28.0 in c:\\users\\donal\\.virtualenvs\\nodehenge-puq04jya\\lib\\site-packages (from spacy<3.7.0,>=3.6.0->en-core-web-sm==3.6.0) (1.0.9)\n",
            "Requirement already satisfied: cymem<2.1.0,>=2.0.2 in c:\\users\\donal\\.virtualenvs\\nodehenge-puq04jya\\lib\\site-packages (from spacy<3.7.0,>=3.6.0->en-core-web-sm==3.6.0) (2.0.7)\n",
            "Requirement already satisfied: preshed<3.1.0,>=3.0.2 in c:\\users\\donal\\.virtualenvs\\nodehenge-puq04jya\\lib\\site-packages (from spacy<3.7.0,>=3.6.0->en-core-web-sm==3.6.0) (3.0.8)\n",
            "Requirement already satisfied: thinc<8.2.0,>=8.1.8 in c:\\users\\donal\\.virtualenvs\\nodehenge-puq04jya\\lib\\site-packages (from spacy<3.7.0,>=3.6.0->en-core-web-sm==3.6.0) (8.1.10)\n",
            "Requirement already satisfied: wasabi<1.2.0,>=0.9.1 in c:\\users\\donal\\.virtualenvs\\nodehenge-puq04jya\\lib\\site-packages (from spacy<3.7.0,>=3.6.0->en-core-web-sm==3.6.0) (1.1.2)\n",
            "Requirement already satisfied: srsly<3.0.0,>=2.4.3 in c:\\users\\donal\\.virtualenvs\\nodehenge-puq04jya\\lib\\site-packages (from spacy<3.7.0,>=3.6.0->en-core-web-sm==3.6.0) (2.4.6)\n",
            "Requirement already satisfied: catalogue<2.1.0,>=2.0.6 in c:\\users\\donal\\.virtualenvs\\nodehenge-puq04jya\\lib\\site-packages (from spacy<3.7.0,>=3.6.0->en-core-web-sm==3.6.0) (2.0.8)\n",
            "Requirement already satisfied: typer<0.10.0,>=0.3.0 in c:\\users\\donal\\.virtualenvs\\nodehenge-puq04jya\\lib\\site-packages (from spacy<3.7.0,>=3.6.0->en-core-web-sm==3.6.0) (0.9.0)\n",
            "Requirement already satisfied: pathy>=0.10.0 in c:\\users\\donal\\.virtualenvs\\nodehenge-puq04jya\\lib\\site-packages (from spacy<3.7.0,>=3.6.0->en-core-web-sm==3.6.0) (0.10.2)\n",
            "Requirement already satisfied: smart-open<7.0.0,>=5.2.1 in c:\\users\\donal\\.virtualenvs\\nodehenge-puq04jya\\lib\\site-packages (from spacy<3.7.0,>=3.6.0->en-core-web-sm==3.6.0) (6.3.0)\n",
            "Requirement already satisfied: tqdm<5.0.0,>=4.38.0 in c:\\users\\donal\\.virtualenvs\\nodehenge-puq04jya\\lib\\site-packages (from spacy<3.7.0,>=3.6.0->en-core-web-sm==3.6.0) (4.65.0)\n",
            "Requirement already satisfied: numpy>=1.15.0 in c:\\users\\donal\\.virtualenvs\\nodehenge-puq04jya\\lib\\site-packages (from spacy<3.7.0,>=3.6.0->en-core-web-sm==3.6.0) (1.25.0)\n",
            "Requirement already satisfied: requests<3.0.0,>=2.13.0 in c:\\users\\donal\\.virtualenvs\\nodehenge-puq04jya\\lib\\site-packages (from spacy<3.7.0,>=3.6.0->en-core-web-sm==3.6.0) (2.31.0)\n",
            "Requirement already satisfied: pydantic!=1.8,!=1.8.1,<1.11.0,>=1.7.4 in c:\\users\\donal\\.virtualenvs\\nodehenge-puq04jya\\lib\\site-packages (from spacy<3.7.0,>=3.6.0->en-core-web-sm==3.6.0) (1.10.11)\n",
            "Requirement already satisfied: jinja2 in c:\\users\\donal\\.virtualenvs\\nodehenge-puq04jya\\lib\\site-packages (from spacy<3.7.0,>=3.6.0->en-core-web-sm==3.6.0) (3.1.2)\n",
            "Requirement already satisfied: setuptools in c:\\users\\donal\\.virtualenvs\\nodehenge-puq04jya\\lib\\site-packages (from spacy<3.7.0,>=3.6.0->en-core-web-sm==3.6.0) (67.8.0)\n",
            "Requirement already satisfied: packaging>=20.0 in c:\\users\\donal\\.virtualenvs\\nodehenge-puq04jya\\lib\\site-packages (from spacy<3.7.0,>=3.6.0->en-core-web-sm==3.6.0) (23.1)\n",
            "Requirement already satisfied: langcodes<4.0.0,>=3.2.0 in c:\\users\\donal\\.virtualenvs\\nodehenge-puq04jya\\lib\\site-packages (from spacy<3.7.0,>=3.6.0->en-core-web-sm==3.6.0) (3.3.0)\n",
            "Requirement already satisfied: typing-extensions>=4.2.0 in c:\\users\\donal\\.virtualenvs\\nodehenge-puq04jya\\lib\\site-packages (from pydantic!=1.8,!=1.8.1,<1.11.0,>=1.7.4->spacy<3.7.0,>=3.6.0->en-core-web-sm==3.6.0) (4.7.1)\n",
            "Requirement already satisfied: charset-normalizer<4,>=2 in c:\\users\\donal\\.virtualenvs\\nodehenge-puq04jya\\lib\\site-packages (from requests<3.0.0,>=2.13.0->spacy<3.7.0,>=3.6.0->en-core-web-sm==3.6.0) (3.2.0)\n",
            "Requirement already satisfied: idna<4,>=2.5 in c:\\users\\donal\\.virtualenvs\\nodehenge-puq04jya\\lib\\site-packages (from requests<3.0.0,>=2.13.0->spacy<3.7.0,>=3.6.0->en-core-web-sm==3.6.0) (3.4)\n",
            "Requirement already satisfied: urllib3<3,>=1.21.1 in c:\\users\\donal\\.virtualenvs\\nodehenge-puq04jya\\lib\\site-packages (from requests<3.0.0,>=2.13.0->spacy<3.7.0,>=3.6.0->en-core-web-sm==3.6.0) (2.0.3)\n",
            "Requirement already satisfied: certifi>=2017.4.17 in c:\\users\\donal\\.virtualenvs\\nodehenge-puq04jya\\lib\\site-packages (from requests<3.0.0,>=2.13.0->spacy<3.7.0,>=3.6.0->en-core-web-sm==3.6.0) (2023.5.7)\n",
            "Requirement already satisfied: blis<0.8.0,>=0.7.8 in c:\\users\\donal\\.virtualenvs\\nodehenge-puq04jya\\lib\\site-packages (from thinc<8.2.0,>=8.1.8->spacy<3.7.0,>=3.6.0->en-core-web-sm==3.6.0) (0.7.9)\n",
            "Requirement already satisfied: confection<1.0.0,>=0.0.1 in c:\\users\\donal\\.virtualenvs\\nodehenge-puq04jya\\lib\\site-packages (from thinc<8.2.0,>=8.1.8->spacy<3.7.0,>=3.6.0->en-core-web-sm==3.6.0) (0.1.0)\n",
            "Requirement already satisfied: colorama in c:\\users\\donal\\.virtualenvs\\nodehenge-puq04jya\\lib\\site-packages (from tqdm<5.0.0,>=4.38.0->spacy<3.7.0,>=3.6.0->en-core-web-sm==3.6.0) (0.4.6)\n",
            "Requirement already satisfied: click<9.0.0,>=7.1.1 in c:\\users\\donal\\.virtualenvs\\nodehenge-puq04jya\\lib\\site-packages (from typer<0.10.0,>=0.3.0->spacy<3.7.0,>=3.6.0->en-core-web-sm==3.6.0) (8.1.4)\n",
            "Requirement already satisfied: MarkupSafe>=2.0 in c:\\users\\donal\\.virtualenvs\\nodehenge-puq04jya\\lib\\site-packages (from jinja2->spacy<3.7.0,>=3.6.0->en-core-web-sm==3.6.0) (2.1.3)\n",
            "\u001b[38;5;2m✔ Download and installation successful\u001b[0m\n",
            "You can now load the package via spacy.load('en_core_web_sm')\n"
          ]
        },
        {
          "name": "stderr",
          "output_type": "stream",
          "text": [
            "\n",
            "[notice] A new release of pip is available: 23.1.2 -> 23.2\n",
            "[notice] To update, run: python.exe -m pip install --upgrade pip\n"
          ]
        }
      ],
      "source": [
        "!python -m spacy download en_core_web_sm"
      ]
    },
    {
      "cell_type": "code",
      "execution_count": 44,
      "metadata": {
        "id": "bN3cL_Osi0fR"
      },
      "outputs": [],
      "source": [
        "import spacy\n",
        "nlp = spacy.load(\"en_core_web_sm\")"
      ]
    },
    {
      "cell_type": "code",
      "execution_count": 45,
      "metadata": {
        "id": "0Xqwx05JeLaP"
      },
      "outputs": [],
      "source": [
        "# file structure creation\n",
        "from pathlib import Path\n",
        "import os, shutil\n",
        "# create the folder structure in the colab session (colab does not pull this from github when opening the notebook)\n",
        "Path(\"gen\").mkdir(parents=True, exist_ok=True)\n",
        "Path(\"resource\").mkdir(parents=True, exist_ok=True)\n",
        "Path(\"publish/nodehenge.gov\").mkdir(parents=True, exist_ok=True)\n",
        "Path(\"publish/nodehenge.org\").mkdir(parents=True, exist_ok=True)\n",
        "# if accessible (not in colab) copy the ontology into the publish area\n",
        "if os.path.isfile(\"resource/ont.ttl\") : shutil.copy(\"resource/ont.ttl\",\"publish/nodehenge.org/\")"
      ]
    },
    {
      "cell_type": "markdown",
      "metadata": {
        "id": "hqc52ohYUX2q"
      },
      "source": [
        "##   Imports"
      ]
    },
    {
      "cell_type": "code",
      "execution_count": 46,
      "metadata": {
        "id": "n8S3Lkr9UX2q"
      },
      "outputs": [],
      "source": [
        "import numpy as np\n",
        "import pandas as pd\n",
        "import os\n",
        "import re\n",
        "import json"
      ]
    },
    {
      "cell_type": "markdown",
      "metadata": {
        "id": "-SxFF3EBUX2q"
      },
      "source": [
        "### Optional    google  colab   enhancements"
      ]
    },
    {
      "cell_type": "code",
      "execution_count": 47,
      "metadata": {
        "id": "j3A_QUmxUX2r"
      },
      "outputs": [],
      "source": [
        "#optional\n",
        "if 'COLAB_JUPYTER_TOKEN' in os.environ:\n",
        "  from google.colab import data_table\n",
        "  data_table.enable_dataframe_formatter()\n",
        "\n"
      ]
    },
    {
      "cell_type": "markdown",
      "metadata": {
        "id": "q1sXQLGUUX2r"
      },
      "source": [
        "## Source Data Read/Setup"
      ]
    },
    {
      "cell_type": "markdown",
      "metadata": {
        "id": "LgtU0oP9UX2r"
      },
      "source": [
        "### Read dodcio DevSecOpsActivitesToolsGuidebookTables.xlsx"
      ]
    },
    {
      "cell_type": "code",
      "execution_count": 48,
      "metadata": {
        "id": "GM3cl4JMi0fV"
      },
      "outputs": [],
      "source": [
        "def cleanCamel(r):\n",
        "  r = re.sub('\\W|^(?=\\d)','_', r) ## cleans to make a valid identifier\n",
        "  r = re.sub(r\"(_|-|\\n|!)+\", \" \", r).title().replace(\" \", \"\")  ## turns to camel-case\n",
        "  return ''.join([r[0].lower(), r[1:]])"
      ]
    },
    {
      "cell_type": "code",
      "execution_count": 49,
      "metadata": {
        "id": "OAK5AP5LUX2r"
      },
      "outputs": [],
      "source": [
        "sourceURI = \"https://dodcio.defense.gov/Portals/0/Documents/Library/DevSecOpsActivitesToolsGuidebookTables.xlsx\"\n",
        "xls = pd.ExcelFile(sourceURI)"
      ]
    },
    {
      "cell_type": "markdown",
      "metadata": {
        "id": "XjZeS1j7UX2r"
      },
      "source": [
        "### Setup fixed data"
      ]
    },
    {
      "cell_type": "code",
      "execution_count": 50,
      "metadata": {
        "id": "PwZO0RlBUX2s"
      },
      "outputs": [],
      "source": [
        "phaseNames = [ 'Plan',\n",
        " 'Develop',\n",
        " 'Build',\n",
        " 'Test',\n",
        " 'Release',\n",
        " 'Deliver',\n",
        " 'Deploy',\n",
        " 'Operate',\n",
        " 'Monitor',\n",
        " 'Feedback']\n",
        "phaseIDs = list(map(cleanCamel, phaseNames))"
      ]
    },
    {
      "cell_type": "markdown",
      "metadata": {
        "id": "pvkNyFwTUX2s"
      },
      "source": [
        "###  Build phaseActivityDataFrame"
      ]
    },
    {
      "cell_type": "markdown",
      "metadata": {
        "id": "BJ_749-dUX2s"
      },
      "source": [
        "One named worksheet per phase: Pull these into a list of DataFrames, adjusting column names to create valid identifiers. Turn NaN entries into blank strings."
      ]
    },
    {
      "cell_type": "code",
      "execution_count": 51,
      "metadata": {
        "id": "JwYBj7y5UX2s"
      },
      "outputs": [],
      "source": [
        "phaseDataList = []\n",
        "phaseOrder = 0\n",
        "for phName in phaseNames:\n",
        "  df = pd.read_excel(xls,phName)\n",
        "  df = df.rename(columns={\"Activities\":\"Activity\",\n",
        "                     \"Security / Testing / CM\": \"SecurityTestingCM\",\n",
        "                     \"Tool Dependencies\": \"ToolDependency\",\n",
        "                     \"Tool Dependency\": \"ToolDependency\"\n",
        "                     })\n",
        "  # add Phase and order columns - alternative avoid tricky MultiIndex when concatening below\n",
        "  df[\"Phase\"] = phName\n",
        "  df[\"PhaseOrder\"] = phaseOrder\n",
        "  df[\"OrderInPhase\"] = df.index\n",
        "  phaseOrder+=1\n",
        "  #\n",
        "  phaseDataList.append(df.replace(np.nan, \"\"))"
      ]
    },
    {
      "cell_type": "markdown",
      "metadata": {
        "id": "oG1YtjvbUX2s"
      },
      "source": [
        "phaseDataList : list of dataframes :- concatenate into one dataframe"
      ]
    },
    {
      "cell_type": "code",
      "execution_count": 52,
      "metadata": {
        "id": "6A4uBZcni0fZ"
      },
      "outputs": [],
      "source": [
        "phaseActivityDataFrame = pd.concat(phaseDataList)\n",
        "phaseActivityDataFrame.reset_index(drop=True, inplace=True)\n",
        "# MultiIndex example: phaseActivityDataFrame = pd.concat(phaseDataList,keys=phaseNames, names=[\"Phase\",\"IDinPhase\"])"
      ]
    },
    {
      "cell_type": "code",
      "execution_count": 53,
      "metadata": {
        "id": "1otTzdkdi0fZ"
      },
      "outputs": [],
      "source": [
        "phaseActivityDataFrame[\"ActivityIdentifier\"] = phaseActivityDataFrame[\"Activity\"].apply( cleanCamel )"
      ]
    },
    {
      "cell_type": "code",
      "execution_count": 54,
      "metadata": {
        "id": "moFhiHyMi0fZ"
      },
      "outputs": [
        {
          "data": {
            "text/plain": [
              "'{\"schema\":{\"fields\":[{\"name\":\"index\",\"type\":\"integer\"},{\"name\":\"Activity\",\"type\":\"string\"},{\"name\":\"Baseline\",\"type\":\"string\"},{\"name\":\"SSDF\",\"type\":\"string\"},{\"name\":\"Description\",\"type\":\"string\"},{\"name\":\"Inputs\",\"type\":\"string\"},{\"name\":\"Outputs\",\"type\":\"string\"},{\"name\":\"ToolDependency\",\"type\":\"string\"},{\"name\":\"SecurityTestingCM\",\"type\":\"string\"},{\"name\":\"Phase\",\"type\":\"string\"},{\"name\":\"PhaseOrder\",\"type\":\"integer\"},{\"name\":\"OrderInPhase\",\"type\":\"integer\"},{\"name\":\"ActivityIdentifier\",\"type\":\"string\"}],\"primaryKey\":[\"index\"],\"pandas_version\":\"1.4.0\"},\"data\":[{\"index\":0,\"Activity\":\"Change management planning\",\"Baseline\":\"REQUIRED\",\"SSDF\":\"PO.1.1, PS.1.1, PS.3.1, PW.6.1\",\"Description\":\"Plan the change control process\",\"Inputs\":\"Organizational policy;\\\\nSoftware development best practices\",\"Outputs\":\"Change control procedures;\\\\nReview procedures;\\\\nControl review board;\\\\nChange management plan\",\"ToolDependency\":\"Team collaboration system;\\\\nIssue tracking system\",\"SecurityTestingCM\":\"\",\"Phase\":\"Plan\",\"PhaseOrder\":0,\"OrderInPhase\":0,\"ActivityIdentifier\":\"changeManagementPlanning\"},{\"index\":1,\"Activity\":\"Configuration identification\",\"Baseline\":\"REQUIRED\",\"SSDF\":\"PO.2.1, PS.1.1, PW.2.1, PW.4.1, PW.4.2, PW.6.2\",\"Description\":\"Discover or manual input configuration items into CMDB;\\\\nEstablish system baselines\",\"Inputs\":\"IT infrastructure asset;\\\\nSoftware system components (include DevSecOps tools);\\\\ncode baselines;\\\\ndocument baselines\",\"Outputs\":\"Configuration items\",\"ToolDependency\":\"CMDB;\\\\nSource code repository;\\\\nArtifact repository;\\\\nTeam collaboration system\",\"SecurityTestingCM\":\"Configuration Management\",\"Phase\":\"Plan\",\"PhaseOrder\":0,\"OrderInPhase\":1,\"ActivityIdentifier\":\"configurationIdentification\"},{\"index\":2,\"Activity\":\"Configuration management (CM) planning\",\"Baseline\":\"REQUIRED\",\"SSDF\":\"PO.3.1, PO.3.3, PO.4.1, PO.4.2, PW.2.1\",\"Description\":\"Plan the configuration control process;\\\\nIdentify configurations items\",\"Inputs\":\"Software development, security and operations best practice;\\\\nIT infrastructure asset;\\\\nSoftware system components\",\"Outputs\":\"CM processes and plan;\\\\nCM tool selection;\\\\nResponsible configuration items;\\\\nTagging strategy\",\"ToolDependency\":\"Team collaboration system;\\\\nIssue tracking system\",\"SecurityTestingCM\":\"Configuration Management\",\"Phase\":\"Plan\",\"PhaseOrder\":0,\"OrderInPhase\":2,\"ActivityIdentifier\":\"configurationManagementCmPlanning\"},{\"index\":3,\"Activity\":\"Database design\",\"Baseline\":\"PREFERRED\",\"SSDF\":\"PO.1.2, PO.3.1, PO.5.2, PW.1.1, PW.5.1\",\"Description\":\"Data modeling; \\\\nDatabase selection;\\\\nDatabase deployment topology\",\"Inputs\":\"System requirement;\\\\nSystem design\",\"Outputs\":\"- Database design document\\\\n- \",\"ToolDependency\":\"Data modeling tool;\\\\nTeams collaboration system\",\"SecurityTestingCM\":\"\",\"Phase\":\"Plan\",\"PhaseOrder\":0,\"OrderInPhase\":3,\"ActivityIdentifier\":\"databaseDesign\"},{\"index\":4,\"Activity\":\"Design review\",\"Baseline\":\"PREFERRED\",\"SSDF\":\"PO.1.2, PW.1.2, PW.2.1, PW.8.2, RV.2.2\",\"Description\":\"Review and approve plans and documents\",\"Inputs\":\"Plans and design documents;\",\"Outputs\":\"Review comments;\\\\nAction items\",\"ToolDependency\":\"Team collaboration system\",\"SecurityTestingCM\":\"Configuration Management\",\"Phase\":\"Plan\",\"PhaseOrder\":0,\"OrderInPhase\":4,\"ActivityIdentifier\":\"designReview\"},{\"index\":5,\"Activity\":\"DevSecOps process design\",\"Baseline\":\"REQUIRED\",\"SSDF\":\"PO.1.1\",\"Description\":\"Design the DevSecOps process workflows that are specific to this project\",\"Inputs\":\"Change management process;\\\\nSystem design;\\\\nRelease plan & schedule\",\"Outputs\":\"DevSecOps process flow chart;\\\\nDevSecOps ecosystem tool selection;\\\\nDeployment platform selection\",\"ToolDependency\":\"Team collaboration system\",\"SecurityTestingCM\":\"\",\"Phase\":\"Plan\",\"PhaseOrder\":0,\"OrderInPhase\":5,\"ActivityIdentifier\":\"devsecopsProcessDesign\"},{\"index\":6,\"Activity\":\"Documentation version control\",\"Baseline\":\"REQUIRED\",\"SSDF\":\"PO.1.1, PO.1.2, PO.1.3, PS.1.1\",\"Description\":\"Track design changes\",\"Inputs\":\"Plans and design documents;\",\"Outputs\":\"Version controlled documents\",\"ToolDependency\":\"Team collaboration system\",\"SecurityTestingCM\":\"Configuration Management\",\"Phase\":\"Plan\",\"PhaseOrder\":0,\"OrderInPhase\":6,\"ActivityIdentifier\":\"documentationVersionControl\"},{\"index\":7,\"Activity\":\"IaC deployment\",\"Baseline\":\"REQUIRED\",\"SSDF\":\"PO.3.2, PO.3.3\",\"Description\":\"Deploy infrastructure and set up environment using Infrastructure as Code\",\"Inputs\":\"Artifacts (Infrastructure as Code)\\\\nInfrastructure as Code\",\"Outputs\":\"The environment ready\",\"ToolDependency\":\"Configuration automation tool;\\\\nIaC\",\"SecurityTestingCM\":\"\",\"Phase\":\"Plan\",\"PhaseOrder\":0,\"OrderInPhase\":7,\"ActivityIdentifier\":\"iacDeployment\"},{\"index\":8,\"Activity\":\"Mission-Based Cyber Risk Assessments\",\"Baseline\":\"REQUIRED\",\"SSDF\":\"PW.7.2, RV.1.1, RV.1.2, RV.2.1, RV.3.1, RV.3.2, RV.3.3, \",\"Description\":\"An assessment of risks based upon the stated mission of the system or platform\",\"Inputs\":\"NIST 800-53 RMF Control Implementations\\\\nFIPS 199 system categorization\\\\nInformation types\",\"Outputs\":\"Risk assessment\",\"ToolDependency\":\"Risk assessment tool\",\"SecurityTestingCM\":\"Security\",\"Phase\":\"Plan\",\"PhaseOrder\":0,\"OrderInPhase\":8,\"ActivityIdentifier\":\"missionBasedCyberRiskAssessments\"},{\"index\":9,\"Activity\":\"Project\\\\/Release planning\",\"Baseline\":\"REQUIRED\",\"SSDF\":\"PS.3.1, PS.3.2\",\"Description\":\"Project task management\\\\nRelease planning\",\"Inputs\":\"Project charter\\\\nProject constraints\",\"Outputs\":\"Project Plan\\\\nTask plan & schedule\\\\nRelease plan & schedule\",\"ToolDependency\":\"Team collaboration system;\\\\nProject management system\",\"SecurityTestingCM\":\"\",\"Phase\":\"Plan\",\"PhaseOrder\":0,\"OrderInPhase\":9,\"ActivityIdentifier\":\"projectReleasePlanning\"},{\"index\":10,\"Activity\":\"Project team onboarding planning\",\"Baseline\":\"REQUIRED\",\"SSDF\":\"PO.2.1, PO.2.2, PO.2.3\",\"Description\":\"Plan the project team onboarding process, interface, access control policy\",\"Inputs\":\"Organization policy\",\"Outputs\":\"Onboarding plan\",\"ToolDependency\":\"Team collaboration system\",\"SecurityTestingCM\":\"\",\"Phase\":\"Plan\",\"PhaseOrder\":0,\"OrderInPhase\":10,\"ActivityIdentifier\":\"projectTeamOnboardingPlanning\"},{\"index\":11,\"Activity\":\"Risk management\",\"Baseline\":\"REQUIRED\",\"SSDF\":\"PO.1.2, PO.3.1, PO.4.1, PW.1.1, PW.1.2, PW.2.1, RV.2.1\",\"Description\":\"Risk assessment\",\"Inputs\":\"System architecture;\\\\nSupply chain information;\\\\nSecurity risks\",\"Outputs\":\"Risk management plan\",\"ToolDependency\":\"Team collaboration system;\",\"SecurityTestingCM\":\"\",\"Phase\":\"Plan\",\"PhaseOrder\":0,\"OrderInPhase\":11,\"ActivityIdentifier\":\"riskManagement\"},{\"index\":12,\"Activity\":\"Software requirement analysis\",\"Baseline\":\"REQUIRED\",\"SSDF\":\"PO.1.1, PO.1.2, PO.1.3\",\"Description\":\"Gather the requirements from all stakeholders\",\"Inputs\":\"Stakeholder inputs or feedback;\\\\nOperation monitoring feedback;\\\\nTest feedback\",\"Outputs\":\"Requirements Documents:\\\\n- Feature requirements\\\\n- Performance requirements\\\\n- Privacy requirements\\\\n- Security requirments\",\"ToolDependency\":\"Requirements tool;\\\\nTeam collaboration system;\\\\nIssue Tracking system\",\"SecurityTestingCM\":\"\",\"Phase\":\"Plan\",\"PhaseOrder\":0,\"OrderInPhase\":12,\"ActivityIdentifier\":\"softwareRequirementAnalysis\"},{\"index\":13,\"Activity\":\"System design\",\"Baseline\":\"REQUIRED\",\"SSDF\":\"PO.1.1, PO.1.2, PO.1.3\",\"Description\":\"Design the system based on the requirements\",\"Inputs\":\"Requirements database or documents\",\"Outputs\":\"System Design Documents:\\\\n- System architecture\\\\n- Functional design\\\\n- Data flow diagrams\\\\n- Acceptance Criteria\\\\n- Infrastructure configuration plan\\\\n- Tool selections\\\\n- Ecosystem Tools:\\\\n- Development tool\\\\n- Test Tool\\\\n- Deployment platform\",\"ToolDependency\":\"Team collaboration system;\\\\nIssue tracking system;\\\\nSoftware system design tools\",\"SecurityTestingCM\":\"\",\"Phase\":\"Plan\",\"PhaseOrder\":0,\"OrderInPhase\":13,\"ActivityIdentifier\":\"systemDesign\"},{\"index\":14,\"Activity\":\"Test Audit\",\"Baseline\":\"REQUIRED\",\"SSDF\":\"PO.2.1, \\\\nPS 2.1, PW.1.2, PW.2.1\",\"Description\":\"Test audit keeps who performs what test at what time and test results in records\",\"Inputs\":\"Test activity and test results\",\"Outputs\":\"Test audit log\",\"ToolDependency\":\"Test management tool\",\"SecurityTestingCM\":\"Testing\",\"Phase\":\"Plan\",\"PhaseOrder\":0,\"OrderInPhase\":14,\"ActivityIdentifier\":\"testAudit\"},{\"index\":15,\"Activity\":\"Test Deployment\",\"Baseline\":\"REQUIRED\",\"SSDF\":\"PW.1.3\",\"Description\":\"Deploy test infrastructure\",\"Inputs\":\"Test environment applications and infrastructure\",\"Outputs\":\"Test environment instrumentation\",\"ToolDependency\":\"Testing tool, Team collaboration system\",\"SecurityTestingCM\":\"Testing\",\"Phase\":\"Plan\",\"PhaseOrder\":0,\"OrderInPhase\":15,\"ActivityIdentifier\":\"testDeployment\"},{\"index\":16,\"Activity\":\"Test Plan\",\"Baseline\":\"REQUIRED\",\"SSDF\":\"PO.1.1, PO.1.2, PO.1.3, PW.8.1, PW.8.2\",\"Description\":\"Plan testing, including validating Acceptance Criteria, specifying Component Tests, Component integration Tests, and Software Integration Tests\",\"Inputs\":\"Requirements database or documents, system design\",\"Outputs\":\"Test plans\",\"ToolDependency\":\"Testing tool, Team collaboration system\",\"SecurityTestingCM\":\"Testing\",\"Phase\":\"Plan\",\"PhaseOrder\":0,\"OrderInPhase\":16,\"ActivityIdentifier\":\"testPlan\"},{\"index\":17,\"Activity\":\"Threat modeling\",\"Baseline\":\"PREFERRED\",\"SSDF\":\"PW.1.1, PW.2.1, RV.2.1\",\"Description\":\"Identify potential threats, weaknesses and vulnerabilities. Define the mitigation plan\",\"Inputs\":\"System design\",\"Outputs\":\"Potential threats and mitigation plan\",\"ToolDependency\":\"Threat modeling tool\",\"SecurityTestingCM\":\"Security\",\"Phase\":\"Plan\",\"PhaseOrder\":0,\"OrderInPhase\":17,\"ActivityIdentifier\":\"threatModeling\"},{\"index\":18,\"Activity\":\"Application code development\",\"Baseline\":\"PREFERRED\",\"SSDF\":\"PO.1.2, PO.3.1\",\"Description\":\"Application coding\",\"Inputs\":\"Developer coding and appropriate unit, integration, etc. testing input\",\"Outputs\":\"Source code & test results\",\"ToolDependency\":\"IDE\",\"SecurityTestingCM\":\"\",\"Phase\":\"Develop\",\"PhaseOrder\":1,\"OrderInPhase\":0,\"ActivityIdentifier\":\"applicationCodeDevelopment\"},{\"index\":19,\"Activity\":\"Code commit\",\"Baseline\":\"REQUIRED\",\"SSDF\":\"PS.1.1, PW.4.4\",\"Description\":\"Commit source code into version control system\",\"Inputs\":\"Source code\",\"Outputs\":\"Version controlled source code\",\"ToolDependency\":\"Source code repository\",\"SecurityTestingCM\":\"Configuration Management\",\"Phase\":\"Develop\",\"PhaseOrder\":1,\"OrderInPhase\":1,\"ActivityIdentifier\":\"codeCommit\"},{\"index\":20,\"Activity\":\"Code Commit Logging\",\"Baseline\":\"REQUIRED\",\"SSDF\":\"PO.3.1, PO.3.3, PO.5.1, PO.5.2\",\"Description\":\"Logging of successful code commits, or analysis of rejected commits, which will have benefits to security and insider threat protections\",\"Inputs\":\"- Review Comments\\\\n- Source Code Weakness Findings\\\\n- Version-Controlled Source Code\\\\n- Security Findings and Warnings\",\"Outputs\":\"Code Commit Log\",\"ToolDependency\":\"Logging tool\",\"SecurityTestingCM\":\"\",\"Phase\":\"Develop\",\"PhaseOrder\":1,\"OrderInPhase\":2,\"ActivityIdentifier\":\"codeCommitLogging\"},{\"index\":21,\"Activity\":\"Code commit scan\",\"Baseline\":\"REQUIRED\",\"SSDF\":\"RV.1.2\",\"Description\":\"Check the changes for sensitive information before pushing the changes to the main repository.\\\\nIf it finds suspicious content, it notifies the developer and blocks the commit.\",\"Inputs\":\"Locally committed source code\",\"Outputs\":\"Security findings and warnings\",\"ToolDependency\":\"Source code repository security plugin\",\"SecurityTestingCM\":\"Security\",\"Phase\":\"Develop\",\"PhaseOrder\":1,\"OrderInPhase\":3,\"ActivityIdentifier\":\"codeCommitScan\"},{\"index\":22,\"Activity\":\"Code review\",\"Baseline\":\"PREFERRED\",\"SSDF\":\"PW.7.1, PW.7.2\",\"Description\":\"Perform code review to all source code. Note that pair programming counts.\",\"Inputs\":\"Source code\",\"Outputs\":\"Review comments\",\"ToolDependency\":\"Code quality review tool\",\"SecurityTestingCM\":\"Configuration Management\",\"Phase\":\"Develop\",\"PhaseOrder\":1,\"OrderInPhase\":4,\"ActivityIdentifier\":\"codeReview\"},{\"index\":23,\"Activity\":\"Component Test\",\"Baseline\":\"PREFERRED\",\"SSDF\":\"RV.8.1, RV.8.2\",\"Description\":\"Closed-box testing, evaluating the behavior of the program without considering the details of the underlying code\",\"Inputs\":\"Test plan\\\\nTest cases\\\\nTest data\",\"Outputs\":\"Test results\",\"ToolDependency\":\"Test tool suite, \\\\nTest coverage tool\",\"SecurityTestingCM\":\"Testing\",\"Phase\":\"Develop\",\"PhaseOrder\":1,\"OrderInPhase\":5,\"ActivityIdentifier\":\"componentTest\"},{\"index\":24,\"Activity\":\"Database Component Test\",\"Baseline\":\"REQUIRED\",\"SSDF\":\"RV.8.1, RV.8.2\",\"Description\":\"Closed-box database testing, evaluating the behavior of the database without considering the details of the underlying code\",\"Inputs\":\"Test plan\\\\nTest cases\\\\nTest data\",\"Outputs\":\"Test results\",\"ToolDependency\":\"Test tool suite, \\\\nTest coverage tool\",\"SecurityTestingCM\":\"Testing\",\"Phase\":\"Develop\",\"PhaseOrder\":1,\"OrderInPhase\":6,\"ActivityIdentifier\":\"databaseComponentTest\"},{\"index\":25,\"Activity\":\"Database development\",\"Baseline\":\"PREFERRED\",\"SSDF\":\"PO.3.1\",\"Description\":\"Implement the data model using data definition language or data structure supported by the database;\\\\nImplement triggers, views or applicable scripts;\\\\nImplement test scripts, test data generation scripts.\",\"Inputs\":\"Data model\",\"Outputs\":\"Database artifacts (including data definition, triggers, view definitions, test data, test data generation scripts, test scripts, etc.)\",\"ToolDependency\":\"IDE or tools come with the database software\",\"SecurityTestingCM\":\"\",\"Phase\":\"Develop\",\"PhaseOrder\":1,\"OrderInPhase\":7,\"ActivityIdentifier\":\"databaseDevelopment\"},{\"index\":26,\"Activity\":\"Database functional test (optional)\",\"Baseline\":\"PREFERRED\",\"SSDF\":\"PW.8.1, PW.8.2\",\"Description\":\"Perform unit test and functional test to database to verify the data definition, triggers, constrains are implemented as expected\",\"Inputs\":\"- Test data;\\\\n- Test Scenarios\",\"Outputs\":\"Test results\",\"ToolDependency\":\"Database test tools\",\"SecurityTestingCM\":\"Testing\",\"Phase\":\"Develop\",\"PhaseOrder\":1,\"OrderInPhase\":8,\"ActivityIdentifier\":\"databaseFunctionalTestOptional\"},{\"index\":27,\"Activity\":\"Documentation\",\"Baseline\":\"REQUIRED\",\"SSDF\":\"PO.1.1, PO.1.2, PO.1.3, PW.7.2\",\"Description\":\"Detailed implementation documentation\",\"Inputs\":\"- User input;\\\\n- Developed Source Code\",\"Outputs\":\"- Documentation;\\\\n- Auto generated Application Programming Interface (API) documentation\",\"ToolDependency\":\"IDE or document editor or build tool\",\"SecurityTestingCM\":\"\",\"Phase\":\"Develop\",\"PhaseOrder\":1,\"OrderInPhase\":9,\"ActivityIdentifier\":\"documentation\"},{\"index\":28,\"Activity\":\"Dynamic analysis\",\"Baseline\":\"PREFERRED\",\"SSDF\":\"RV.1.2, RV.2.1, RV.3.1, RV.3.2, RV.3.3\",\"Description\":\"Dynamic code analysis involves running code and examining the outcome.\",\"Inputs\":\"Source code, fuzz data\",\"Outputs\":\"Various outcomes depending on the code execution\",\"ToolDependency\":\"Dynamic code analysis tool\",\"SecurityTestingCM\":\"Testing\",\"Phase\":\"Develop\",\"PhaseOrder\":1,\"OrderInPhase\":10,\"ActivityIdentifier\":\"dynamicAnalysis\"},{\"index\":29,\"Activity\":\"Functional test\",\"Baseline\":\"REQUIRED\",\"SSDF\":\"PW.8.1, PW.8.2\",\"Description\":\"Functional tests determine if code is acting in accordance with the pre-determined requirements.\",\"Inputs\":\"- Test data;\\\\n- Test Scenarios\",\"Outputs\":\"Text results\",\"ToolDependency\":\"Functional testing tool\",\"SecurityTestingCM\":\"Testing\",\"Phase\":\"Develop\",\"PhaseOrder\":1,\"OrderInPhase\":11,\"ActivityIdentifier\":\"functionalTest\"},{\"index\":30,\"Activity\":\"Infrastructure code development\",\"Baseline\":\"PREFERRED\",\"SSDF\":\"PO.5.1, PW.8.2, PW.9.1\",\"Description\":\"System components and infrastructure orchestration coding\\\\nIndividual component configuration script coding.  Includes Database deploy and high availability configuration\",\"Inputs\":\"Developer coding and appropriate unit, integration, etc. testing input\",\"Outputs\":\"Source code & test results\",\"ToolDependency\":\"IDE\",\"SecurityTestingCM\":\"\",\"Phase\":\"Develop\",\"PhaseOrder\":1,\"OrderInPhase\":12,\"ActivityIdentifier\":\"infrastructureCodeDevelopment\"},{\"index\":31,\"Activity\":\"Mission Based Cyber Risk Assessments\",\"Baseline\":\"REQUIRED\",\"SSDF\":\"PW.7.2, RV.1.1, RV.1.2, RV.2.1, RV.3.1, RV.3.2, RV.3.3, \",\"Description\":\"An assessment of risks based upon the stated mission of the system or platform\",\"Inputs\":\"NIST 800-53 RMF Control Implementations\\\\nFIPS 199 system categorization\\\\nInformation types\\\\nCNSSI 1253\",\"Outputs\":\"Risk assessment\",\"ToolDependency\":\"Risk assessment tool\",\"SecurityTestingCM\":\"Security\",\"Phase\":\"Develop\",\"PhaseOrder\":1,\"OrderInPhase\":13,\"ActivityIdentifier\":\"missionBasedCyberRiskAssessments\"},{\"index\":32,\"Activity\":\"Security code development\",\"Baseline\":\"REQUIRED\",\"SSDF\":\"PO.1.2, PW.5.1, PW.6.1, PW.6.2\",\"Description\":\"Security policy enforcement script coding\",\"Inputs\":\"Developer coding and appropriate unit, integration, etc. testing input\",\"Outputs\":\"Source code & test results\",\"ToolDependency\":\"IDE\",\"SecurityTestingCM\":\"Security\",\"Phase\":\"Develop\",\"PhaseOrder\":1,\"OrderInPhase\":14,\"ActivityIdentifier\":\"securityCodeDevelopment\"},{\"index\":33,\"Activity\":\"Service functional test\",\"Baseline\":\"PREFERRED\",\"SSDF\":\"PW.8.1, PW.8.2\",\"Description\":\"Perform unit test and functional test to services \",\"Inputs\":\"- Test data;\\\\n- Test Scenarios\",\"Outputs\":\"Test results\",\"ToolDependency\":\"Service testing tool\",\"SecurityTestingCM\":\"Testing\",\"Phase\":\"Develop\",\"PhaseOrder\":1,\"OrderInPhase\":15,\"ActivityIdentifier\":\"serviceFunctionalTest\"},{\"index\":34,\"Activity\":\"Static analysis\",\"Baseline\":\"REQUIRED\",\"SSDF\":\"RV.1.2, RV.2.1, RV.3.1, RV.3.2, RV.3.3\",\"Description\":\"Static code analysis examines code to identify issues within the logic and techniques.\",\"Inputs\":\"Source code\",\"Outputs\":\"Static code analysis report\",\"ToolDependency\":\"Static code analysis tool\",\"SecurityTestingCM\":\"Testing\",\"Phase\":\"Develop\",\"PhaseOrder\":1,\"OrderInPhase\":16,\"ActivityIdentifier\":\"staticAnalysis\"},{\"index\":35,\"Activity\":\"Static code scan before commit\",\"Baseline\":\"REQUIRED\",\"SSDF\":\"PW.7.1, PW.7.2\",\"Description\":\"Scan and analyze the code as the developer writes it. Notify developers of potential code weakness and suggest remediation.\",\"Inputs\":\"Source code; known weaknesses\",\"Outputs\":\"source code weakness findings\",\"ToolDependency\":\"IDE security plugins\",\"SecurityTestingCM\":\"Security\",\"Phase\":\"Develop\",\"PhaseOrder\":1,\"OrderInPhase\":17,\"ActivityIdentifier\":\"staticCodeScanBeforeCommit\"},{\"index\":36,\"Activity\":\"Test Audit\",\"Baseline\":\"REQUIRED\",\"SSDF\":\"PO.2.1, \\\\nPS 2.1, PW.1.2, PW.2.1\",\"Description\":\"Test audit keeps who performs what test at what time and test results in records\",\"Inputs\":\"Test activity and test results\",\"Outputs\":\"Test audit log\",\"ToolDependency\":\"Test management tool\",\"SecurityTestingCM\":\"Testing\",\"Phase\":\"Develop\",\"PhaseOrder\":1,\"OrderInPhase\":18,\"ActivityIdentifier\":\"testAudit\"},{\"index\":37,\"Activity\":\"Test development\",\"Baseline\":\"REQUIRED\",\"SSDF\":\"PW.9.1, PW.8.2\",\"Description\":\"Develop detailed test procedures, test data, test scripts, test scenario configuration on the specific test tool\",\"Inputs\":\"Test plan\",\"Outputs\":\"Test procedure document;\\\\nTest data file;\\\\nTest scripts\",\"ToolDependency\":\"IDE;\\\\nSpecific test tool\",\"SecurityTestingCM\":\"Testing\",\"Phase\":\"Develop\",\"PhaseOrder\":1,\"OrderInPhase\":19,\"ActivityIdentifier\":\"testDevelopment\"},{\"index\":38,\"Activity\":\"Unit test\",\"Baseline\":\"REQUIRED\",\"SSDF\":\"PW.8.1, PW.8.2\",\"Description\":\"Assist unit test script development and unit test execution. It is typically language specific. Whenever possible, the unit test should be automated.\",\"Inputs\":\"Unit test script, individual software unit under test (a function, method or an interface), test input data, and expected output data\",\"Outputs\":\"Test report to determine whether the individual software unit performs as designed.\",\"ToolDependency\":\"Test tool suite, \\\\nTest coverage tool\",\"SecurityTestingCM\":\"Testing\",\"Phase\":\"Develop\",\"PhaseOrder\":1,\"OrderInPhase\":20,\"ActivityIdentifier\":\"unitTest\"},{\"index\":39,\"Activity\":\"API Security Tests\",\"Baseline\":\"REQUIRED\",\"SSDF\":\"PO.3.2, \\\\nPO.4.1, \\\\nPW.1.3, \\\\nPW.4.4, \\\\nRV1.2\",\"Description\":\"Closed-box test, evaluating the Application Programming Interfaces\\' compliance with security requirements\",\"Inputs\":\"Executable system\\\\/application\\\\nTest Plan\\\\nTest Cases\\\\nTest data\",\"Outputs\":\"Test results\",\"ToolDependency\":\"Test tool suite\",\"SecurityTestingCM\":\"Security\",\"Phase\":\"Build\",\"PhaseOrder\":2,\"OrderInPhase\":0,\"ActivityIdentifier\":\"apiSecurityTests\"},{\"index\":40,\"Activity\":\"Build\",\"Baseline\":\"REQUIRED\",\"SSDF\":\"PO.3.1, \\\\nPO.3.2, \\\\nPO.3.3, \\\\nPO.4.1\",\"Description\":\"Compile and link\",\"Inputs\":\"Source code;\\\\ndependencies\",\"Outputs\":\"Binary artifacts\\\\nBuild Report\",\"ToolDependency\":\"Build tool;\\\\nLint tool;\\\\nArtifact repository\",\"SecurityTestingCM\":\"\",\"Phase\":\"Build\",\"PhaseOrder\":2,\"OrderInPhase\":1,\"ActivityIdentifier\":\"build\"},{\"index\":41,\"Activity\":\"Build configuration control and audit\",\"Baseline\":\"REQUIRED\",\"SSDF\":\"PS 3.2\",\"Description\":\"Track build results, SAST and dependency checking report;\\\\n\",\"Inputs\":\"Build results;\\\\nSAST report;\\\\nDependency checking report\",\"Outputs\":\"Version controlled build report; \\\\nAction items;\\\\nGo\\\\/no-go decision\",\"ToolDependency\":\"Team collaboration system;\\\\nIssue tracking system;\\\\nCI\\\\/CD orchestrator\",\"SecurityTestingCM\":\"Configuration Management\",\"Phase\":\"Build\",\"PhaseOrder\":2,\"OrderInPhase\":2,\"ActivityIdentifier\":\"buildConfigurationControlAndAudit\"},{\"index\":42,\"Activity\":\"Component Test\",\"Baseline\":\"REQUIRED\",\"SSDF\":\"RV.8.1, \\\\nRV.8.2\",\"Description\":\"Closed-box testing, evaluating the behavior of the program without considering the details of the underlying code\",\"Inputs\":\"Test plan\\\\nTest cases\\\\nTest data\",\"Outputs\":\"Test results\",\"ToolDependency\":\"Test tool suite, \\\\nTest coverage tool\",\"SecurityTestingCM\":\"Testing\",\"Phase\":\"Build\",\"PhaseOrder\":2,\"OrderInPhase\":3,\"ActivityIdentifier\":\"componentTest\"},{\"index\":43,\"Activity\":\"Dependency vulnerability checking\",\"Baseline\":\"REQUIRED\",\"SSDF\":\"PO.3.1, \\\\nPO.3.2, \\\\nPW.4.4, \\\\nRV.1.1, \\\\nRV.1.2, \\\\nRV.1.3\",\"Description\":\"Identify vulnerabilities in the open source dependent components\",\"Inputs\":\"Dependency list or BOM list\",\"Outputs\":\"Vulnerability report\",\"ToolDependency\":\"Dependency checking \\\\/ BOM checking tool\",\"SecurityTestingCM\":\"Security\",\"Phase\":\"Build\",\"PhaseOrder\":2,\"OrderInPhase\":4,\"ActivityIdentifier\":\"dependencyVulnerabilityChecking\"},{\"index\":44,\"Activity\":\"Functional test\",\"Baseline\":\"REQUIRED\",\"SSDF\":\"PW.8.1, \\\\nPW.8.2\",\"Description\":\"Functional tests determine if code is acting in accordance with the pre-determined requirements.\",\"Inputs\":\"Test plan; Requirement documents and\\\\/or database; Acceptance criteria\",\"Outputs\":\"Functional test scripts, the software units under test, test input, and expected output data\",\"ToolDependency\":\"Test report documenting the performance of the integrated unit.\",\"SecurityTestingCM\":\"Testing\",\"Phase\":\"Build\",\"PhaseOrder\":2,\"OrderInPhase\":5,\"ActivityIdentifier\":\"functionalTest\"},{\"index\":45,\"Activity\":\"Integration test\",\"Baseline\":\"REQUIRED\",\"SSDF\":\"PW.8.1, \\\\nPW.8.2\",\"Description\":\"Develops the integration test scripts and execute the scripts to test one or more software units as a group with the interaction between the units as the focus.\",\"Inputs\":\"Test plan; Requirement documents and\\\\/or database; Acceptance criteria; APIs for integrated systems\",\"Outputs\":\"Integration test scripts, the software units under test, test input data, and expected output data\",\"ToolDependency\":\"Test results documenting the functioning of the system.\",\"SecurityTestingCM\":\"Testing\",\"Phase\":\"Build\",\"PhaseOrder\":2,\"OrderInPhase\":6,\"ActivityIdentifier\":\"integrationTest\"},{\"index\":46,\"Activity\":\"Mission Based Cyber Risk Assessments\",\"Baseline\":\"REQUIRED\",\"SSDF\":\"PW.7.2, \\\\nRV.1.1,\\\\nRV.1.2, \\\\nRV.2.1, \\\\nRV.3.1, \\\\nRV.3.2, \\\\nRV.3.3, \",\"Description\":\"An assessment of risks based upon the stated mission of the system or platform\",\"Inputs\":\"NIST 800-53 RMF Control Implementations\\\\nFIPS 199 system categorization\\\\nInformation types\\\\nCNSSI 1253\",\"Outputs\":\"Risk assessment\",\"ToolDependency\":\"Risk assessment tool\",\"SecurityTestingCM\":\"Security\",\"Phase\":\"Build\",\"PhaseOrder\":2,\"OrderInPhase\":7,\"ActivityIdentifier\":\"missionBasedCyberRiskAssessments\"},{\"index\":47,\"Activity\":\"Regression Test (includes smoke tests)\",\"Baseline\":\"REQUIRED\",\"SSDF\":\"RV.8.1, \\\\nRV.8.2\",\"Description\":\"Regression testing is re-running functional and non-functional tests to ensure that previously developed and tested software still performs as expected after a change.\",\"Inputs\":\"Test plan,\\\\nTest cases,\\\\nTest data\",\"Outputs\":\"Test results\",\"ToolDependency\":\"Test management tool\",\"SecurityTestingCM\":\"Testing\",\"Phase\":\"Build\",\"PhaseOrder\":2,\"OrderInPhase\":8,\"ActivityIdentifier\":\"regressionTestIncludesSmokeTests\"},{\"index\":48,\"Activity\":\"Release packaging\",\"Baseline\":\"REQUIRED\",\"SSDF\":\"PS.2.1, \\\\nPS.3.1, \\\\nPS.3.2\",\"Description\":\"Package binary artifacts, VM images, infrastructure configuration scripts, proper test scripts, documentation, checksum, digital signatures, and release notes as a package.\",\"Inputs\":\"Binary artifacts;\\\\nScripts;\\\\nDocumentation;\\\\nRelease notes\",\"Outputs\":\"Released package with checksum and digital signature\",\"ToolDependency\":\"Release packaging tool\",\"SecurityTestingCM\":\"\",\"Phase\":\"Build\",\"PhaseOrder\":2,\"OrderInPhase\":9,\"ActivityIdentifier\":\"releasePackaging\"},{\"index\":49,\"Activity\":\"Software Integration Test\",\"Baseline\":\"REQUIRED\",\"SSDF\":\"RV.8.1, \\\\nRV.8.2\",\"Description\":\"Tests where\\\\u00a0individual\\\\u00a0software\\\\u00a0modules are combined and tested as a group\",\"Inputs\":\"Test plan,\\\\nTest cases,\\\\nTest data\",\"Outputs\":\"Test results\",\"ToolDependency\":\"Test management tool\",\"SecurityTestingCM\":\"Testing\",\"Phase\":\"Build\",\"PhaseOrder\":2,\"OrderInPhase\":10,\"ActivityIdentifier\":\"softwareIntegrationTest\"},{\"index\":50,\"Activity\":\"Static application security test and scan\",\"Baseline\":\"REQUIRED\",\"SSDF\":\"PO.3.1, \\\\nPO.3.2, \\\\nPO.3.3, \\\\nPO.4.1, \\\\nPO.4.2\",\"Description\":\"Perform SAST to the software system\",\"Inputs\":\"Source code; known vulnerabilities and weaknesses\",\"Outputs\":\"Static code scan report and recommended mitigation.\",\"ToolDependency\":\"SAST tool\",\"SecurityTestingCM\":\"Security\",\"Phase\":\"Build\",\"PhaseOrder\":2,\"OrderInPhase\":11,\"ActivityIdentifier\":\"staticApplicationSecurityTestAndScan\"},{\"index\":51,\"Activity\":\"Store artifacts\",\"Baseline\":\"REQUIRED\",\"SSDF\":\"PO.3.1, \\\\nPO.3.3\",\"Description\":\"Store artifacts to the artifact repository\",\"Inputs\":\"Binary artifacts;\\\\nDatabase artifacts;\\\\nScripts;\\\\nDocumentation\\\\n\",\"Outputs\":\"Versioned controlled artifacts\",\"ToolDependency\":\"Artifact Repository\",\"SecurityTestingCM\":\"Configuration Management\",\"Phase\":\"Build\",\"PhaseOrder\":2,\"OrderInPhase\":12,\"ActivityIdentifier\":\"storeArtifacts\"},{\"index\":52,\"Activity\":\"System test\",\"Baseline\":\"PREFERRED\",\"SSDF\":\"PW.8.1, \\\\nPW.8.2\",\"Description\":\"System test uses a set of tools to test the complete software system and its interaction with users or other external systems. Includes interoperability test, which demonstrates the system\\'s capability to exchange mission critical information and services with other systems.\",\"Inputs\":\"Test plan; Requirement documents and\\\\/or database; Acceptance criteria\",\"Outputs\":\"System test scripts, the software system and external dependencies, test input data and expected output data\",\"ToolDependency\":\"Test results documenting the performance of the system.\",\"SecurityTestingCM\":\"Testing\",\"Phase\":\"Build\",\"PhaseOrder\":2,\"OrderInPhase\":13,\"ActivityIdentifier\":\"systemTest\"},{\"index\":53,\"Activity\":\"Test Audit\",\"Baseline\":\"REQUIRED\",\"SSDF\":\"PO.2.1, \\\\nPS 2.1, \\\\nPW.1.2, \\\\nPW.2.1\",\"Description\":\"Test audit keeps who performs what test at what time and test results in records\",\"Inputs\":\"Test activity and test results\",\"Outputs\":\"Test audit log\",\"ToolDependency\":\"Test management tool\",\"SecurityTestingCM\":\"Testing\",\"Phase\":\"Build\",\"PhaseOrder\":2,\"OrderInPhase\":14,\"ActivityIdentifier\":\"testAudit\"},{\"index\":54,\"Activity\":\"API Security Tests\",\"Baseline\":\"REQUIRED\",\"SSDF\":\"PO.3.2, \\\\nPO.4.1, \\\\nPW.1.3, \\\\nPW.4.4, \\\\nRV1.2\",\"Description\":\"Closed-box test, evaluating the Application Programming Interfaces\\' compliance with security requirements\",\"Inputs\":\"Executable system\\\\/application\\\\nTest Plan\\\\nTest Cases\\\\nTest data\",\"Outputs\":\"Test results\",\"ToolDependency\":\"Test tool suite\",\"SecurityTestingCM\":\"Security\",\"Phase\":\"Test\",\"PhaseOrder\":3,\"OrderInPhase\":0,\"ActivityIdentifier\":\"apiSecurityTests\"},{\"index\":55,\"Activity\":\"Compliance scan\",\"Baseline\":\"REQUIRED\",\"SSDF\":\"RV.1.2\",\"Description\":\"Compliance audit\",\"Inputs\":\"Artifacts;\\\\nSoftware instances;\\\\nSystem components\",\"Outputs\":\"Compliance reports\",\"ToolDependency\":\"Non-security compliance scan;\\\\nSoftware license compliance checker;\\\\nSecurity compliance tool\",\"SecurityTestingCM\":\"Testing\",\"Phase\":\"Test\",\"PhaseOrder\":3,\"OrderInPhase\":1,\"ActivityIdentifier\":\"complianceScan\"},{\"index\":56,\"Activity\":\"Database security test\",\"Baseline\":\"PREFERRED\",\"SSDF\":\"PW.8.1, \\\\nPW.8.2, \\\\nPW.9.2\",\"Description\":\"Perform security scan;\\\\nSecurity test\",\"Inputs\":\"Test data;\\\\nTest scenarios\",\"Outputs\":\"Test results\",\"ToolDependency\":\"Vulnerability findings;\\\\nRecommended mitigation actions\",\"SecurityTestingCM\":\"Security\",\"Phase\":\"Test\",\"PhaseOrder\":3,\"OrderInPhase\":2,\"ActivityIdentifier\":\"databaseSecurityTest\"},{\"index\":57,\"Activity\":\"Dynamic application security test (DAST) and scan\",\"Baseline\":\"PREFERRED\",\"SSDF\":\"RV.1.2, \\\\nRV.2.1, \\\\nRV.3.1, \\\\nRV.3.2, \\\\nRV.3.3\",\"Description\":\"Perform DAST or IAST testing to the software system\",\"Inputs\":\"Running application and underlying OS; \\\\nFuzz inputs\",\"Outputs\":\"Vulnerability, static code weakness and\\\\/or dynamic code weakness report and recommended mitigation\",\"ToolDependency\":\"DAST tool or IAST tool\",\"SecurityTestingCM\":\"Security\",\"Phase\":\"Test\",\"PhaseOrder\":3,\"OrderInPhase\":3,\"ActivityIdentifier\":\"dynamicApplicationSecurityTestDastAndScan\"},{\"index\":58,\"Activity\":\"Interactive Application Security Tests (IAST)\",\"Baseline\":\"PREFERRED\",\"SSDF\":\"PO.4.1, \\\\nPO.4.2, \\\\nPS.2.1, \\\\nPW.1.1, \\\\nPW.5.1, \\\\nPW.8.1, \\\\nPW.8.2\",\"Description\":\"IAST (interactive application security testing) analyzes code for security vulnerabilities while the app is run by an automated test, human tester, or any activity \\\\u201cinteracting\\\\u201d with the application functionality.\",\"Inputs\":\"Software instances, \\\\nTest scenarios, \\\\nTest data\",\"Outputs\":\"Test results\",\"ToolDependency\":\"IAST tool\",\"SecurityTestingCM\":\"Security\",\"Phase\":\"Test\",\"PhaseOrder\":3,\"OrderInPhase\":4,\"ActivityIdentifier\":\"interactiveApplicationSecurityTestsIast\"},{\"index\":59,\"Activity\":\"Manual security test\",\"Baseline\":\"REQUIRED\",\"SSDF\":\"PO.4.1, \\\\nPO.4.2, \\\\nPS.2.1, \\\\nPW.1.1, \\\\nPW.5.1, \\\\nPW.8.1, \\\\nPW.8.2\",\"Description\":\"Such as penetration test, which uses a set of tools and procedures to evaluate the security of the system by injecting authorized simulated cyber-attacks to the system. \\\\n\\\\nCI\\\\/CD orchestrator does not automate the test, but the test results can be a control point in the pipeline.\",\"Inputs\":\"Running application, underlying OS, and hosting environment\",\"Outputs\":\"Vulnerability report and recommended mitigation\",\"ToolDependency\":\"Various tools and scripts (may include network security test tool)\",\"SecurityTestingCM\":\"Security\",\"Phase\":\"Test\",\"PhaseOrder\":3,\"OrderInPhase\":5,\"ActivityIdentifier\":\"manualSecurityTest\"},{\"index\":60,\"Activity\":\"Mission Based Cyber Risk Assessments\",\"Baseline\":\"REQUIRED\",\"SSDF\":\"PW.7.2, \\\\nRV.1.1, \\\\nRV.1.2, \\\\nRV.2.1, \\\\nRV.3.1, \\\\nRV.3.2, \\\\nRV.3.3, \",\"Description\":\"An assessment of risks based upon the stated mission of the system or platform\",\"Inputs\":\"NIST 800-53 RMF Control Implementations\\\\nFIPS 199 system categorization\\\\nInformation types\\\\nCNSSI 1253\",\"Outputs\":\"Risk assessment\",\"ToolDependency\":\"Risk assessment tool\",\"SecurityTestingCM\":\"Security\",\"Phase\":\"Test\",\"PhaseOrder\":3,\"OrderInPhase\":6,\"ActivityIdentifier\":\"missionBasedCyberRiskAssessments\"},{\"index\":61,\"Activity\":\"Performance test\",\"Baseline\":\"PREFERRED\",\"SSDF\":\"PO.3.1, \\\\nPO.3.2, \\\\nPO.3.3\",\"Description\":\"Ensure applications will perform well under the expected workload. The test focus is on application response time, reliability, resource usage and scalability.\",\"Inputs\":\"Test case, test data, and the software system\",\"Outputs\":\"Performance metrics\",\"ToolDependency\":\"Test tool suite, Test data generator\",\"SecurityTestingCM\":\"Testing\",\"Phase\":\"Test\",\"PhaseOrder\":3,\"OrderInPhase\":7,\"ActivityIdentifier\":\"performanceTest\"},{\"index\":62,\"Activity\":\"Regression test\",\"Baseline\":\"REQUIRED\",\"SSDF\":\"PW.4.4, \\\\nPW.7.2\",\"Description\":\"A type of software testing to confirm that a recent program or code change has not adversely affected existing features.\",\"Inputs\":\"Functional and non-functional regression test cases; \\\\nThe software system\",\"Outputs\":\"Test report\",\"ToolDependency\":\"Test tool suite\",\"SecurityTestingCM\":\"Testing\",\"Phase\":\"Test\",\"PhaseOrder\":3,\"OrderInPhase\":8,\"ActivityIdentifier\":\"regressionTest\"},{\"index\":63,\"Activity\":\"SBOM Software Composition Analysis\",\"Baseline\":\"REQUIRED\",\"SSDF\":\"PS.3.2\",\"Description\":\"Collect and analyze provenance data for all components of each release\",\"Inputs\":\"Software Bill of Materials\\\\nVulnerabilities\",\"Outputs\":\"Analysis report\",\"ToolDependency\":\"SBOM Analysis tool\",\"SecurityTestingCM\":\"Security\",\"Phase\":\"Test\",\"PhaseOrder\":3,\"OrderInPhase\":9,\"ActivityIdentifier\":\"sbomSoftwareCompositionAnalysis\"},{\"index\":64,\"Activity\":\"Service security test\",\"Baseline\":\"REQUIRED\",\"SSDF\":\"PO.3.1, \\\\nPO.3.2\",\"Description\":\"Perform security scan;\\\\nSecurity test\",\"Inputs\":\"Test data;\\\\nTest scenarios\",\"Outputs\":\"Test results\",\"ToolDependency\":\"Vulnerability findings;\\\\nRecommended mitigation actions\",\"SecurityTestingCM\":\"Security\",\"Phase\":\"Test\",\"PhaseOrder\":3,\"OrderInPhase\":10,\"ActivityIdentifier\":\"serviceSecurityTest\"},{\"index\":65,\"Activity\":\"Software Factory Risk Continuous Monitoring\",\"Baseline\":\"REQUIRED\",\"SSDF\":\"PS.3.2\",\"Description\":\"Monitor Software Factory controls\",\"Inputs\":\"Software Factory controls\",\"Outputs\":\"Alerts\",\"ToolDependency\":\"Monitoring tool suite\",\"SecurityTestingCM\":\"Security\",\"Phase\":\"Test\",\"PhaseOrder\":3,\"OrderInPhase\":11,\"ActivityIdentifier\":\"softwareFactoryRiskContinuousMonitoring\"},{\"index\":66,\"Activity\":\"Software Integration Test\",\"Baseline\":\"REQUIRED\",\"SSDF\":\"RV.8.1, \\\\nRV.8.2\",\"Description\":\"Testing where software modules are integrated logically and tested as a group\",\"Inputs\":\"Test data;\\\\nTest scenarios\",\"Outputs\":\"Test results\",\"ToolDependency\":\"Test management tool\",\"SecurityTestingCM\":\"Testing\",\"Phase\":\"Test\",\"PhaseOrder\":3,\"OrderInPhase\":12,\"ActivityIdentifier\":\"softwareIntegrationTest\"},{\"index\":67,\"Activity\":\"Static application security test (SAST) and scan\",\"Baseline\":\"REQUIRED\",\"SSDF\":\"RV.1.2, \\\\nRV.2.1, \\\\nRV.3.1, \\\\nRV.3.2, \\\\nRV.3.3\",\"Description\":\"Perform Static Application Security Tests (SAST) on the software system.\",\"Inputs\":\"Source code, known vulnerabilities and weaknesses\",\"Outputs\":\"Static code scan report and recommended mitigation\",\"ToolDependency\":\"SAST tool\",\"SecurityTestingCM\":\"Security\",\"Phase\":\"Test\",\"PhaseOrder\":3,\"OrderInPhase\":13,\"ActivityIdentifier\":\"staticApplicationSecurityTestSastAndScan\"},{\"index\":68,\"Activity\":\"Suitability test\",\"Baseline\":\"PREFERRED\",\"SSDF\":\"\",\"Description\":\"Accessibility and usability test\\\\nFailover and recovery test\\\\nperformance, stress and volume test\\\\nsecurity and penetration test\\\\ninteroperability test\\\\ncompatibility test\\\\nsupportability and maintainability\",\"Inputs\":\"The tested system\\\\nSupporting system\\\\nTest data\",\"Outputs\":\"Test report\",\"ToolDependency\":\"Test tool suite, \\\\nNon-security compliance scan\",\"SecurityTestingCM\":\"Testing\",\"Phase\":\"Test\",\"PhaseOrder\":3,\"OrderInPhase\":14,\"ActivityIdentifier\":\"suitabilityTest\"},{\"index\":69,\"Activity\":\"System Test\",\"Baseline\":\"REQUIRED\",\"SSDF\":\"RV.8.1, \\\\nRV.8.2\",\"Description\":\"Test where the entire system is tested as a whole\",\"Inputs\":\"Test data;\\\\nTest scenarios\",\"Outputs\":\"Test results\",\"ToolDependency\":\"Test management tool\",\"SecurityTestingCM\":\"Testing\",\"Phase\":\"Test\",\"PhaseOrder\":3,\"OrderInPhase\":15,\"ActivityIdentifier\":\"systemTest\"},{\"index\":70,\"Activity\":\"Test Audit\",\"Baseline\":\"REQUIRED\",\"SSDF\":\"PO.2.1, \\\\nPS.2.1, \\\\nPW.1.2, \\\\nPW.2.1\",\"Description\":\"Test audit keeps who performs what test at what time and test results in records\",\"Inputs\":\"Test activity and test results\",\"Outputs\":\"Test audit log\",\"ToolDependency\":\"Test management tool\",\"SecurityTestingCM\":\"Testing\",\"Phase\":\"Test\",\"PhaseOrder\":3,\"OrderInPhase\":16,\"ActivityIdentifier\":\"testAudit\"},{\"index\":71,\"Activity\":\"Artifacts replication\",\"Baseline\":\"PREFERRED\",\"SSDF\":\"PS.2.1, PS.3.1, PS.3.2, PW.4.1, PW.4.2\",\"Description\":\"Replicate newly release artifacts to all regional artifact repositories\",\"Inputs\":\"Artifacts\",\"Outputs\":\"Artifacts in all regional artifact repositories\",\"ToolDependency\":\"Artifacts repositories (release, regional)\",\"SecurityTestingCM\":\"\",\"Phase\":\"Release\",\"PhaseOrder\":4,\"OrderInPhase\":0,\"ActivityIdentifier\":\"artifactsReplication\"},{\"index\":72,\"Activity\":\"Developmental Cyber Tests\",\"Baseline\":\"PREFERRED\",\"SSDF\":\"PO.4.1, PO.4.2, PS.2.1, PW.2.1, PW.8.1, PW.8.2, RV.3.2, RV.3.4\",\"Description\":\"Testing the system in development and operational environments\",\"Inputs\":\"Known CVEs, privacy requirements, security requirements, and potential threats\",\"Outputs\":\"Recommendations\",\"ToolDependency\":\"\",\"SecurityTestingCM\":\"Testing\",\"Phase\":\"Release\",\"PhaseOrder\":4,\"OrderInPhase\":1,\"ActivityIdentifier\":\"developmentalCyberTests\"},{\"index\":73,\"Activity\":\"Mission Based Cyber Risk Assessments\",\"Baseline\":\"REQUIRED\",\"SSDF\":\"PW.7.2, RV.1.1, RV.1.2, RV.2.1, RV.3.1, RV.3.2, RV.3.3 \",\"Description\":\"An assessment of risks based upon the stated mission of the system or platform\",\"Inputs\":\"NIST 800-53 RMF Control Implementations\\\\nFIPS 199 system categorization\\\\nInformation types\\\\nCNSSI 1253\",\"Outputs\":\"Risk assessment\",\"ToolDependency\":\"Risk assessment tool\",\"SecurityTestingCM\":\"Security\",\"Phase\":\"Release\",\"PhaseOrder\":4,\"OrderInPhase\":2,\"ActivityIdentifier\":\"missionBasedCyberRiskAssessments\"},{\"index\":74,\"Activity\":\"Operational Readiness Test\",\"Baseline\":\"REQUIRED\",\"SSDF\":\"\",\"Description\":\"Suitability and effectiveness test of the entire system\",\"Inputs\":\"The tested system\\\\nSupporting system\\\\nTest data\",\"Outputs\":\"Test report\",\"ToolDependency\":\"Test tool suite, \\\\nNon-security compliance scan\",\"SecurityTestingCM\":\"Testing\",\"Phase\":\"Release\",\"PhaseOrder\":4,\"OrderInPhase\":3,\"ActivityIdentifier\":\"operationalReadinessTest\"},{\"index\":75,\"Activity\":\"Release go \\\\/ no-go decision\",\"Baseline\":\"REQUIRED\",\"SSDF\":\"PW.2.1, RV.3.4\",\"Description\":\"Decision on whether to release artifacts to the artifact repository for the production environment.\",\"Inputs\":\"Design documentation; \\\\nVersion controlled artifacts; \\\\nVersion controlled test reports;\\\\nSecurity test and scan reports\",\"Outputs\":\"go \\\\/ no-go decision; \\\\nArtifacts are tagged with release tag if go decision is made\",\"ToolDependency\":\"CI\\\\/CD Orchestrator\",\"SecurityTestingCM\":\"\",\"Phase\":\"Release\",\"PhaseOrder\":4,\"OrderInPhase\":4,\"ActivityIdentifier\":\"releaseGoNoGoDecision\"},{\"index\":76,\"Activity\":\"SBOM Software Composition Analysis\",\"Baseline\":\"REQUIRED\",\"SSDF\":\"PS.3.2\",\"Description\":\"Collect and analyze provenance data for all components of each release\",\"Inputs\":\"Software Bill of Materials\\\\nVulnerabilities\",\"Outputs\":\"Analysis report\",\"ToolDependency\":\"SBOM Analysis tool\",\"SecurityTestingCM\":\"Security\",\"Phase\":\"Release\",\"PhaseOrder\":4,\"OrderInPhase\":5,\"ActivityIdentifier\":\"sbomSoftwareCompositionAnalysis\"},{\"index\":77,\"Activity\":\"Software Factory Risk Continuous Monitoring\",\"Baseline\":\"REQUIRED\",\"SSDF\":\"PS.3.2\",\"Description\":\"Monitor Software Factory controls\",\"Inputs\":\"Software Factory controls\",\"Outputs\":\"Alerts\",\"ToolDependency\":\"Monitoring tool suite\",\"SecurityTestingCM\":\"Security\",\"Phase\":\"Release\",\"PhaseOrder\":4,\"OrderInPhase\":6,\"ActivityIdentifier\":\"softwareFactoryRiskContinuousMonitoring\"},{\"index\":78,\"Activity\":\"Test Audit\",\"Baseline\":\"REQUIRED\",\"SSDF\":\"PO.2.1, \\\\nPS.2.1, PW.1.2, PW.2.1\",\"Description\":\"Test audit keeps who performs what test at what time and test results in records\",\"Inputs\":\"Test activity and test results\",\"Outputs\":\"Test audit log\",\"ToolDependency\":\"Test management tool\",\"SecurityTestingCM\":\"Testing\",\"Phase\":\"Release\",\"PhaseOrder\":4,\"OrderInPhase\":7,\"ActivityIdentifier\":\"testAudit\"},{\"index\":79,\"Activity\":\"User Story Review and Demonstration\",\"Baseline\":\"PREFERRED\",\"SSDF\":\"\",\"Description\":\"Review of the user story, including description and acceptance criteria, and a demonstration of the completed work.\",\"Inputs\":\"User Story, artifact repository, and test environment.\",\"Outputs\":\"Push go\\\\/no-go decision\",\"ToolDependency\":\"Artifact repository, test environment\",\"SecurityTestingCM\":\"Testing\",\"Phase\":\"Release\",\"PhaseOrder\":4,\"OrderInPhase\":8,\"ActivityIdentifier\":\"userStoryReviewAndDemonstration\"},{\"index\":80,\"Activity\":\"Configuration Integration Testing\",\"Baseline\":\"REQUIRED\",\"SSDF\":\"PO.4.1, PO.4.2, PS.2.1, PW.2.1, PW8.1, PW8.2\",\"Description\":\"Testing the fully integrated system to ensure that it meets requirements\",\"Inputs\":\"Accepted Release Package\",\"Outputs\":\"Configuration Results\",\"ToolDependency\":\"\",\"SecurityTestingCM\":\"Testing\",\"Phase\":\"Deliver\",\"PhaseOrder\":5,\"OrderInPhase\":0,\"ActivityIdentifier\":\"configurationIntegrationTesting\"},{\"index\":81,\"Activity\":\"Deliver released artifacts\",\"Baseline\":\"REQUIRED\",\"SSDF\":\"PS.2.1, PS.3.1, PS.3.2, PW.4.1, PW.4.2\",\"Description\":\"Push released artifacts to the artifact repository\",\"Inputs\":\"Release package\",\"Outputs\":\"New release in the artifact repository\",\"ToolDependency\":\"Artifacts repository\",\"SecurityTestingCM\":\"\",\"Phase\":\"Deliver\",\"PhaseOrder\":5,\"OrderInPhase\":1,\"ActivityIdentifier\":\"deliverReleasedArtifacts\"},{\"index\":82,\"Activity\":\"Delivery Results Review\",\"Baseline\":\"REQUIRED\",\"SSDF\":\"PO.3.3, RV.3.2, RV.3.4\",\"Description\":\"Review of the release package and all associated artifacts, configuration results, and recommendations\",\"Inputs\":\"Configuration results and Recommendations\",\"Outputs\":\"Production \\\\nPush go\\\\/no-go decision\",\"ToolDependency\":\"\",\"SecurityTestingCM\":\"\",\"Phase\":\"Deliver\",\"PhaseOrder\":5,\"OrderInPhase\":2,\"ActivityIdentifier\":\"deliveryResultsReview\"},{\"index\":83,\"Activity\":\"Mission Based Cyber Risk Assessments\",\"Baseline\":\"REQUIRED\",\"SSDF\":\"PW.7.2, RV.1.1, RV.1.2, RV.2.1, RV.3.1, RV.3.2, RV.3.3 \",\"Description\":\"An assessment of risks based upon the stated mission of the system or platform\",\"Inputs\":\"NIST 800-53 RMF Control Implementations\\\\nFIPS 199 system categorization\\\\nInformation types\\\\nCNSSI 1253\",\"Outputs\":\"Risk assessment\",\"ToolDependency\":\"Risk assessment tool\",\"SecurityTestingCM\":\"Security\",\"Phase\":\"Deliver\",\"PhaseOrder\":5,\"OrderInPhase\":3,\"ActivityIdentifier\":\"missionBasedCyberRiskAssessments\"},{\"index\":84,\"Activity\":\" Operational Cyber Tests\",\"Baseline\":\"PREFERRED\",\"SSDF\":\"PO.4.1, PO.4.2, PS.2.1, PW.2.1, PW8.1, PW8.2, RV.3.2, RV.3.4\",\"Description\":\"Testing the system in operational environments\",\"Inputs\":\"Known CVEs, privacy requirements, security requirements, and potential threats\",\"Outputs\":\"Recommendations\",\"ToolDependency\":\"\",\"SecurityTestingCM\":\"Testing\",\"Phase\":\"Deliver\",\"PhaseOrder\":5,\"OrderInPhase\":4,\"ActivityIdentifier\":\"operationalCyberTests\"},{\"index\":85,\"Activity\":\"Operations Team Acceptance\",\"Baseline\":\"REQUIRED\",\"SSDF\":\"PO.4.1, PO.4.2, PS.2.1, PW.2.1, PW8.1, PW8.2\",\"Description\":\"Testing on the delivered artifacts to ensure that they meet operational requirements\",\"Inputs\":\"Release package; \\\\nTest results;\\\\nSBOM Software Composition Analysis;\",\"Outputs\":\"Accepted release package\",\"ToolDependency\":\"\",\"SecurityTestingCM\":\"Testing\",\"Phase\":\"Deliver\",\"PhaseOrder\":5,\"OrderInPhase\":5,\"ActivityIdentifier\":\"operationsTeamAcceptance\"},{\"index\":86,\"Activity\":\"SBOM Software Composition Analysis\",\"Baseline\":\"REQUIRED\",\"SSDF\":\"PS.3.2\",\"Description\":\"Collect and analyze provenance data for all components of each release\",\"Inputs\":\"Software Bill of Materials\\\\nVulnerabilities\",\"Outputs\":\"Analysis report\",\"ToolDependency\":\"SBOM Analysis tool\",\"SecurityTestingCM\":\"Security\",\"Phase\":\"Deliver\",\"PhaseOrder\":5,\"OrderInPhase\":6,\"ActivityIdentifier\":\"sbomSoftwareCompositionAnalysis\"},{\"index\":87,\"Activity\":\"Software Factory Risk Continuous Monitoring\",\"Baseline\":\"REQUIRED\",\"SSDF\":\"PS.3.2\",\"Description\":\"Monitor Software Factory controls\",\"Inputs\":\"Software Factory controls\",\"Outputs\":\"Alerts\",\"ToolDependency\":\"Monitoring tool suite\",\"SecurityTestingCM\":\"Security\",\"Phase\":\"Deliver\",\"PhaseOrder\":5,\"OrderInPhase\":7,\"ActivityIdentifier\":\"softwareFactoryRiskContinuousMonitoring\"},{\"index\":88,\"Activity\":\"Test Audit\",\"Baseline\":\"REQUIRED\",\"SSDF\":\"PO.2.1, \\\\nPS 2.1, PW.1.2, PW.2.1\",\"Description\":\"Test audit keeps who performs what test at what time and test results in records\",\"Inputs\":\"Test activity and test results\",\"Outputs\":\"Test audit log\",\"ToolDependency\":\"Test management tool\",\"SecurityTestingCM\":\"Testing\",\"Phase\":\"Deliver\",\"PhaseOrder\":5,\"OrderInPhase\":8,\"ActivityIdentifier\":\"testAudit\"},{\"index\":89,\"Activity\":\"Artifact deployment\",\"Baseline\":\"PREFERRED\",\"SSDF\":\"PO.3.1, \\\\nPO.3.2\",\"Description\":\"Artifacts deployment and data loading\",\"Inputs\":\"Artifacts in the repository;\\\\nData\",\"Outputs\":\"Running database system\",\"ToolDependency\":\"Artifact repository;\\\\nDatabase automation tool;\\\\nData masking or encryption tool if needed\",\"SecurityTestingCM\":\"\",\"Phase\":\"Deploy\",\"PhaseOrder\":6,\"OrderInPhase\":0,\"ActivityIdentifier\":\"artifactDeployment\"},{\"index\":90,\"Activity\":\"Artifact download\",\"Baseline\":\"PREFERRED\",\"SSDF\":\"PW.4.1,\\\\nPW.4.2\",\"Description\":\"Download newly release artifacts from the artifact repository\",\"Inputs\":\"Artifact download request\",\"Outputs\":\"Requested artifacts\",\"ToolDependency\":\"Artifact repository\",\"SecurityTestingCM\":\"\",\"Phase\":\"Deploy\",\"PhaseOrder\":6,\"OrderInPhase\":1,\"ActivityIdentifier\":\"artifactDownload\"},{\"index\":91,\"Activity\":\"Compliance Tests\",\"Baseline\":\"REQUIRED\",\"SSDF\":\"PO.3.1, \\\\nPO.3.2, \\\\nPO.3.3\",\"Description\":\" Testing to determine whether a deliverable complies with the requirements of a specification, technical standard, contract, or regulation\",\"Inputs\":\"Artifacts in the repository;\\\\nTest scenarios;\\\\nData\",\"Outputs\":\"Test results\",\"ToolDependency\":\"Test management tool\",\"SecurityTestingCM\":\"Testing\",\"Phase\":\"Deploy\",\"PhaseOrder\":6,\"OrderInPhase\":2,\"ActivityIdentifier\":\"complianceTests\"},{\"index\":92,\"Activity\":\"Create linked clone of VM master image\",\"Baseline\":\"PREFERRED\",\"SSDF\":\"PW.4.1, \\\\nPW.4.2\",\"Description\":\"Instantiate VM by creating a link clone of parent VM with master image\",\"Inputs\":\"VM parent\\\\nNew VM instance parameters\",\"Outputs\":\"New VM instance\",\"ToolDependency\":\"Virtualization Manager\",\"SecurityTestingCM\":\"\",\"Phase\":\"Deploy\",\"PhaseOrder\":6,\"OrderInPhase\":3,\"ActivityIdentifier\":\"createLinkedCloneOfVmMasterImage\"},{\"index\":93,\"Activity\":\"Database artifact deployment\",\"Baseline\":\"PREFERRED\",\"SSDF\":\"PO.3.1, \\\\nPO.3.2\",\"Description\":\"Database artifacts deployment and data loading\",\"Inputs\":\"Artifacts in the repository;\\\\nData\",\"Outputs\":\"Running database system\",\"ToolDependency\":\"Artifact repository;\\\\nDatabase automation tool;\\\\nData masking or encryption tool if needed\",\"SecurityTestingCM\":\"\",\"Phase\":\"Deploy\",\"PhaseOrder\":6,\"OrderInPhase\":4,\"ActivityIdentifier\":\"databaseArtifactDeployment\"},{\"index\":94,\"Activity\":\"Database Schema installation \",\"Baseline\":\"PREFERRED\",\"SSDF\":\"PO.3.1,\\\\nPO.3.2, \\\\nPO.3.3\",\"Description\":\"Database software schema deploy\\\\/update.\",\"Inputs\":\"Artifacts in the repository;\\\\nData\",\"Outputs\":\"Running database system\",\"ToolDependency\":\"Artifact repository;\\\\nDatabase automation tool;\\\\nData masking or encryption tool if needed\",\"SecurityTestingCM\":\"\",\"Phase\":\"Deploy\",\"PhaseOrder\":6,\"OrderInPhase\":5,\"ActivityIdentifier\":\"databaseSchemaInstallation\"},{\"index\":95,\"Activity\":\"Formal Qualification Tests\",\"Baseline\":\"AS REQUIRED\",\"SSDF\":\"PO.3.1, \\\\nPO.3.2, \\\\nPO.3.3\",\"Description\":\"Tests to assess appropriateness or qualifications of deliverables with contractual requirements.\",\"Inputs\":\"Artifacts in the repository;\\\\nTest scenarios;\\\\nData\",\"Outputs\":\"Test results\",\"ToolDependency\":\"Test management tool\",\"SecurityTestingCM\":\"Testing\",\"Phase\":\"Deploy\",\"PhaseOrder\":6,\"OrderInPhase\":6,\"ActivityIdentifier\":\"formalQualificationTests\"},{\"index\":96,\"Activity\":\"Human Systems Integration Tests\",\"Baseline\":\"AS REQUIRED\",\"SSDF\":\"PO.3.1, \\\\nPO.3.2, \\\\nPO.3.3\",\"Description\":\"\",\"Inputs\":\"Artifacts in the repository;\\\\nTest scenarios;\\\\nData\",\"Outputs\":\"Test results\",\"ToolDependency\":\"Test management tool\",\"SecurityTestingCM\":\"Testing\",\"Phase\":\"Deploy\",\"PhaseOrder\":6,\"OrderInPhase\":7,\"ActivityIdentifier\":\"humanSystemsIntegrationTests\"},{\"index\":97,\"Activity\":\"Infrastructure provisioning automation\",\"Baseline\":\"PREFERRED\",\"SSDF\":\"PO.3.1, \\\\nPO.3.2, \\\\nPO.5.1, \\\\nPO.5.2\",\"Description\":\"Infrastructure systems auto provisioning (such as software defined networking, firewalls, DNS, auditing and logging system, user\\\\/group permissions, etc.)\",\"Inputs\":\"Infrastructure configuration scripts \\\\/ recipes \\\\/ manifests \\\\/ playbooks\",\"Outputs\":\"Provisioned and configured infrastructure \",\"ToolDependency\":\"Configuration automation tools; IaC\",\"SecurityTestingCM\":\"Configuration Management\",\"Phase\":\"Deploy\",\"PhaseOrder\":6,\"OrderInPhase\":8,\"ActivityIdentifier\":\"infrastructureProvisioningAutomation\"},{\"index\":98,\"Activity\":\"Interoperability Tests\",\"Baseline\":\"REQUIRED\",\"SSDF\":\"PO.3.1, \\\\nPO.3.2, \\\\nPO.3.3\",\"Description\":\"Testing of the communication and cooperation between multiple software and system capabilities.\",\"Inputs\":\"Artifacts in the repository;\\\\nTest scenarios;\\\\nData\",\"Outputs\":\"Test results\",\"ToolDependency\":\"Test management tool\",\"SecurityTestingCM\":\"Testing\",\"Phase\":\"Deploy\",\"PhaseOrder\":6,\"OrderInPhase\":9,\"ActivityIdentifier\":\"interoperabilityTests\"},{\"index\":99,\"Activity\":\"Interoperability Certifications\",\"Baseline\":\"AS REQUIRED\",\"SSDF\":\"PO.3.1, \\\\nPO.3.2, \\\\nPO.3.3\",\"Description\":\"Interoperability Certification, especially relevant for flight and weapon systems\",\"Inputs\":\"\",\"Outputs\":\"\",\"ToolDependency\":\"\",\"SecurityTestingCM\":\"Testing\",\"Phase\":\"Deploy\",\"PhaseOrder\":6,\"OrderInPhase\":10,\"ActivityIdentifier\":\"interoperabilityCertifications\"},{\"index\":100,\"Activity\":\"Mission Based Cyber Risk Assessments\",\"Baseline\":\"REQUIRED\",\"SSDF\":\"PW.7.2, \\\\nRV.1.1, \\\\nRV.1.2,\\\\nRV.2.1, \\\\nRV.3.1, \\\\nRV.3.2, \\\\nRV.3.3, \",\"Description\":\"An assessment of risks based upon the stated mission of the system or platform\",\"Inputs\":\"NIST 800-53 RMF Control Implementations\\\\nFIPS 199 system categorization\\\\nInformation types\\\\nCNSSI 1253\",\"Outputs\":\"Risk assessment\",\"ToolDependency\":\"Risk assessment tool\",\"SecurityTestingCM\":\"Security\",\"Phase\":\"Deploy\",\"PhaseOrder\":6,\"OrderInPhase\":11,\"ActivityIdentifier\":\"missionBasedCyberRiskAssessments\"},{\"index\":101,\"Activity\":\"Mission-Oriented Developmental Tests\",\"Baseline\":\"REQUIRED\",\"SSDF\":\"PO.3.1, \\\\nPO.3.2, \\\\nPO.3.3\",\"Description\":\"Tests to evaluate and validate the performance of new or existing systems, equipment, or technology in real-world mission scenarios. These tests are conducted to determine the ability of the system to meet its intended objectives and to identify any potential issues or areas for improvement.\",\"Inputs\":\"Artifacts in the repository;\\\\nTest scenarios;\\\\nData\",\"Outputs\":\"Test results\",\"ToolDependency\":\"Test management tool\",\"SecurityTestingCM\":\"Testing\",\"Phase\":\"Deploy\",\"PhaseOrder\":6,\"OrderInPhase\":12,\"ActivityIdentifier\":\"missionOrientedDevelopmentalTests\"},{\"index\":102,\"Activity\":\"Operational Assessments\",\"Baseline\":\"AS REQUIRED\",\"SSDF\":\"PO.3.1, \\\\nPO.3.2, \\\\nPO.3.3\",\"Description\":\"Evaluation of a minimal capability fielding or early fielding capability in the unique theater of employment and\\\\/or for tailored use to support preliminary evaluation of operational effectiveness and suitability, while taking into equal consideration survivability and lethality effects\",\"Inputs\":\"\",\"Outputs\":\"Assessment results\",\"ToolDependency\":\"\",\"SecurityTestingCM\":\"Testing\",\"Phase\":\"Deploy\",\"PhaseOrder\":6,\"OrderInPhase\":13,\"ActivityIdentifier\":\"operationalAssessments\"},{\"index\":103,\"Activity\":\"Operational Test and Evaluation\",\"Baseline\":\"AS REQUIRED\",\"SSDF\":\"PO.3.1, \\\\nPO.3.2, \\\\nPO.3.3\",\"Description\":\"Independent test and evaluation of system effectiveness, suitability, and survivability to include cyber resilience by the actual mission user base.\",\"Inputs\":\"All application artifacts, test plans and reports.\",\"Outputs\":\"Reports of test results\",\"ToolDependency\":\"Test management tool to capture operational data to include instrumentation (as needed).\",\"SecurityTestingCM\":\"Testing\",\"Phase\":\"Deploy\",\"PhaseOrder\":6,\"OrderInPhase\":14,\"ActivityIdentifier\":\"operationalTestAndEvaluation\"},{\"index\":104,\"Activity\":\"Performance Tests\",\"Baseline\":\"REQUIRED\",\"SSDF\":\"PO.3.1, \\\\nPO.3.2, \\\\nPO.3.3\",\"Description\":\"Testing that determine the stability, speed, scalability, and responsiveness of an application or system under a given workload.\",\"Inputs\":\"Artifacts in the repository;\\\\nTest scenarios;\\\\nData\",\"Outputs\":\"Test results\",\"ToolDependency\":\"Test management tool\",\"SecurityTestingCM\":\"Testing\",\"Phase\":\"Deploy\",\"PhaseOrder\":6,\"OrderInPhase\":15,\"ActivityIdentifier\":\"performanceTests\"},{\"index\":105,\"Activity\":\"Post-deployment checkout\",\"Baseline\":\"PREFERRED\",\"SSDF\":\"PW.4.1, PW.4.2\",\"Description\":\"Run automated test to make sure the important functions of system are working, including Early Operational Test; Interoperability Test; Performance Test; and Compliance Test\",\"Inputs\":\"Smoke test scenarios and test scripts\",\"Outputs\":\"Test results\",\"ToolDependency\":\"Test scripts\",\"SecurityTestingCM\":\"Testing\",\"Phase\":\"Deploy\",\"PhaseOrder\":6,\"OrderInPhase\":16,\"ActivityIdentifier\":\"postDeploymentCheckout\"},{\"index\":106,\"Activity\":\"Post-deployment security scan\",\"Baseline\":\"REQUIRED\",\"SSDF\":\"PO.4.1,\\\\nPO.4.2,\\\\nPW.4.1,\\\\nPW.4.2\",\"Description\":\"System and infrastructure security scan\",\"Inputs\":\"Access to system components and infrastructure components \",\"Outputs\":\"Security vulnerability findings\",\"ToolDependency\":\"Security compliance tool\",\"SecurityTestingCM\":\"Security\",\"Phase\":\"Deploy\",\"PhaseOrder\":6,\"OrderInPhase\":17,\"ActivityIdentifier\":\"postDeploymentSecurityScan\"},{\"index\":107,\"Activity\":\"SBOM Software Composition Analysis\",\"Baseline\":\"REQUIRED\",\"SSDF\":\"PS.3.2\",\"Description\":\"Collect and analyze provenance data for all components of each release\",\"Inputs\":\"Software Bill of Materials\\\\nVulnerabilities\",\"Outputs\":\"Analysis report\",\"ToolDependency\":\"SBOM Analysis tool\",\"SecurityTestingCM\":\"Security\",\"Phase\":\"Deploy\",\"PhaseOrder\":6,\"OrderInPhase\":18,\"ActivityIdentifier\":\"sbomSoftwareCompositionAnalysis\"},{\"index\":108,\"Activity\":\"Software Factory Risk Continuous Monitoring\",\"Baseline\":\"REQUIRED\",\"SSDF\":\"PS.3.2\",\"Description\":\"Monitor Software Factory controls\",\"Inputs\":\"Software Factory controls\",\"Outputs\":\"Alerts\",\"ToolDependency\":\"Monitoring tool suite\",\"SecurityTestingCM\":\"Security\",\"Phase\":\"Deploy\",\"PhaseOrder\":6,\"OrderInPhase\":19,\"ActivityIdentifier\":\"softwareFactoryRiskContinuousMonitoring\"},{\"index\":109,\"Activity\":\"Test Audit\",\"Baseline\":\"REQUIRED\",\"SSDF\":\"PO.2.1, \\\\nPS 2.1, \\\\nPW.1.2, \\\\nPW.2.1\",\"Description\":\"Test audit keeps who performs what test at what time and test results in records\",\"Inputs\":\"Test activity and test results\",\"Outputs\":\"Test audit log\",\"ToolDependency\":\"Test management tool\",\"SecurityTestingCM\":\"Testing\",\"Phase\":\"Deploy\",\"PhaseOrder\":6,\"OrderInPhase\":20,\"ActivityIdentifier\":\"testAudit\"},{\"index\":110,\"Activity\":\"User Evaluation \\\\/ Feedback\",\"Baseline\":\"REQUIRED\",\"SSDF\":\"PO.4.2\",\"Description\":\"Collect and analyze user evaluations and\\\\/or feedback\",\"Inputs\":\"Surveys;\\\\nBug reports;\\\\nTrouble tickets\",\"Outputs\":\"\",\"ToolDependency\":\"\",\"SecurityTestingCM\":\"Testing\",\"Phase\":\"Deploy\",\"PhaseOrder\":6,\"OrderInPhase\":21,\"ActivityIdentifier\":\"userEvaluationFeedback\"},{\"index\":111,\"Activity\":\"Business Operations\",\"Baseline\":\"REQUIRED\",\"SSDF\":\"PO.3.1, PO.3.2, PO.3.3\",\"Description\":\"Continuously manage resource usage and billing\",\"Inputs\":\"Cost utilization reports, metrics\",\"Outputs\":\"Optimized resource allocation\",\"ToolDependency\":\"Operations dashboard\",\"SecurityTestingCM\":\"\",\"Phase\":\"Operate\",\"PhaseOrder\":7,\"OrderInPhase\":0,\"ActivityIdentifier\":\"businessOperations\"},{\"index\":112,\"Activity\":\"Capacity Management\",\"Baseline\":\"PREFERRED\",\"SSDF\":\"PO.3.1, PO.3.2, PO.3.3\",\"Description\":\"Continuously manage CSP service configuration parameters\",\"Inputs\":\"Operational statistics, logs, metrics\",\"Outputs\":\"Optimized resource allocation\",\"ToolDependency\":\"Operations dashboard\",\"SecurityTestingCM\":\"\",\"Phase\":\"Operate\",\"PhaseOrder\":7,\"OrderInPhase\":1,\"ActivityIdentifier\":\"capacityManagement\"},{\"index\":113,\"Activity\":\"Chaos engineering\",\"Baseline\":\"PREFERRED\",\"SSDF\":\"PO.3.1, PO.3.2\",\"Description\":\"Chaos Engineering is practice that explores how systems operate when presented with previously unexpected actions or scenarios. It may include injecting faults into systems (such as high CPU consumption, network latency, or dependency loss), changing data (fuzzing), removing capabilities, or otherwise altering the operational environment, observing how the systems respond, and then using that knowledge to initiate improvements. Chaos Engineering is also defined as \\\\\"experimenting on a distributed system in order to build confidence in the system\\\\u2019s capability to withstand turbulent conditions in production.\\\\\"\",\"Inputs\":\"Test scenarios;\\\\nTest data\",\"Outputs\":\"Test results\",\"ToolDependency\":\"Chaos engineering tool\",\"SecurityTestingCM\":\"Security\",\"Phase\":\"Operate\",\"PhaseOrder\":7,\"OrderInPhase\":2,\"ActivityIdentifier\":\"chaosEngineering\"},{\"index\":114,\"Activity\":\"Cyber OT&E\",\"Baseline\":\"REQUIRED\",\"SSDF\":\"PO.3.1, PO.3.2\",\"Description\":\"Cyber OT&E evaluates the operational effectiveness, suitability, survivability, and lethality of DoD systems in operationally relevant and representative contested cyberspace\",\"Inputs\":\"\",\"Outputs\":\"\",\"ToolDependency\":\"\",\"SecurityTestingCM\":\"Security\",\"Phase\":\"Operate\",\"PhaseOrder\":7,\"OrderInPhase\":3,\"ActivityIdentifier\":\"cyberOtE\"},{\"index\":115,\"Activity\":\"Logging\",\"Baseline\":\"REQUIRED\",\"SSDF\":\"PO.3.3\",\"Description\":\"Log system events\",\"Inputs\":\"All user, network, application, and data activities\",\"Outputs\":\"Logs\",\"ToolDependency\":\"Logging\",\"SecurityTestingCM\":\"\",\"Phase\":\"Operate\",\"PhaseOrder\":7,\"OrderInPhase\":4,\"ActivityIdentifier\":\"logging\"},{\"index\":116,\"Activity\":\"Mission Based Cyber Risk Assessments\",\"Baseline\":\"REQUIRED\",\"SSDF\":\"PW.7.2, RV.1.1, RV.1.2, RV.2.1, RV.3.1, RV.3.2, RV.3.3, \",\"Description\":\"An assessment of risks based upon the stated mission of the system or platform\",\"Inputs\":\"NIST 800-53 RMF Control Implementations\\\\nFIPS 199 system categorization\\\\nInformation types\\\\nCNSSI 1253\",\"Outputs\":\"Risk assessment\",\"ToolDependency\":\"Risk assessment tool\",\"SecurityTestingCM\":\"Security\",\"Phase\":\"Operate\",\"PhaseOrder\":7,\"OrderInPhase\":5,\"ActivityIdentifier\":\"missionBasedCyberRiskAssessments\"},{\"index\":117,\"Activity\":\"Performance Tests\",\"Baseline\":\"PREFERRED\",\"SSDF\":\"PO.3.1, PO.3.2\",\"Description\":\"Tests that assess performance of the asset in the operational environment\",\"Inputs\":\"Requirements documents and\\\\/or database; Service Level Agreements\",\"Outputs\":\"Reports of observed performance\",\"ToolDependency\":\"Operational monitoring tools\",\"SecurityTestingCM\":\"Testing\",\"Phase\":\"Operate\",\"PhaseOrder\":7,\"OrderInPhase\":6,\"ActivityIdentifier\":\"performanceTests\"},{\"index\":118,\"Activity\":\"Persistent Cyber Operations Tests\",\"Baseline\":\"AS REQUIRED\",\"SSDF\":\"PO.3.1, PO.3.2\",\"Description\":\"Tests that are incorporated into the operational environment and may be used to assess cybersecurity controls at any time, often continuously.\",\"Inputs\":\"Test scenarios;\\\\nTest data\",\"Outputs\":\"Test results;\\\\nAlerts\",\"ToolDependency\":\"Cybersecurity test tools\",\"SecurityTestingCM\":\"Security\",\"Phase\":\"Operate\",\"PhaseOrder\":7,\"OrderInPhase\":7,\"ActivityIdentifier\":\"persistentCyberOperationsTests\"},{\"index\":119,\"Activity\":\"Roll Forward\\\\/Roll Back\",\"Baseline\":\"PREFERRED\",\"SSDF\":\"PO.3.1, PO.3.2\",\"Description\":\"Continuously validate procedures to roll forward\\\\/roll back\",\"Inputs\":\"Backups, after-images\",\"Outputs\":\"Point-in-time recovered file\",\"ToolDependency\":\"Backup management;\\\\nDatabase automation tool\",\"SecurityTestingCM\":\"\",\"Phase\":\"Operate\",\"PhaseOrder\":7,\"OrderInPhase\":8,\"ActivityIdentifier\":\"rollForwardRollBack\"},{\"index\":120,\"Activity\":\"SBOM Software Composition Analysis\",\"Baseline\":\"REQUIRED\",\"SSDF\":\"PS.3.2\",\"Description\":\"Collect and analyze provenance data for all components of each release\",\"Inputs\":\"Software Bill of Materials\\\\nVulnerabilities\",\"Outputs\":\"Analysis report\",\"ToolDependency\":\"SBOM Analysis tool\",\"SecurityTestingCM\":\"Security\",\"Phase\":\"Operate\",\"PhaseOrder\":7,\"OrderInPhase\":9,\"ActivityIdentifier\":\"sbomSoftwareCompositionAnalysis\"},{\"index\":121,\"Activity\":\"Software Factory Risk Continuous Monitoring\",\"Baseline\":\"REQUIRED\",\"SSDF\":\"PS.3.2\",\"Description\":\"Monitor Software Factory controls\",\"Inputs\":\"Software Factory controls\",\"Outputs\":\"Alerts\",\"ToolDependency\":\"Monitoring tool suite\",\"SecurityTestingCM\":\"Security\",\"Phase\":\"Operate\",\"PhaseOrder\":7,\"OrderInPhase\":10,\"ActivityIdentifier\":\"softwareFactoryRiskContinuousMonitoring\"},{\"index\":122,\"Activity\":\"Sustainanbility and Chaos Testing\",\"Baseline\":\"PREFERRED\",\"SSDF\":\"PO.3.1, PO.3.2\",\"Description\":\"Create the capability to continuously, but randomly, cause failures in the production system to test resiliency\",\"Inputs\":\"Chaos scripts\",\"Outputs\":\"Report and evaluation\",\"ToolDependency\":\"Test management tool\",\"SecurityTestingCM\":\"Testing\",\"Phase\":\"Operate\",\"PhaseOrder\":7,\"OrderInPhase\":11,\"ActivityIdentifier\":\"sustainanbilityAndChaosTesting\"},{\"index\":123,\"Activity\":\"Test Audit\",\"Baseline\":\"REQUIRED\",\"SSDF\":\"PO 2.1, \\\\nPS 2.1, PW 1.2, PW 2.1\",\"Description\":\"Test audit keeps who performs what test at what time and test results in records\",\"Inputs\":\"Test activity and test results\",\"Outputs\":\"Test audit log\",\"ToolDependency\":\"Test management tool\",\"SecurityTestingCM\":\"Testing\",\"Phase\":\"Operate\",\"PhaseOrder\":7,\"OrderInPhase\":12,\"ActivityIdentifier\":\"testAudit\"},{\"index\":124,\"Activity\":\"User Evaluation \\\\/ Feedback\",\"Baseline\":\"REQUIRED\",\"SSDF\":\"PO 4.2\",\"Description\":\"Collect and analyze user evaluations and\\\\/or feedback\",\"Inputs\":\"Surveys;\\\\nBug reports;\\\\nTrouble tickets\",\"Outputs\":\"\",\"ToolDependency\":\"\",\"SecurityTestingCM\":\"Testing\",\"Phase\":\"Operate\",\"PhaseOrder\":7,\"OrderInPhase\":13,\"ActivityIdentifier\":\"userEvaluationFeedback\"},{\"index\":125,\"Activity\":\"Asset Inventory to include SBOMs\",\"Baseline\":\"REQUIRED\",\"SSDF\":\"PS.3.2, \\\\nPW 4.1\",\"Description\":\"Inventory system IT assets\",\"Inputs\":\"IT assets\",\"Outputs\":\"Asset inventory\",\"ToolDependency\":\"Inventory Management\",\"SecurityTestingCM\":\"Configuration Management\",\"Phase\":\"Monitor\",\"PhaseOrder\":8,\"OrderInPhase\":0,\"ActivityIdentifier\":\"assetInventoryToIncludeSboms\"},{\"index\":126,\"Activity\":\"Compliance Monitoring (COTS)\",\"Baseline\":\"REQUIRED\",\"SSDF\":\"PO 3.1, \\\\nPO 3.2, \\\\nPO 3.3\",\"Description\":\"Monitor the state of compliance of deployed COTS against STIGs\",\"Inputs\":\"Compliance status\",\"Outputs\":\"Compliance reports\",\"ToolDependency\":\"Compliance as Code\",\"SecurityTestingCM\":\"Security\",\"Phase\":\"Monitor\",\"PhaseOrder\":8,\"OrderInPhase\":1,\"ActivityIdentifier\":\"complianceMonitoringCots\"},{\"index\":127,\"Activity\":\"Compliance Monitoring (resources & services)\",\"Baseline\":\"REQUIRED\",\"SSDF\":\"PO.3.1, \\\\nPO.3.2, \\\\nPO.3.3\",\"Description\":\"Monitor the state of compliance of deployed cloud resources and services against NIST SP 800-53 controls\",\"Inputs\":\"Compliance status\",\"Outputs\":\"Compliance reports\",\"ToolDependency\":\"Compliance Monitor\",\"SecurityTestingCM\":\"Security\",\"Phase\":\"Monitor\",\"PhaseOrder\":8,\"OrderInPhase\":2,\"ActivityIdentifier\":\"complianceMonitoringResourcesServices\"},{\"index\":128,\"Activity\":\"Database monitoring and security auditing\",\"Baseline\":\"PREFERRED\",\"SSDF\":\"PO 3.1, \\\\nPO 3.2, \\\\nPO 3.3\",\"Description\":\"Database performance and activities monitoring and auditing\",\"Inputs\":\"Database traffic, event, and activities\",\"Outputs\":\"Logs;\\\\nWarnings and alerts\",\"ToolDependency\":\"Database monitoring tool;\\\\nDatabase security audit tool;\\\\nIssue tracking system;\\\\nAlerting and notification;\\\\nOperations dashboard\",\"SecurityTestingCM\":\"Configuration Management\",\"Phase\":\"Monitor\",\"PhaseOrder\":8,\"OrderInPhase\":3,\"ActivityIdentifier\":\"databaseMonitoringAndSecurityAuditing\"},{\"index\":129,\"Activity\":\"Feedback, including Operational Test and Evaluation (if\\\\/as needed)\",\"Baseline\":\"PREFERRED\",\"SSDF\":\"PO 3.3\",\"Description\":\"The Second Way:  Feedback\",\"Inputs\":\"Technical feedback as to \\\\u201cis the system built right\\\\u201d and operational feedback as to \\\\u201cwas the right system built\\\\u201d\",\"Outputs\":\"Updated requirements \\\\/ backlog\",\"ToolDependency\":\"Various planning tools\",\"SecurityTestingCM\":\"\",\"Phase\":\"Monitor\",\"PhaseOrder\":8,\"OrderInPhase\":4,\"ActivityIdentifier\":\"feedbackIncludingOperationalTestAndEvaluationIfAsNeeded\"},{\"index\":130,\"Activity\":\"Log Analysis & auditing\",\"Baseline\":\"REQUIRED\",\"SSDF\":\"PO.3.1, \\\\nPO.3.2, \\\\nPO.3.3\",\"Description\":\"Filter or aggregate logs;\\\\nAnalyze and correlate logs\",\"Inputs\":\"Logs\",\"Outputs\":\"Alerts and remediation reports\",\"ToolDependency\":\"Log aggregator\",\"SecurityTestingCM\":\"Security\",\"Phase\":\"Monitor\",\"PhaseOrder\":8,\"OrderInPhase\":5,\"ActivityIdentifier\":\"logAnalysisAuditing\"},{\"index\":131,\"Activity\":\"Log auditing\",\"Baseline\":\"REQUIRED\",\"SSDF\":\"PO 3.1, \\\\nPO.3.2\",\"Description\":\"Ensure possession of the logs and that aggregation is performed correctly\",\"Inputs\":\"Logs\",\"Outputs\":\"Report\",\"ToolDependency\":\"Log aggregator\\\\nLog analysis & auditing\",\"SecurityTestingCM\":\"\",\"Phase\":\"Monitor\",\"PhaseOrder\":8,\"OrderInPhase\":6,\"ActivityIdentifier\":\"logAuditing\"},{\"index\":132,\"Activity\":\"Mission Based Cyber Risk Assessments\",\"Baseline\":\"REQUIRED\",\"SSDF\":\"PW.7.2, \\\\nRV.1.1, \\\\nRV.1.2, \\\\nRV.2.1, \\\\nRV.3.1, \\\\nRV.3.2, \\\\nRV.3.3, \",\"Description\":\"An assessment of risks based upon the stated mission of the system or platform\",\"Inputs\":\"NIST 800-53 RMF Control Implementations\\\\nFIPS 199 system categorization\\\\nInformation types\\\\nCNSSI 1253\",\"Outputs\":\"Risk assessment\",\"ToolDependency\":\"Risk assessment tool\",\"SecurityTestingCM\":\"Security\",\"Phase\":\"Monitor\",\"PhaseOrder\":8,\"OrderInPhase\":7,\"ActivityIdentifier\":\"missionBasedCyberRiskAssessments\"},{\"index\":133,\"Activity\":\"Runtime Application Self Protection (RASP)\",\"Baseline\":\"PREFERRED\",\"SSDF\":\"PW 8.2, \",\"Description\":\"Runtime application self-protection (RASP) is a security technology that uses runtime instrumentation to detect and block computer attacks by taking advantage of information from inside the running software. The technology differs from perimeter-based protections such as firewalls, that can only detect and block attacks by using network information without contextual awareness.\",\"Inputs\":\"Running system\\\\nTest scenarios\\\\nTest data\",\"Outputs\":\"Alerts and remediation reports\",\"ToolDependency\":\"RASP tool\",\"SecurityTestingCM\":\"Security\",\"Phase\":\"Monitor\",\"PhaseOrder\":8,\"OrderInPhase\":8,\"ActivityIdentifier\":\"runtimeApplicationSelfProtectionRasp\"},{\"index\":134,\"Activity\":\"System configuration monitoring\",\"Baseline\":\"PREFERRED\",\"SSDF\":\"PO.3.1, \\\\nPO.3.2, \\\\nPO.3.3\",\"Description\":\"System configuration (infrastructure components and software) compliance checking, analysis, and reporting\",\"Inputs\":\"Running system configuration;\\\\nConfiguration baseline\",\"Outputs\":\"Compliance report;\\\\nRecommended actions;\\\\nWarnings and alerts\",\"ToolDependency\":\"ISCM;\\\\nIssue tracking system;\\\\nAlerting and notification;\\\\nOperations dashboard\",\"SecurityTestingCM\":\"Configuration Management\",\"Phase\":\"Monitor\",\"PhaseOrder\":8,\"OrderInPhase\":9,\"ActivityIdentifier\":\"systemConfigurationMonitoring\"},{\"index\":135,\"Activity\":\"System performance monitoring\",\"Baseline\":\"PREFERRED\",\"SSDF\":\"PO.3.1, \\\\nPO.3.2, \\\\nPO.3.3\",\"Description\":\"Monitor system hardware, software, database, and network performance;\\\\nBaselining system performance;\\\\nDetect anomalies\",\"Inputs\":\"Running system\",\"Outputs\":\"Performance KPI measures;\\\\nRecommended actions;\\\\nWarnings or alerts\",\"ToolDependency\":\"Operation monitoring\\\\nIssue tracking system\\\\nAlerting and notification\\\\nOperations dashboard\",\"SecurityTestingCM\":\"Configuration Management\",\"Phase\":\"Monitor\",\"PhaseOrder\":8,\"OrderInPhase\":10,\"ActivityIdentifier\":\"systemPerformanceMonitoring\"},{\"index\":136,\"Activity\":\"System Security monitoring\",\"Baseline\":\"REQUIRED\",\"SSDF\":\"PO.3.1, \\\\nPO.3.2, \\\\nPO.3.3, \\\\nPO.5.1, \\\\nPO.5.2, \\\\nRV.1.1\",\"Description\":\"Monitor security of all system components\\\\nSecurity vulnerability assessment\\\\nSystem security compliance scan\",\"Inputs\":\"Running system\",\"Outputs\":\"Vulnerabilities;\\\\nIncompliance Findings;\\\\nAssessments and recommendations;\\\\nWarnings and alerts\",\"ToolDependency\":\"ISCM;\\\\nIssue tracking system;\\\\nAlerting and notification;\\\\nOperations dashboard\",\"SecurityTestingCM\":\"Security\",\"Phase\":\"Monitor\",\"PhaseOrder\":8,\"OrderInPhase\":11,\"ActivityIdentifier\":\"systemSecurityMonitoring\"},{\"index\":137,\"Activity\":\"Test Audit\",\"Baseline\":\"REQUIRED\",\"SSDF\":\"PO 2.1, \\\\nPS 2.1, \\\\nPW 1.2, \\\\nPW 2.1\",\"Description\":\"Test audit keeps who performs what test at what time and test results in records\",\"Inputs\":\"Test activity and test results\",\"Outputs\":\"Test audit log\",\"ToolDependency\":\"Test management tool\",\"SecurityTestingCM\":\"Testing\",\"Phase\":\"Monitor\",\"PhaseOrder\":8,\"OrderInPhase\":12,\"ActivityIdentifier\":\"testAudit\"},{\"index\":138,\"Activity\":\"Test configuration audit\",\"Baseline\":\"PREFERRED\",\"SSDF\":\"PO 3.3\",\"Description\":\"Track test and security scan results\",\"Inputs\":\"Test results;\",\"Outputs\":\"Test configuration audit\",\"ToolDependency\":\"Track test and security scan results\",\"SecurityTestingCM\":\"Testing\",\"Phase\":\"Monitor\",\"PhaseOrder\":8,\"OrderInPhase\":13,\"ActivityIdentifier\":\"testConfigurationAudit\"},{\"index\":139,\"Activity\":\"User Evaluation \\\\/ Feedback\",\"Baseline\":\"REQUIRED\",\"SSDF\":\"PO.4.2\",\"Description\":\"Collect and analyze user evaluations and\\\\/or feedback\",\"Inputs\":\"Surveys;\\\\nBug reports;\\\\nTrouble tickets\",\"Outputs\":\"\",\"ToolDependency\":\"\",\"SecurityTestingCM\":\"Testing\",\"Phase\":\"Monitor\",\"PhaseOrder\":8,\"OrderInPhase\":14,\"ActivityIdentifier\":\"userEvaluationFeedback\"},{\"index\":140,\"Activity\":\"Revise Product Backlog\",\"Baseline\":\"REQUIRED\",\"SSDF\":\"PO.1.1, PO.1.2; PO.1.3, PO.3.1, PO.4.1, RV.2.2, RV.3.1, RV.3.2, RV.3.3, RV.3.4\",\"Description\":\"Update the product backlog with new features, improvements, bugs, vulnerabiliy remediations, and performance improvements based upon collected metrics \",\"Inputs\":\"Requirements;\\\\nImprovements;\\\\nBugs;\\\\nVulnerabilities;\\\\nCollected metrics\",\"Outputs\":\"Updates to the Product Backlog\",\"ToolDependency\":\"Requirements Management Tool\",\"SecurityTestingCM\":\"\",\"Phase\":\"Feedback\",\"PhaseOrder\":9,\"OrderInPhase\":0,\"ActivityIdentifier\":\"reviseProductBacklog\"},{\"index\":141,\"Activity\":\"User Evaluation \\\\/ Feedback\",\"Baseline\":\"REQUIRED\",\"SSDF\":\"PO.4.2\",\"Description\":\"Collect and analyze user evaluations and\\\\/or feedback\",\"Inputs\":\"Surveys;\\\\nBug reports;\\\\nTrouble tickets\",\"Outputs\":\"\",\"ToolDependency\":\"\",\"SecurityTestingCM\":\"Testing\",\"Phase\":\"Feedback\",\"PhaseOrder\":9,\"OrderInPhase\":1,\"ActivityIdentifier\":\"userEvaluationFeedback\"}]}'"
            ]
          },
          "execution_count": 54,
          "metadata": {},
          "output_type": "execute_result"
        }
      ],
      "source": [
        "# just inspecting as json (enables processing using GPT3/4 possibilities)\n",
        "phaseActivityDataFrame.to_json(orient='table')"
      ]
    },
    {
      "cell_type": "code",
      "execution_count": 55,
      "metadata": {
        "id": "RdhybdnYUX2t"
      },
      "outputs": [],
      "source": [
        "phaseActivityDataFrame.rename(columns={\"ToolDependency\":\"ToolDependenciesText\", \"Inputs\":\"InputsText\", \"Outputs\":\"OutputsText\"},inplace=True)\n",
        "## prepare empty lists to accept values parsed from text fields\n",
        "phaseActivityDataFrame[\"ToolsList\"]=[[] for _ in range(len(phaseActivityDataFrame))]\n",
        "phaseActivityDataFrame[\"InputsList\"]=[[] for _ in range(len(phaseActivityDataFrame))]\n",
        "phaseActivityDataFrame[\"OutputsList\"]=[[] for _ in range(len(phaseActivityDataFrame))]"
      ]
    },
    {
      "cell_type": "code",
      "execution_count": 56,
      "metadata": {
        "id": "C_FjSUDIi0fa"
      },
      "outputs": [
        {
          "data": {
            "text/plain": [
              "['Cover',\n",
              " 'Overview',\n",
              " 'Continuous Activities',\n",
              " 'Plan',\n",
              " 'Develop',\n",
              " 'Build',\n",
              " 'Test',\n",
              " 'Release',\n",
              " 'Deliver',\n",
              " 'Deploy',\n",
              " 'Operate',\n",
              " 'Monitor',\n",
              " 'Feedback',\n",
              " 'Tools']"
            ]
          },
          "execution_count": 56,
          "metadata": {},
          "output_type": "execute_result"
        }
      ],
      "source": [
        "# just checking sheet names\n",
        "xls.sheet_names"
      ]
    },
    {
      "cell_type": "markdown",
      "metadata": {},
      "source": [
        "### Build Tools data-frame"
      ]
    },
    {
      "cell_type": "code",
      "execution_count": 57,
      "metadata": {
        "id": "-r_wKzoxi0fa"
      },
      "outputs": [],
      "source": [
        "toolsDataFrame = pd.read_excel(xls, \"Tools\")\n",
        "toolsDataFrame.replace(np.nan, \"\", inplace=True)"
      ]
    },
    {
      "cell_type": "code",
      "execution_count": 58,
      "metadata": {
        "id": "Q9gMgnpGi0fb"
      },
      "outputs": [],
      "source": [
        "toolsDataFrame.rename(columns={ \"Inputs\":\"InputsText\", \"Outputs\":\"OutputsText\"},inplace=True)\n",
        "toolsDataFrame[\"InputsList\"]=[[] for _ in range(len(toolsDataFrame))]\n",
        "toolsDataFrame[\"OutputsList\"]=[[] for _ in range(len(toolsDataFrame))]"
      ]
    },
    {
      "cell_type": "markdown",
      "metadata": {},
      "source": [
        "### Import \"Continuous Activities\" sheet regions"
      ]
    },
    {
      "cell_type": "code",
      "execution_count": 118,
      "metadata": {},
      "outputs": [
        {
          "data": {
            "text/html": [
              "<div>\n",
              "<style scoped>\n",
              "    .dataframe tbody tr th:only-of-type {\n",
              "        vertical-align: middle;\n",
              "    }\n",
              "\n",
              "    .dataframe tbody tr th {\n",
              "        vertical-align: top;\n",
              "    }\n",
              "\n",
              "    .dataframe thead th {\n",
              "        text-align: right;\n",
              "    }\n",
              "</style>\n",
              "<table border=\"1\" class=\"dataframe\">\n",
              "  <thead>\n",
              "    <tr style=\"text-align: right;\">\n",
              "      <th></th>\n",
              "      <th>Activity</th>\n",
              "      <th>Phase</th>\n",
              "      <th>Tool Dependencies</th>\n",
              "      <th>Aspect</th>\n",
              "    </tr>\n",
              "  </thead>\n",
              "  <tbody>\n",
              "    <tr>\n",
              "      <th>0</th>\n",
              "      <td>Mission Based Cyber Risk Assessments</td>\n",
              "      <td>All Phases</td>\n",
              "      <td>Mission Cyber Risk Assessment tool</td>\n",
              "      <td>Security</td>\n",
              "    </tr>\n",
              "    <tr>\n",
              "      <th>1</th>\n",
              "      <td>Threat modeling</td>\n",
              "      <td>Plan</td>\n",
              "      <td>Threat modeling tool</td>\n",
              "      <td>Security</td>\n",
              "    </tr>\n",
              "    <tr>\n",
              "      <th>2</th>\n",
              "      <td>Code commit scan</td>\n",
              "      <td>Develop</td>\n",
              "      <td>Source code repository security plugin</td>\n",
              "      <td>Security</td>\n",
              "    </tr>\n",
              "    <tr>\n",
              "      <th>3</th>\n",
              "      <td>Security code development</td>\n",
              "      <td>Develop</td>\n",
              "      <td>IDE</td>\n",
              "      <td>Security</td>\n",
              "    </tr>\n",
              "    <tr>\n",
              "      <th>4</th>\n",
              "      <td>Static code scan before commit</td>\n",
              "      <td>Develop</td>\n",
              "      <td>IDE security plugins</td>\n",
              "      <td>Security</td>\n",
              "    </tr>\n",
              "    <tr>\n",
              "      <th>...</th>\n",
              "      <td>...</td>\n",
              "      <td>...</td>\n",
              "      <td>...</td>\n",
              "      <td>...</td>\n",
              "    </tr>\n",
              "    <tr>\n",
              "      <th>71</th>\n",
              "      <td>Test configuration control</td>\n",
              "      <td>Test</td>\n",
              "      <td>Team collaboration system; Issue tracking syst...</td>\n",
              "      <td>CM</td>\n",
              "    </tr>\n",
              "    <tr>\n",
              "      <th>72</th>\n",
              "      <td>Infrastructure provisioning automation</td>\n",
              "      <td>Deploy</td>\n",
              "      <td>Configuration automation tool; IaC</td>\n",
              "      <td>CM</td>\n",
              "    </tr>\n",
              "    <tr>\n",
              "      <th>73</th>\n",
              "      <td>Asset inventory to include SBOMs</td>\n",
              "      <td>Monitor</td>\n",
              "      <td>Inventory Management</td>\n",
              "      <td>CM</td>\n",
              "    </tr>\n",
              "    <tr>\n",
              "      <th>74</th>\n",
              "      <td>System performance monitoring</td>\n",
              "      <td>Monitor</td>\n",
              "      <td>Operation monitoring; Issue tracking system; A...</td>\n",
              "      <td>CM</td>\n",
              "    </tr>\n",
              "    <tr>\n",
              "      <th>75</th>\n",
              "      <td>System configuration monitoring</td>\n",
              "      <td>Monitor</td>\n",
              "      <td>ISCM; Issue tracking system; Alerting and noti...</td>\n",
              "      <td>CM</td>\n",
              "    </tr>\n",
              "  </tbody>\n",
              "</table>\n",
              "<p>72 rows × 4 columns</p>\n",
              "</div>"
            ],
            "text/plain": [
              "                                  Activity       Phase  \\\n",
              "0     Mission Based Cyber Risk Assessments  All Phases   \n",
              "1                          Threat modeling        Plan   \n",
              "2                         Code commit scan     Develop   \n",
              "3                Security code development     Develop   \n",
              "4           Static code scan before commit     Develop   \n",
              "..                                     ...         ...   \n",
              "71             Test configuration control         Test   \n",
              "72  Infrastructure provisioning automation      Deploy   \n",
              "73        Asset inventory to include SBOMs     Monitor   \n",
              "74           System performance monitoring     Monitor   \n",
              "75         System configuration monitoring     Monitor   \n",
              "\n",
              "                                    Tool Dependencies    Aspect  \n",
              "0                  Mission Cyber Risk Assessment tool  Security  \n",
              "1                                Threat modeling tool  Security  \n",
              "2              Source code repository security plugin  Security  \n",
              "3                                                 IDE  Security  \n",
              "4                                IDE security plugins  Security  \n",
              "..                                                ...       ...  \n",
              "71  Team collaboration system; Issue tracking syst...        CM  \n",
              "72                 Configuration automation tool; IaC        CM  \n",
              "73                               Inventory Management        CM  \n",
              "74  Operation monitoring; Issue tracking system; A...        CM  \n",
              "75  ISCM; Issue tracking system; Alerting and noti...        CM  \n",
              "\n",
              "[72 rows x 4 columns]"
            ]
          },
          "execution_count": 118,
          "metadata": {},
          "output_type": "execute_result"
        }
      ],
      "source": [
        "contActDataFrame = pd.read_excel(xls, \"Continuous Activities\")\n",
        "contActDataFrame.rename(columns={ \"Security Activities\":\"Activity\", \"Cyber Tool Dependencies\":\"Tool Dependencies\"},inplace=True)\n",
        "contActDataFrame = contActDataFrame.drop('Column1', axis=1) # extra hidden Excel column\n",
        "contActDataFrame.loc[contActDataFrame.index <= 23 , \"Aspect\"] = \"Security\"\n",
        "contActDataFrame.loc[(contActDataFrame.index >= 26 ) & ( contActDataFrame.index <= 59) , \"Aspect\"] = \"Test\"\n",
        "contActDataFrame.loc[contActDataFrame.index >= 62 , \"Aspect\"] = \"CM\"\n",
        "contActDataFrame = contActDataFrame[contActDataFrame.Aspect.notnull()]\n",
        "contActDataFrame.replace(np.nan, \"\", inplace=True)\n"
      ]
    },
    {
      "cell_type": "markdown",
      "metadata": {
        "id": "DKdSjknti0fb"
      },
      "source": [
        "### Dataframe select, filter, order examples"
      ]
    },
    {
      "cell_type": "code",
      "execution_count": null,
      "metadata": {
        "id": "aQpCOIyPi0fb"
      },
      "outputs": [],
      "source": [
        "### Dataframe slicing examples\n",
        "phaseActivityDataFrame.iloc[3:39]"
      ]
    },
    {
      "cell_type": "code",
      "execution_count": null,
      "metadata": {
        "id": "R9qpLPL3i0fc"
      },
      "outputs": [],
      "source": [
        "### Dataframe ordering and filtering examples\n",
        "phaseActivityDataFrame.sort_values([\"PhaseOrder\",\"OrderInPhase\"])[phaseActivityDataFrame[\"Phase\"]>=\"Plan\"]"
      ]
    },
    {
      "cell_type": "code",
      "execution_count": null,
      "metadata": {
        "id": "e2zKaciRi0fc"
      },
      "outputs": [],
      "source": [
        "### Dataframe selection examples\n",
        "phaseActivityDataFrame[[\"Phase\",\"Baseline\"]]"
      ]
    },
    {
      "cell_type": "code",
      "execution_count": null,
      "metadata": {
        "id": "TMxwLnasi0fc"
      },
      "outputs": [],
      "source": [
        "### access to lists within cells\n",
        "toolsDataFrame.iloc[0].InputsList.append(123)\n",
        "toolsDataFrame.iloc[0].InputsList.clear()\n",
        "toolsDataFrame.iloc[0]"
      ]
    },
    {
      "cell_type": "markdown",
      "metadata": {
        "id": "mB6xKthCi0fd"
      },
      "source": [
        "### Parse out text cells"
      ]
    },
    {
      "cell_type": "code",
      "execution_count": null,
      "metadata": {
        "id": "oiM3HKAUi0fd"
      },
      "outputs": [],
      "source": [
        "#helper function - check what text isn't being extracted from a string during parsing\n",
        "def remaining_text(txt, strs):\n",
        "    rem = txt\n",
        "    for s in strs:\n",
        "        rem = rem.replace(s,'')\n",
        "\n",
        "    return rem.replace(\"\\n\",\"\")"
      ]
    },
    {
      "cell_type": "markdown",
      "metadata": {
        "id": "h-B96jb9i0fe"
      },
      "source": [
        "### Cleansing of text list cells"
      ]
    },
    {
      "cell_type": "code",
      "execution_count": null,
      "metadata": {},
      "outputs": [],
      "source": [
        "# stash uncleansed data to allow repeated, perhaps destructive cleansing attempts below\n",
        "toolsDataFramePreMods = toolsDataFrame.copy()\n",
        "phaseActivityDataFramePreMods = phaseActivityDataFrame.copy()\n"
      ]
    },
    {
      "cell_type": "code",
      "execution_count": null,
      "metadata": {
        "id": "47OmY4n_i0fe"
      },
      "outputs": [],
      "source": [
        "# start (again) from stashed data\n",
        "toolsDataFrame = toolsDataFramePreMods.copy()\n",
        "phaseActivityDataFrame = phaseActivityDataFramePreMods.copy()\n",
        "\n",
        "inputOutputReplaces ={    # \"is real\" phrase addition leads NLP into treating elements a noun chunk\n",
        "           \"Change management\" : \"Change-management\" ,\n",
        "           \"IT infrastructure asset\" : \"IT-infrastructure-asset\",\n",
        "            \"Artifacts (Infrastructure as Code)\" : \"IAC Artifacts,\",\n",
        "            \"Infrastructure as Code\" : \"IAC is real\",\n",
        "            \"Infrastructure as code\" : \"IAC is real\",\n",
        "            \"NIST 800-53 RMF Control Implementations\" :\"NIST80053RMFControl-Implementation,\",\n",
        "            \"FIPS 199 system categorization\" : \"FIPS-199-system-categorization,\",\n",
        "            \"Stakeholder inputs or feedback\" : \"Stakeholder-input, Stakeholder feedback\",\n",
        "            \"Requirements database or documents\" : \"Requirements database, Requirements document\",\n",
        "            \"Test environment applications and infrastructure\" : \"Test environment application, Test environment infrastructure\",\n",
        "            \"Developer coding and appropriate unit, integration, etc. testing input\" : \"Code-Development input, Unit test input, Integration test input, Other test input\",\n",
        "            \"- Review Comments\" : \"Review-Comment,\",\n",
        "            \"- Source Code Weakness Findings\" : \"Source Code Weakness Findings,\",\n",
        "            \"- Version-Controlled Source Code\" :\"Version-Controlled Source Code,\",\n",
        "            \"- Security Findings and Warnings\" : \"Security Findings, Security Warning,\",\n",
        "            'Technical feedback as to “is the system built right” and operational feedback as to “was the right system built”' : \"Technical feedback. Operational feedback.\",\n",
        "            \"Database traffic, event, and activities\" : \"Database traffic. Database events. Database activities.\",\n",
        "            \"Artifacts in the repository;\" : \"Artifacts.\",\n",
        "            \"Requirements documents and/or database;\" : \"Requirements documents. Requirements database.\",\n",
        "            \"Requirement documents and/or database\" : \"Requirements documents. Requirements database\",\n",
        "            \"Requirements database or documents\" : \"Requirements documents. Requirements database\",\n",
        "            \"Software Factory controls\" : \"Software-Factory controls are real.\",\n",
        "            \"Software Bill of Materials\" : \"SBOM\",\n",
        "            \"Functional and non-functional regression test cases\" : \"Regression-test cases.\",\n",
        "            \"and the software system\" : \". Software system\",\n",
        "            \"\\nThe software system\" : \". Software system\",\n",
        "            \"\\nDatabase artifacts;\" : \". Database artifacts are real .\",\n",
        "            \"\\nRelease notes\" : \". Release notes are real.\",\n",
        "            \"APIs for integrated systems\" : \"APIs are real\",\n",
        "            \"\\nDependency checking report\" : \". Dependency-checking report is real\",\n",
        "            \"individual software unit under test (a function, method or an interface)\" : \"software unit\",\n",
        "            \"expected output data\" : \"expected-output-data is real\",\n",
        "            \"Updates to the Product Backlog\" : \"Product-backlog updates\",\n",
        "            \"Performance KPI measures\" : \"KPI-measures are real\",\n",
        "            \"and remediation reports\" : \". Remediation reports are real\",\n",
        "            \"Point-in-time recovered file\" : \"Recovered file\",\n",
        "            \"Reports of observed performance\" : \"Observed-performance reports\",\n",
        "            \"Reports of test results\" : \"Test-result Reports\",\n",
        "            \"New release in the artifact repository\" : \"Release-To-Repo is real\",\n",
        "            \"\\nPush go/no-go decision\" : \". Push go/no-go decision\",\n",
        "            \"go / no-go decision; \\nArtifacts are tagged with release tag if go decision is made\" : \"Go/no-go decision is real. Artifacts-release-tag is real\",\n",
        "            \"Artifacts in all regional artifact repositories\" : \"Replicated Artifacts\",\n",
        "            \"Test report to determine whether the individual software unit performs as designed.\" : \"Test report is real\",\n",
        "            \"test scripts, the software units under test, test input data, and expected output data\" : \"test scripts. Software-units under test. Test-input data. Expected-output data\",\n",
        "            \"- Auto generated Application Programming Interface (API) documentation\" : \"Generated-API documentation\",\n",
        "            \"\" : \"\",\n",
        "            \"\" : \"\",\n",
        "            \"\" : \"\",\n",
        "            \"\" : \"\",\n",
        "\n",
        "            \"Aggregated filtered logs from the Log Aggregator\" : \"Aggregated filtered logs are real\",\n",
        "            \"Vulnerability and non-compliance findings from Information Security Continuous Monitoring\" : \"Vulnerability findings . non-compliance findings\",\n",
        "            \"Recommendations from Information Security Continuous Monitoring\" : \"information security recommendations\",\n",
        "            \"Performance statistics from Operations Monitoring\" : \"Performance statistics\",\n",
        "            \"Performance alerts from Operations Monitoring\" : \"Performance-alert are real\",\n",
        "            \"IT assets (applications, software licenses, libraries, operating systems, and versioning information)\" : \"IT-infrastructure-asset\",\n",
        "            \"Access to the backup source\" : \"backup-source access\",\n",
        "            \"Source code under version control\" : \"Version-Controlled Source Code\",\n",
        "            \"IT hardware and software components information\" : \"IT hardware information . Software component information is real\",\n",
        "            \"Everything as Code\" : \"EAC is real\", \n",
        "            \"Cyber threat condition feeds\" : \"Cyber-threat-condition feed\",\n",
        "            \"Running status and events\" : \"Database status . Database-event\",\n",
        "            \"BOM, including:\\nDependency list\\nLicensing\" : \"BOM, including:\\nDependency list\\n Licensing is real\",\n",
        "            \"Running software application\" : \"running software application is real\",\n",
        "            \"Fuzz inputs\" : \"Fuzz inputs are real\",\n",
        "            \"Developer coding input\" : \"Code-Development input\",\n",
        "            \"Running application and operating systems\" : \"Running software application is real . Running operating system is real .\",\n",
        "            \"Root cause analysis\" : \"Root-cause analysis\",\n",
        "            \"Root cause analysis\" : \"Root-cause analysis\",\n",
        "            \"Feature/change request\" : \"Feature request . change request\",\n",
        "            \"security audit logs\" : \"security audit logs are real\",\n",
        "            \"Event Logs\" : \"Event Log is real\",\n",
        "            \"Event logs\" : \"Event Log is real\",\n",
        "            \"All user, network, application, and data activities\" : \"user activities. network activities. application activities. data activities\",\n",
        "            \"All operational monitoring status, alerts\" : \"Operational-monitoring status, Operational-monitoring alert\",\n",
        "            \"Performance KPI\" : \"KPI is real. \",\n",
        "            \"Service Level Agreement (SLA)\" : \"SLA is real.\",\n",
        "            \"Service Level Agreements\" : \"SLA is real.\",\n",
        "            \"Software instances\" : \"Software instances are real\",\n",
        "\n",
        "            \"\\nSystem VM or container snapshot\" : \"\\nSystem VM snapshot . container snapshot\",\n",
        "            \"Binary artifacts stored in the Artifact repository\" : \"Binary artifacts\",\n",
        "            \"code comments\" : \"code comments are real\",\n",
        "            \"Compliance reports\" : \"Compliance reports are real\",\n",
        "            \"Recommend changes in CSRP\" : \"CSRP-change recommendations\",\n",
        "            \"Audit logs;\" : \"Audit logs are real .\",\n",
        "            \"Recommended mitigation actions\" : \". Mitigation recommendations.\",\n",
        "            \"Dynamic code scan report \" : \"Dynamic-code-scan report.\",\n",
        "            \"and recommended mitigation\" : \". Mitigation recommendations.\",\n",
        "            \"Issue resolution tracking history\" : \"Issue-resolution-tracking history\",\n",
        "            \"Remediation report and log\" : \"Remediation report . Remediation log is real\",\n",
        "            \"Performance alerts\" : \"Performance alerts are real\",\n",
        "            \"Release package with checksum and digital signature (a bundle of artifacts, such as a self-extracting software installer, or a tar file, etc.)\" : \"Release package is real\",\n",
        "            \"Security findings and warnings\" : \"Security findings. Security warnings\",\n",
        "            \"Static code scan report\" : \"Static-code-scan report\",\n",
        "            \"The percentage of code that is exercised by the tests.\" : \"Code-Test-Coverage-Pct is real\",\n",
        "            \"Input data for the system under test\" : \"Test data\",\n",
        "            \"Test results statistics\" : \"Test-result statistics\",\n",
        "            \"Running VM\" : \"Running-VM is real\",\n",
        "\n",
        "            \"\" : \"\",\n",
        "            \"\" : \"\",\n",
        "\n",
        "}\n",
        "toolsDataFrame[\"InputsTextNlpPrepped\"] = toolsDataFrame.InputsText\n",
        "toolsDataFrame[\"OutputsTextNlpPrepped\"] = toolsDataFrame.OutputsText\n",
        "phaseActivityDataFrame[\"InputsTextNlpPrepped\"] = phaseActivityDataFrame.InputsText\n",
        "phaseActivityDataFrame[\"OutputsTextNlpPrepped\"] = phaseActivityDataFrame.OutputsText\n",
        "phaseActivityDataFrame[\"ToolsTextNlpPrepped\"] = phaseActivityDataFrame.ToolDependenciesText\n",
        "\n",
        "for pair in inputOutputReplaces.items():\n",
        "    toolsDataFrame.InputsTextNlpPrepped = toolsDataFrame.apply(lambda x : x.InputsTextNlpPrepped.replace(pair[0], pair[1]), axis='columns')\n",
        "    toolsDataFrame.OutputsTextNlpPrepped = toolsDataFrame.apply(lambda x : x.OutputsTextNlpPrepped.replace(pair[0], pair[1]), axis='columns')\n",
        "    phaseActivityDataFrame.InputsTextNlpPrepped = phaseActivityDataFrame.apply(lambda x : x.InputsTextNlpPrepped.replace(pair[0], pair[1]), axis='columns')\n",
        "    phaseActivityDataFrame.OutputsTextNlpPrepped = phaseActivityDataFrame.apply(lambda x : x.OutputsTextNlpPrepped.replace(pair[0], pair[1]), axis='columns')\n",
        "\n",
        "toolReplaces = {\n",
        "            \"Monitoring tool suite\" : \"Monitoring-tool suite\",\n",
        "            \"Test tool suite\" : \"Test-tool suite\",\n",
        "            \"Log aggregator\" : \"Log-aggregator\",\n",
        "            \"Log analysis & auditing\" : \"Log-analysis, Log-auditing, \",\n",
        "            \"Logging\" : \"Logging-tool\",\n",
        "            \"Logging-tool tool\" : \"Logging-tool\",\n",
        "            \"Track test and security scan results\" : \"test-and-scan tracker\",\n",
        "            \"\\nAlerting and notification\" : \";. Alerting-notification system. \",\n",
        "            \"\\nIssue tracking system\" : \";. Issue-tracking system;\",\n",
        "            \"Compliance as Code\" : \"Compliance-as-Code is real\",\n",
        "            \"Non-security compliance scan\" : \"Non-security-compliance-scan tool\",\n",
        "            \"Artifacts repositories (release, regional)\" : \"Artifacts repository\",\n",
        "            \"Vulnerability findings;\\nRecommended mitigation actions\" : \"\",\n",
        "            \"Test results documenting the performance of the system.\" : \"\",\n",
        "            \"Test results documenting the functioning of the system.\" : \"\",\n",
        "            \"Test report documenting the performance of the integrated unit.\" : \"\",\n",
        "            \"Dependency checking / BOM checking tool\" : \"Dependency-BOM-checking tool\",\n",
        "            \"IDE or document editor or build tool\" : \"IDE is real. Document editor. Build tool.\",\n",
        "            \"IDE or tools come with the database software\" : \"IDE is real. Database-tools are real.\",\n",
        "            \"\" : \"\",\n",
        "            \"\" : \"\",\n",
        "            \"\" : \"\",\n",
        "            \"\" : \"\",\n",
        "}\n",
        "for pair in toolReplaces.items():\n",
        "    toolsDataFrame.Tool = toolsDataFrame.apply(lambda x : x.Tool.replace(pair[0], pair[1]), axis='columns')\n",
        "    phaseActivityDataFrame.ToolsTextNlpPrepped = phaseActivityDataFrame.apply(lambda x : x.ToolsTextNlpPrepped.replace(pair[0], pair[1]), axis='columns')\n",
        "\n",
        "\n",
        "# nlp extraction of noun phrases\n",
        "toolsDataFrame.InputsList = toolsDataFrame.apply(lambda x :  [chunk.text for chunk in nlp(x.InputsTextNlpPrepped.replace(\"\\n\",\" . \")).noun_chunks], axis='columns') # period better than \\n as separator between noun chunks\n",
        "toolsDataFrame.OutputsList = toolsDataFrame.apply(lambda x :  [chunk.text for chunk in nlp(x.OutputsTextNlpPrepped.replace(\"\\n\",\" . \")).noun_chunks], axis='columns')\n",
        "phaseActivityDataFrame.InputsList = phaseActivityDataFrame.apply(lambda x :  [chunk.text for chunk in nlp(x.InputsTextNlpPrepped.replace(\"\\n\",\" . \")).noun_chunks], axis='columns')\n",
        "phaseActivityDataFrame.OutputsList = phaseActivityDataFrame.apply(lambda x :  [chunk.text for chunk in nlp(x.OutputsTextNlpPrepped.replace(\"\\n\",\" . \")).noun_chunks], axis='columns')\n",
        "phaseActivityDataFrame.ToolsList = phaseActivityDataFrame.apply(lambda x :  [chunk.text for chunk in nlp(x.ToolsTextNlpPrepped.replace(\"\\n\",\" . \")).noun_chunks], axis='columns')\n",
        "\n",
        "# text left behind\n",
        "toolsDataFrame['InputsTextRemainder'] = toolsDataFrame.apply(lambda x : remaining_text(x.InputsText, x.InputsList) , axis='columns')\n",
        "toolsDataFrame['OutputsTextRemainder'] = toolsDataFrame.apply(lambda x : remaining_text(x.OutputsText, x.OutputsList) , axis='columns')\n",
        "phaseActivityDataFrame['InputsTextRemainder'] = phaseActivityDataFrame.apply(lambda x : remaining_text(x.InputsText, x.InputsList) , axis='columns')\n",
        "phaseActivityDataFrame['OutputsTextRemainder'] = phaseActivityDataFrame.apply(lambda x : remaining_text(x.OutputsText, x.OutputsList) , axis='columns')\n",
        "phaseActivityDataFrame['ToolsTextRemainder'] = phaseActivityDataFrame.apply(lambda x : remaining_text(x.ToolDependenciesText, x.ToolsList) , axis='columns')\n"
      ]
    },
    {
      "cell_type": "markdown",
      "metadata": {
        "id": "DvrP698mi0ff"
      },
      "source": [
        "### Cleansed - Now turn item names into identifiers - camelCase"
      ]
    },
    {
      "cell_type": "code",
      "execution_count": null,
      "metadata": {
        "id": "ztbGyeiai0ff"
      },
      "outputs": [],
      "source": [
        "toolsDataFrame[\"ToolIdentifier\"]=toolsDataFrame[\"Tool\"].apply( cleanCamel )\n",
        "toolsDataFrame.InputsList = toolsDataFrame.apply(lambda x : [ cleanCamel(y) for y in x.InputsList ], axis='columns' )\n",
        "toolsDataFrame.OutputsList = toolsDataFrame.apply(lambda x : [ cleanCamel(y) for y in x.OutputsList ], axis='columns' )\n",
        "phaseActivityDataFrame.InputsList = phaseActivityDataFrame.apply(lambda x : [ cleanCamel(y) for y in x.InputsList ], axis='columns' )\n",
        "phaseActivityDataFrame.OutputsList = phaseActivityDataFrame.apply(lambda x : [ cleanCamel(y) for y in x.OutputsList ], axis='columns' )\n",
        "phaseActivityDataFrame.ToolsList = phaseActivityDataFrame.apply(lambda x : [ cleanCamel(y) for y in x.ToolsList ], axis='columns' )\n",
        "\n"
      ]
    },
    {
      "cell_type": "markdown",
      "metadata": {},
      "source": [
        "### Inspection post-cleasning"
      ]
    },
    {
      "cell_type": "code",
      "execution_count": null,
      "metadata": {
        "id": "raZEw8sIi0ff"
      },
      "outputs": [],
      "source": [
        "\n",
        "#filtered column view to aid visual inspection post-cleansing\n",
        "checkToolInputs = toolsDataFrame[[\"Tool\",\"InputsText\",\"InputsList\",\"InputsTextRemainder\", \"InputsTextNlpPrepped\",]]\n",
        "checkToolOutputs = toolsDataFrame[[\"Tool\",\"OutputsText\",\"OutputsList\",\"OutputsTextRemainder\", \"OutputsTextNlpPrepped\"]]\n",
        "checkPAInputs = phaseActivityDataFrame[[\"Phase\",\"Activity\",\"InputsText\",\"InputsList\",\"InputsTextRemainder\", \"InputsTextNlpPrepped\"]]\n",
        "checkPAOutputs = phaseActivityDataFrame[[\"Phase\",\"Activity\",\"OutputsText\",\"OutputsList\",\"OutputsTextRemainder\", \"OutputsTextNlpPrepped\"]]\n",
        "checkPATools = phaseActivityDataFrame[[\"Phase\",\"Activity\",\"ToolDependenciesText\",\"ToolsList\",\"ToolsTextRemainder\", \"ToolsTextNlpPrepped\"]]\n",
        "\n",
        "## uncomment a line to inspect cleansing results\n",
        "\n",
        "#json.loads(checkToolInputs.to_json(orient='table'))\n",
        "#json.loads(checkToolOutputs.to_json(orient='table'))\n",
        "#json.loads(checkPAInputs.to_json(orient='table'))\n",
        "#json.loads(checkPAOutputs.to_json(orient='table'))\n",
        "#json.loads(checkPATools.to_json(orient='table'))\n"
      ]
    },
    {
      "cell_type": "markdown",
      "metadata": {
        "id": "V2Olgs1Ci0fg"
      },
      "source": [
        "## TODO : Other sheets / regions"
      ]
    },
    {
      "cell_type": "markdown",
      "metadata": {
        "id": "5rEjOmS4i0fy"
      },
      "source": [
        "# RDF creation"
      ]
    },
    {
      "cell_type": "code",
      "execution_count": null,
      "metadata": {
        "id": "9RDHGIQNi0fz"
      },
      "outputs": [],
      "source": [
        "from rdflib import Graph, Namespace, URIRef, Literal, BNode\n",
        "from rdflib.namespace import SKOS, RDF, RDFS, XSD, NamespaceManager, DCTERMS # DC, DOAP, FOAF, VOID, XMLNS\n",
        "\n",
        "\n",
        "\n"
      ]
    },
    {
      "cell_type": "code",
      "execution_count": null,
      "metadata": {
        "id": "tNMX83NFjQbO"
      },
      "outputs": [],
      "source": [
        "# setup namespaces\n",
        "ONT = Namespace(\"http://nodehenge.org/ont#\")\n",
        "INST = Namespace(\"http://nodehenge.org/inst#\")\n",
        "PHASE = Namespace(\"http://nodehenge.org/inst/phase#\")\n",
        "TOOL = Namespace(\"http://nodehenge.org/inst/tool#\")\n",
        "ACT = Namespace(\"http://nodehenge.org/inst/activity#\")\n",
        "ART = Namespace(\"http://nodehenge.org/inst/artifact#\")\n",
        "# create graph and bind namespaces\n",
        "def newNodehengeGraph():\n",
        "  g = Graph() ###base=\"http://nodehenge.org/inst/\")\n",
        "  g.bind(\"rdf\", RDF)\n",
        "  g.bind(\"rdfs\", RDFS)\n",
        "  g.bind(\"skos\", SKOS)\n",
        "  g.bind(\"xsd\", XSD)\n",
        "  g.bind(\"ont\", ONT)\n",
        "  g.bind(\"inst\", INST)\n",
        "  g.bind(\"phase\", PHASE)\n",
        "  g.bind(\"tool\", TOOL)\n",
        "  g.bind(\"act\", ACT)\n",
        "  g.bind(\"art\", ART)\n",
        "  # g.parse(\"resource/ont.ttl\")  ## optional actually\n",
        "  return g"
      ]
    },
    {
      "cell_type": "code",
      "execution_count": null,
      "metadata": {
        "id": "UvqCwXBHi0fz"
      },
      "outputs": [],
      "source": [
        "# populate the top level INST namespace\n",
        "gTopLevel = newNodehengeGraph()\n",
        "gTopLevel.add ((INST.dodDsopScheme, RDF.type, SKOS.ConceptScheme ))\n",
        "gTopLevel.add ((INST.dodDsopScheme, DCTERMS.title, Literal(\"DoD DevSecOps Abstract Phase Activites and Tools Scheme\") ))\n",
        "gTopLevel.add ((INST.dodDsopScheme, DCTERMS.source, URIRef(sourceURI) ))\n"
      ]
    },
    {
      "cell_type": "code",
      "execution_count": null,
      "metadata": {
        "id": "pula_a57i0f0"
      },
      "outputs": [],
      "source": [
        "#populate the PHASE namespace\n",
        "gPhases = newNodehengeGraph()\n",
        "orderedPhaseBNodes = dict([(ph, BNode()) for ph in phaseIDs ])\n",
        "gPhases.add ((PHASE.phasing, RDF.type, SKOS.OrderedCollection))\n",
        "gPhases.add ((PHASE.phasing, SKOS.inScheme, INST.dodDsopScheme))\n",
        "gPhases.add ((PHASE.phasing, SKOS.memberList, orderedPhaseBNodes[phaseIDs[0]]))\n",
        "sideEffectTraversePhases = [ (\n",
        "    gPhases.add((\n",
        "        PHASE[current], RDF.type, ONT.Phase\n",
        "    )),\n",
        "    gPhases.add ((\n",
        "        PHASE[current], SKOS.inScheme, INST.dodDsopScheme\n",
        "    )),\n",
        "    gPhases.add((\n",
        "        PHASE[current], RDF.type, SKOS.Concept\n",
        "    )),\n",
        "    gPhases.add((\n",
        "        PHASE[current], SKOS.prefLabel, Literal(currentName)\n",
        "    )),\n",
        "    gPhases.add((\n",
        "        orderedPhaseBNodes[current], RDF.first, PHASE[current]    #list head\n",
        "    )),\n",
        "    gPhases.add((\n",
        "        orderedPhaseBNodes[current], RDF.rest , orderedPhaseBNodes[next] if next != None else RDF.nil\n",
        "    )),\n",
        "    )\n",
        "    for current, currentName, next in zip( phaseIDs, phaseNames , phaseIDs[1:]+[None]) ] # Traverse : zip current with next phase, until next is None. Allows for linked list creation\n",
        "\n",
        "print(gPhases.serialize(format=\"turtle\",destination=\"gen/phases.ttl\"))"
      ]
    },
    {
      "cell_type": "markdown",
      "metadata": {
        "id": "aW-WSsZgi0f1"
      },
      "source": [
        "### Load"
      ]
    },
    {
      "cell_type": "code",
      "execution_count": null,
      "metadata": {
        "id": "zWjqv0J0i0f1"
      },
      "outputs": [],
      "source": [
        "\n",
        "\n",
        "gToolsArts = newNodehengeGraph()\n",
        "toolsDataFrame.apply( lambda row :\n",
        "    (\n",
        "        gToolsArts.add((\n",
        "            TOOL[row.ToolIdentifier], RDF.type, ONT.AbstractTool\n",
        "        )),\n",
        "        gToolsArts.add((\n",
        "            TOOL[row.ToolIdentifier], RDF.type, SKOS.Concept\n",
        "        )),\n",
        "        gToolsArts.add ((\n",
        "            TOOL[row.ToolIdentifier], SKOS.inScheme, INST.dodDsopScheme\n",
        "        )),\n",
        "        gToolsArts.add((\n",
        "            TOOL[row.ToolIdentifier], SKOS.prefLabel, Literal(row.Tool)\n",
        "        )),\n",
        "        gToolsArts.add((\n",
        "            TOOL[row.ToolIdentifier], SKOS.definition, Literal(row.Benefits)\n",
        "        )),\n",
        "        gToolsArts.add((\n",
        "            TOOL[row.ToolIdentifier], SKOS.scopeNote, Literal(row.Features)\n",
        "        )),\n",
        "        [ ( gToolsArts.add(( ART[item], RDF.type, ONT.AbstractArtifact )),\n",
        "            gToolsArts.add(( ART[item], RDF.type, SKOS.Concept )),\n",
        "            gToolsArts.add(( ART[item], SKOS.inScheme, INST.dodDsopScheme )),\n",
        "            gToolsArts.add(( TOOL[row.ToolIdentifier], ONT.input, ART[item] )),\n",
        "            gToolsArts.add(( ART[item], ONT.input, TOOL[row.ToolIdentifier] )),\n",
        "            ) for item in row.InputsList ],\n",
        "        [ ( gToolsArts.add(( ART[item], RDF.type, ONT.AbstractArtifact )),\n",
        "            gToolsArts.add(( ART[item], RDF.type, SKOS.Concept )),\n",
        "            gToolsArts.add(( ART[item], SKOS.inScheme, INST.dodDsopScheme )),\n",
        "            gToolsArts.add(( TOOL[row.ToolIdentifier], ONT.output, ART[item] )),\n",
        "            gToolsArts.add(( ART[item], ONT.output, TOOL[row.ToolIdentifier] )),\n",
        "            ) for item in row.OutputsList ],\n",
        "    )\n",
        "    , axis='columns' )\n",
        "None"
      ]
    },
    {
      "cell_type": "code",
      "execution_count": null,
      "metadata": {
        "id": "zSSlmrYci0f3"
      },
      "outputs": [],
      "source": [
        "gPhaseActsArts = newNodehengeGraph()\n",
        "phaseActivityDataFrame.apply( lambda row :\n",
        "    (\n",
        "        gPhaseActsArts.add((\n",
        "            ACT[row.ActivityIdentifier], RDF.type, ONT.AbstractActivity\n",
        "        )),\n",
        "        gPhaseActsArts.add((\n",
        "            ACT[row.ActivityIdentifier], RDF.type, SKOS.Concept\n",
        "        )),\n",
        "        gPhaseActsArts.add((\n",
        "            ACT[row.ActivityIdentifier], SKOS.inScheme, INST.dodDsopScheme\n",
        "        )),\n",
        "        gPhaseActsArts.add((\n",
        "            ACT[row.ActivityIdentifier], SKOS.prefLabel, Literal(row.Activity)\n",
        "        )),\n",
        "        gPhaseActsArts.add((\n",
        "            ACT[row.ActivityIdentifier], SKOS.definition, Literal(row.Description)\n",
        "        )),\n",
        "        gPhaseActsArts.add((\n",
        "            ACT[row.ActivityIdentifier], SKOS.scopeNote, Literal(\"Baseline: \" + row.Baseline )\n",
        "        )),\n",
        "        gPhaseActsArts.add((\n",
        "            ACT[row.ActivityIdentifier], SKOS.scopeNote, Literal(\"Relevance: \" + row.SecurityTestingCM )\n",
        "        )),\n",
        "        gPhaseActsArts.add((\n",
        "            ACT[row.ActivityIdentifier], SKOS.scopeNote, Literal(\"SSDF: \" + row.SSDF )\n",
        "        )),\n",
        "        gPhaseActsArts.add((\n",
        "            ACT[row.ActivityIdentifier], SKOS.editorialNote, Literal(\"skos:scopeNote currently holding three fields. Could normalize\")\n",
        "        )),\n",
        "        [ ( gPhaseActsArts.add(( ART[item], RDF.type, ONT.AbstractArtifact )),\n",
        "            gPhaseActsArts.add(( ART[item], RDF.type, SKOS.Concept )),\n",
        "            gPhaseActsArts.add(( ART[item], SKOS.inScheme, INST.dodDsopScheme )),\n",
        "            gPhaseActsArts.add(( ACT[row.ActivityIdentifier], ONT.input, ART[item] )),\n",
        "            gPhaseActsArts.add(( ART[item], ONT.input, ACT[row.ActivityIdentifier] )),\n",
        "            ) for item in row.InputsList ],\n",
        "        [ ( gPhaseActsArts.add(( ART[item], RDF.type, ONT.AbstractArtifact )),\n",
        "            gPhaseActsArts.add(( ART[item], RDF.type, SKOS.Concept )),\n",
        "            gPhaseActsArts.add(( ART[item], SKOS.inScheme, INST.dodDsopScheme )),\n",
        "            gPhaseActsArts.add(( ACT[row.ActivityIdentifier], ONT.output, ART[item] )),\n",
        "            gPhaseActsArts.add(( ART[item], ONT.output, ACT[row.ActivityIdentifier] )),\n",
        "            ) for item in row.OutputsList ],\n",
        "        [ ( gPhaseActsArts.add(( TOOL[item], RDF.type, TOOL.AbstractTool )),\n",
        "            gPhaseActsArts.add(( TOOL[item], RDF.type, SKOS.Concept )),\n",
        "            gPhaseActsArts.add(( TOOL[item], SKOS.inScheme, INST.dodDsopScheme )),\n",
        "            gPhaseActsArts.add(( ACT[row.ActivityIdentifier], ONT.activityTool, TOOL[item] )),\n",
        "            gPhaseActsArts.add(( TOOL[item], ONT.activityTool, ACT[row.ActivityIdentifier] )),\n",
        "            ) for item in row.ToolsList ],\n",
        "        gPhaseActsArts.add((\n",
        "            ACT[row.ActivityIdentifier], ONT.phaseActivity, PHASE[cleanCamel(row.Phase)]\n",
        "        )),\n",
        "        gPhaseActsArts.add((\n",
        "            PHASE[cleanCamel(row.Phase)], ONT.phaseActivity, ACT[row.ActivityIdentifier]\n",
        "        )),\n",
        "        gPhaseActsArts.add(( ACT[row.ActivityIdentifier] , SKOS.editorialNote, Literal(\"Unused Inputs text::\"+row.InputsTextRemainder))) if any(letter.isalpha() for letter in row.InputsTextRemainder) else None,\n",
        "        gPhaseActsArts.add(( ACT[row.ActivityIdentifier] , SKOS.editorialNote, Literal(\"Unused Outputs text::\"+row.OutputsTextRemainder))) if any(letter.isalpha() for letter in row.OutputsTextRemainder) else None,\n",
        "        gPhaseActsArts.add(( ACT[row.ActivityIdentifier] , SKOS.editorialNote, Literal(\"Unused Tools text::\"+row.ToolsTextRemainder))) if any(letter.isalpha() for letter in row.ToolsTextRemainder) else None,\n",
        "    )\n",
        "    , axis='columns' )\n",
        "None"
      ]
    },
    {
      "cell_type": "code",
      "execution_count": null,
      "metadata": {
        "id": "uUFXAU5ei0f4"
      },
      "outputs": [],
      "source": [
        "\n",
        "gTopLevel.serialize(format=\"turtle\",destination=\"gen/topLevel.ttl\")\n",
        "gPhases.serialize(format=\"turtle\",destination=\"gen/phases.ttl\")\n",
        "gToolsArts.serialize(format=\"turtle\",destination=\"gen/toolsArts.ttl\")\n",
        "gPhaseActsArts.serialize(format=\"turtle\",destination=\"gen/phaseActsArts.ttl\")"
      ]
    },
    {
      "cell_type": "markdown",
      "metadata": {
        "id": "SrGpohrZrze3"
      },
      "source": [
        "## Publish the combined generated graph contributions"
      ]
    },
    {
      "cell_type": "code",
      "execution_count": null,
      "metadata": {
        "id": "0_gDO5u58f67"
      },
      "outputs": [],
      "source": [
        "# publish combined graph\n",
        "# simply a case of parsing generated source graphs into the same graph\n",
        "\n",
        "gCombined = Graph()\n",
        "gCombined.add((BNode(), RDFS.label, Literal(\"Script Version: \" + str(scriptRevision))) )\n",
        "import glob\n",
        "for file in glob.glob(\"gen/*.ttl\"):\n",
        "    gCombined.parse(file)\n",
        "gCombined.serialize(format=\"turtle\",destination=\"publish/nodehenge.org/inst.ttl\")"
      ]
    },
    {
      "cell_type": "markdown",
      "metadata": {
        "id": "D7Z4n_MPsEZn"
      },
      "source": [
        "## Some commented-out RDF exploration tests"
      ]
    },
    {
      "cell_type": "code",
      "execution_count": null,
      "metadata": {
        "id": "kIe-ba3Zi0f4"
      },
      "outputs": [],
      "source": [
        "# some commented-out RDF exploration tests\n",
        "%%script false --no-raise-error\n",
        "\n",
        "# ONT = Namespace(\"http://nodehenge.org/ont#\")\n",
        "# INST = Namespace(\"http://nodehenge.org/inst#\")\n",
        "# PHASE = Namespace(\"http://nodehenge.org/inst/phase#\")\n",
        "# TOOL = Namespace(\"http://nodehenge.org/inst/tool#\")\n",
        "# ACT = Namespace(\"http://nodehenge.org/inst/activity#\")\n",
        "# ART = Namespace(\"http://nodehenge.org/inst/artifact#\")\n",
        "context = {\"@ont\": \"http://nodehenge.org/ont#\",\n",
        "           \"@inst\": \"http://nodehenge.org/inst#\",\n",
        "           \"@phase\": \"http://nodehenge.org/inst/phase#\",\n",
        "           \"@tool\": \"http://nodehenge.org/inst/tool#\",\n",
        "           \"@act\": \"http://nodehenge.org/inst/activity#\",\n",
        "           \"@artifact\": \"http://nodehenge.org/inst/artifact#\",\n",
        "           \"@skos\" :  \"http://www.w3.org/2004/02/skos/core#\",\n",
        "           \"@language\": \"en\"}\n",
        "#print(g.serialize(format=\"json-ld\", context=context ))  # example with manually constructed @context\n",
        "jsontxt=(g.serialize(format=\"json-ld\", auto_compact=True))  #auto_compact create @context entries\n",
        "jsonobj = json.loads(jsontxt)\n",
        "json.dumps(jsonobj, separators=(',', ':')) # minified output"
      ]
    },
    {
      "cell_type": "code",
      "execution_count": null,
      "metadata": {
        "id": "4lAHTcdMi0f5"
      },
      "outputs": [],
      "source": [
        "# some commented-out RDF exploration tests\n",
        "%%script false --no-raise-error\n",
        "\n",
        "g.add((\n",
        "    URIRef(\"#nick\"),\n",
        "    SKOS.prefLabel,\n",
        "    Literal(\"Nick\") #, datatype=XSD.string)\n",
        "    )\n",
        ")\n",
        "g.add((\n",
        "    URIRef(\"#bob\"),\n",
        "    SKOS.prefLabel,\n",
        "    Literal(\"Bob\") #, datatype=XSD.string)\n",
        "    )\n",
        ")\n",
        "\n",
        "print(g.serialize(format=\"turtle\"))\n",
        "\n",
        "my_query = \"\"\"\n",
        "SELECT DISTINCT ?a ?b\n",
        "WHERE {\n",
        "    ?a skos:prefLabel \"Nick\" .\n",
        "}\"\"\"\n",
        "\n",
        "qres = g.query(my_query)\n",
        "for row in qres:\n",
        "    print(f\"{row.a} \")\n",
        "\n",
        "bob=URIRef(\"#bob\")\n",
        "print(g.value(bob,SKOS.prefLabel))\n",
        "#```"
      ]
    },
    {
      "cell_type": "code",
      "execution_count": null,
      "metadata": {
        "id": "5wh9D_DWi0f6"
      },
      "outputs": [],
      "source": [
        "%%script false --no-raise-error\n",
        "\n",
        "g.add( (PHASE.plan, SKOS.prefLabel, Literal(\"Plan\")))\n",
        "print(  PHASE.plan )\n",
        "print( g.value( PHASE.plan, SKOS.prefLabel ) )"
      ]
    },
    {
      "cell_type": "code",
      "execution_count": null,
      "metadata": {
        "id": "1TA2vm1Gi0f7"
      },
      "outputs": [],
      "source": [
        "%%script false --no-raise-error\n",
        "\n",
        "phaseID = \"pha+--=sfgsdfg   \\n se13\"\n",
        "phaseID2 = \"phase13432\"\n",
        "g.remove( (PHASE[cleanCamel(phaseID)], None, None) )  #dict notation as alternative to explicit value and dot notation\n",
        "g.add( (PHASE[cleanCamel(phaseID)], SKOS.related, PHASE[phaseID2]))\n",
        "print( g.value( PHASE[cleanCamel(phaseID)], SKOS.related ) )"
      ]
    }
  ],
  "metadata": {
    "colab": {
      "include_colab_link": true,
      "provenance": []
    },
    "kernelspec": {
      "display_name": "Python 3",
      "name": "python3"
    },
    "language_info": {
      "codemirror_mode": {
        "name": "ipython",
        "version": 3
      },
      "file_extension": ".py",
      "mimetype": "text/x-python",
      "name": "python",
      "nbconvert_exporter": "python",
      "pygments_lexer": "ipython3",
      "version": "3.10.7"
    },
    "orig_nbformat": 4
  },
  "nbformat": 4,
  "nbformat_minor": 0
}
