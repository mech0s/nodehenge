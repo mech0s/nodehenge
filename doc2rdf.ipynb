{
  "cells": [
    {
      "cell_type": "markdown",
      "metadata": {
        "colab_type": "text",
        "id": "view-in-github"
      },
      "source": [
        "<a href=\"https://colab.research.google.com/github/mech0s/nodehenge/blob/main/doc2rdf.ipynb\" target=\"_parent\"><img src=\"https://colab.research.google.com/assets/colab-badge.svg\" alt=\"Open In Colab\"/></a>"
      ]
    },
    {
      "cell_type": "code",
      "execution_count": null,
      "metadata": {
        "id": "g2FMZ-cLUX2m"
      },
      "outputs": [],
      "source": [
        "revision = 7\n",
        "print (\"Revision\", revision)"
      ]
    },
    {
      "cell_type": "markdown",
      "metadata": {
        "id": "BB-z2iTEUX2o"
      },
      "source": [
        "##  Install steps\n",
        "Remember to re-run for each fresh google colab session"
      ]
    },
    {
      "cell_type": "code",
      "execution_count": 131,
      "metadata": {
        "colab": {
          "base_uri": "https://localhost:8080/"
        },
        "id": "RZHU52I0UX2q",
        "outputId": "d985f431-bdc2-465b-bc23-41a578c31540"
      },
      "outputs": [
        {
          "name": "stdout",
          "output_type": "stream",
          "text": [
            "Requirement already satisfied: rdflib in c:\\users\\donal\\.virtualenvs\\nodehenge-puq04jya\\lib\\site-packages (6.3.2)\n",
            "Requirement already satisfied: isodate<0.7.0,>=0.6.0 in c:\\users\\donal\\.virtualenvs\\nodehenge-puq04jya\\lib\\site-packages (from rdflib) (0.6.1)\n",
            "Requirement already satisfied: pyparsing<4,>=2.1.0 in c:\\users\\donal\\.virtualenvs\\nodehenge-puq04jya\\lib\\site-packages (from rdflib) (3.1.0)\n",
            "Requirement already satisfied: six in c:\\users\\donal\\.virtualenvs\\nodehenge-puq04jya\\lib\\site-packages (from isodate<0.7.0,>=0.6.0->rdflib) (1.16.0)\n",
            "Note: you may need to restart the kernel to use updated packages.\n"
          ]
        }
      ],
      "source": [
        "### commented out - rdfpandas not needed?\n",
        "#  %pip install rdfpandas\n",
        "#  %pip install openpyxl\n",
        "%pip install rdflib"
      ]
    },
    {
      "cell_type": "markdown",
      "metadata": {
        "id": "hqc52ohYUX2q"
      },
      "source": [
        "##   Imports"
      ]
    },
    {
      "cell_type": "code",
      "execution_count": null,
      "metadata": {
        "id": "n8S3Lkr9UX2q"
      },
      "outputs": [],
      "source": [
        "import numpy as np\n",
        "import pandas as pd\n",
        "import os\n",
        "import re"
      ]
    },
    {
      "cell_type": "markdown",
      "metadata": {
        "id": "-SxFF3EBUX2q"
      },
      "source": [
        "### Optional    google  colab   enhancements"
      ]
    },
    {
      "cell_type": "code",
      "execution_count": null,
      "metadata": {
        "id": "j3A_QUmxUX2r"
      },
      "outputs": [],
      "source": [
        "#optional\n",
        "if 'COLAB_JUPYTER_TOKEN' in os.environ:\n",
        "  from google.colab import data_table\n",
        "  data_table.enable_dataframe_formatter()"
      ]
    },
    {
      "cell_type": "markdown",
      "metadata": {
        "id": "q1sXQLGUUX2r"
      },
      "source": [
        "## Source Data Read/Setup"
      ]
    },
    {
      "cell_type": "markdown",
      "metadata": {
        "id": "LgtU0oP9UX2r"
      },
      "source": [
        "### Read dodcio DevSecOpsActivitesToolsGuidebookTables.xlsx"
      ]
    },
    {
      "cell_type": "code",
      "execution_count": null,
      "metadata": {},
      "outputs": [],
      "source": [
        "def cleanCamel(s):\n",
        "  r = re.sub('\\W|^(?=\\d)','_', s) ## cleans to make a valid identifier\n",
        "  r = re.sub(r\"(_|-|\\n|!)+\", \" \", r).title().replace(\" \", \"\")  ## turns to camel-case\n",
        "  return ''.join([s[0].lower(), r[1:]])"
      ]
    },
    {
      "cell_type": "code",
      "execution_count": null,
      "metadata": {
        "id": "OAK5AP5LUX2r"
      },
      "outputs": [],
      "source": [
        "sourceURI = \"https://dodcio.defense.gov/Portals/0/Documents/Library/DevSecOpsActivitesToolsGuidebookTables.xlsx\"\n",
        "xls = pd.ExcelFile(sourceURI)"
      ]
    },
    {
      "cell_type": "code",
      "execution_count": null,
      "metadata": {
        "id": "28i9hqYIUX2r"
      },
      "outputs": [],
      "source": [
        "# check cheet names\n",
        "xls.sheet_names"
      ]
    },
    {
      "cell_type": "markdown",
      "metadata": {
        "id": "XjZeS1j7UX2r"
      },
      "source": [
        "### Setup fixed data"
      ]
    },
    {
      "cell_type": "code",
      "execution_count": null,
      "metadata": {
        "id": "PwZO0RlBUX2s"
      },
      "outputs": [],
      "source": [
        "phaseNames = [ 'Plan',\n",
        " 'Develop',\n",
        " 'Build',\n",
        " 'Test',\n",
        " 'Release',\n",
        " 'Deliver',\n",
        " 'Deploy',\n",
        " 'Operate',\n",
        " 'Monitor',\n",
        " 'Feedback']"
      ]
    },
    {
      "cell_type": "markdown",
      "metadata": {
        "id": "pvkNyFwTUX2s"
      },
      "source": [
        "##  Build phaseActivityDataFrame"
      ]
    },
    {
      "cell_type": "markdown",
      "metadata": {
        "id": "BJ_749-dUX2s"
      },
      "source": [
        "One named worksheet per phase: Pull these into a list of DataFrames, adjusting column names to create valid identifiers. Turn NaN entries into blank strings."
      ]
    },
    {
      "cell_type": "code",
      "execution_count": null,
      "metadata": {
        "id": "JwYBj7y5UX2s"
      },
      "outputs": [],
      "source": [
        "phaseDataList = []\n",
        "phaseOrder = 0\n",
        "for phName in phaseNames:\n",
        "  df = pd.read_excel(xls,phName)\n",
        "  df = df.rename(columns={\"Activities\":\"Activity\",\n",
        "                     \"Security / Testing / CM\": \"SecurityTestingCM\",\n",
        "                     \"Tool Dependencies\": \"ToolDependency\",\n",
        "                     \"Tool Dependency\": \"ToolDependency\"\n",
        "                     })\n",
        "  # add Phase and order columns - alternative avoid tricky MultiIndex when concatening below\n",
        "  df[\"Phase\"] = phName\n",
        "  df[\"PhaseOrder\"] = phaseOrder\n",
        "  df[\"OrderInPhase\"] = df.index\n",
        "  phaseOrder+=1\n",
        "  #\n",
        "  phaseDataList.append(df.replace(np.nan, \"\"))"
      ]
    },
    {
      "cell_type": "markdown",
      "metadata": {
        "id": "oG1YtjvbUX2s"
      },
      "source": [
        "phaseDataList : list of dataframes :- concatenate into one dataframe"
      ]
    },
    {
      "cell_type": "code",
      "execution_count": null,
      "metadata": {},
      "outputs": [],
      "source": [
        "phaseActivityDataFrame = pd.concat(phaseDataList)\n",
        "# MultiIndex example: phaseActivityDataFrame = pd.concat(phaseDataList,keys=phaseNames, names=[\"Phase\",\"IDinPhase\"])"
      ]
    },
    {
      "cell_type": "code",
      "execution_count": null,
      "metadata": {
        "id": "RdhybdnYUX2t"
      },
      "outputs": [],
      "source": [
        "phaseActivityDataFrame"
      ]
    },
    {
      "cell_type": "markdown",
      "metadata": {},
      "source": [
        "### Dataframe select, filter, order examples"
      ]
    },
    {
      "cell_type": "code",
      "execution_count": null,
      "metadata": {},
      "outputs": [],
      "source": [
        "### Dataframe slicing examples\n",
        "phaseActivityDataFrame.iloc[3:39]"
      ]
    },
    {
      "cell_type": "code",
      "execution_count": null,
      "metadata": {},
      "outputs": [],
      "source": [
        "### Dataframe ordering and filtering examples\n",
        "phaseActivityDataFrame.sort_values([\"PhaseOrder\",\"OrderInPhase\"])[phaseActivityDataFrame[\"Phase\"]>=\"Plan\"]"
      ]
    },
    {
      "cell_type": "code",
      "execution_count": null,
      "metadata": {},
      "outputs": [],
      "source": [
        "### Dataframe selection examples\n",
        "phaseActivityDataFrame[[\"Phase\",\"Baseline\"]]"
      ]
    },
    {
      "cell_type": "markdown",
      "metadata": {},
      "source": [
        "### more..."
      ]
    },
    {
      "cell_type": "code",
      "execution_count": null,
      "metadata": {},
      "outputs": [],
      "source": []
    },
    {
      "cell_type": "markdown",
      "metadata": {},
      "source": [
        "## TODO : Other sheets / regions"
      ]
    },
    {
      "cell_type": "markdown",
      "metadata": {},
      "source": []
    },
    {
      "cell_type": "markdown",
      "metadata": {},
      "source": [
        "# RDF creation"
      ]
    },
    {
      "cell_type": "code",
      "execution_count": null,
      "metadata": {},
      "outputs": [],
      "source": [
        "from rdflib import Graph, Namespace, URIRef, Literal\n",
        "from rdflib.namespace import SKOS, RDF, RDFS, XSD, NamespaceManager # DC, DCTERMS, DOAP, FOAF, SKOS, OWL, RDF, RDFS, VOID, XMLNS, XSD\n",
        "\n",
        "ONT = Namespace(\"http://nodehenge.org/ont#\")\n",
        "PHASE = Namespace(\"http://nodehenge.org/inst/phase#\")\n",
        "TOOL = Namespace(\"http://nodehenge.org/inst/tool#\")\n",
        "ACT = Namespace(\"http://nodehenge.org/inst/activity#\")\n",
        "ART = Namespace(\"http://nodehenge.org/inst/artifact#\")\n",
        "g = Graph() ###base=\"http://nodehenge.org/inst/\")\n",
        "g.bind(\"rdf\", RDF)\n",
        "g.bind(\"rdfs\", RDFS)\n",
        "g.bind(\"skos\", SKOS)\n",
        "g.bind(\"xsd\", XSD)\n",
        "g.bind(\"ont\", ONT)\n",
        "g.bind(\"phase\", PHASE)\n",
        "g.bind(\"tool\", TOOL)\n",
        "g.bind(\"act\", ACT)\n",
        "g.bind(\"art\", ART)\n",
        "\n",
        "\n"
      ]
    },
    {
      "cell_type": "markdown",
      "metadata": {},
      "source": [
        "### initial tests\n"
      ]
    },
    {
      "cell_type": "code",
      "execution_count": null,
      "metadata": {},
      "outputs": [],
      "source": [
        "#```\n",
        "g.add((\n",
        "    URIRef(\"#nick\"),\n",
        "    SKOS.prefLabel,\n",
        "    Literal(\"Nick\") #, datatype=XSD.string)\n",
        "    )\n",
        ")\n",
        "g.add((\n",
        "    URIRef(\"#bob\"),\n",
        "    SKOS.prefLabel,\n",
        "    Literal(\"Bob\") #, datatype=XSD.string)\n",
        "    )\n",
        ")\n",
        "\n",
        "print(g.serialize(format=\"turtle\"))\n",
        "\n",
        "my_query = \"\"\"\n",
        "SELECT DISTINCT ?a ?b\n",
        "WHERE {\n",
        "    ?a skos:prefLabel \"Nick\" .\n",
        "}\"\"\"\n",
        "\n",
        "qres = g.query(my_query)\n",
        "for row in qres:\n",
        "    print(f\"{row.a} \")\n",
        "\n",
        "bob=URIRef(\"#bob\")\n",
        "print(g.value(bob,SKOS.prefLabel))\n",
        "#```"
      ]
    },
    {
      "cell_type": "markdown",
      "metadata": {},
      "source": [
        "### Load"
      ]
    },
    {
      "cell_type": "code",
      "execution_count": null,
      "metadata": {},
      "outputs": [],
      "source": [
        "g.add( (PHASE.plan, SKOS.prefLabel, Literal(\"Plan\")))\n",
        "print(  PHASE.plan )\n",
        "print( g.value( PHASE.plan, SKOS.prefLabel ) )\n",
        "\n"
      ]
    },
    {
      "cell_type": "code",
      "execution_count": null,
      "metadata": {},
      "outputs": [],
      "source": [
        "tmp = URIRef(str(PHASE)+cleanCamel(\"atphase9\"))\n",
        "\n",
        "g.add( (tmp, SKOS.prefLabel, Literal(\"Is123ce\")))\n",
        "print(  tmp )\n",
        "print( g.value( tmp, SKOS.prefLabel ) )"
      ]
    },
    {
      "cell_type": "code",
      "execution_count": null,
      "metadata": {},
      "outputs": [],
      "source": [
        "phaseID = \"pha+--=sfgsdfg   \\n se13\"\n",
        "phaseID2 = \"phase13432\"\n",
        "g.remove( (PHASE[cleanCamel(phaseID)], None, None) )  #dict notation as alternative to explicit value and dot notation\n",
        "g.add( (PHASE[cleanCamel(phaseID)], SKOS.related, PHASE[phaseID2]))\n",
        "print( g.value( PHASE[cleanCamel(phaseID)], SKOS.related ) )"
      ]
    },
    {
      "cell_type": "code",
      "execution_count": null,
      "metadata": {},
      "outputs": [],
      "source": [
        "print(g.serialize(format=\"turtle\"))"
      ]
    },
    {
      "cell_type": "code",
      "execution_count": null,
      "metadata": {},
      "outputs": [],
      "source": []
    }
  ],
  "metadata": {
    "colab": {
      "include_colab_link": true,
      "provenance": []
    },
    "kernelspec": {
      "display_name": "Python 3",
      "name": "python3"
    },
    "language_info": {
      "codemirror_mode": {
        "name": "ipython",
        "version": 3
      },
      "file_extension": ".py",
      "mimetype": "text/x-python",
      "name": "python",
      "nbconvert_exporter": "python",
      "pygments_lexer": "ipython3",
      "version": "3.10.7"
    },
    "orig_nbformat": 4
  },
  "nbformat": 4,
  "nbformat_minor": 0
}
