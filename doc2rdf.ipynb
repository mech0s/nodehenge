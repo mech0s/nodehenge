{
  "cells": [
    {
      "cell_type": "markdown",
      "metadata": {
        "id": "view-in-github",
        "colab_type": "text"
      },
      "source": [
        "<a href=\"https://colab.research.google.com/github/mech0s/nodehenge/blob/main/doc2rdf.ipynb\" target=\"_parent\"><img src=\"https://colab.research.google.com/assets/colab-badge.svg\" alt=\"Open In Colab\"/></a>"
      ]
    },
    {
      "cell_type": "code",
      "execution_count": null,
      "metadata": {
        "id": "g2FMZ-cLUX2m"
      },
      "outputs": [],
      "source": [
        "revision = 7\n",
        "print (\"Revision\", revision)"
      ]
    },
    {
      "cell_type": "markdown",
      "metadata": {
        "id": "BB-z2iTEUX2o"
      },
      "source": [
        "##  Install steps\n",
        "Remember to re-run for each fresh google colab session"
      ]
    },
    {
      "cell_type": "code",
      "execution_count": 1,
      "metadata": {
        "id": "RZHU52I0UX2q",
        "outputId": "d985f431-bdc2-465b-bc23-41a578c31540",
        "colab": {
          "base_uri": "https://localhost:8080/"
        }
      },
      "outputs": [
        {
          "output_type": "stream",
          "name": "stdout",
          "text": [
            "Requirement already satisfied: rdfpandas in /usr/local/lib/python3.10/dist-packages (1.1.6)\n",
            "Requirement already satisfied: pandas>=2.0.0 in /usr/local/lib/python3.10/dist-packages (from rdfpandas) (2.0.3)\n",
            "Requirement already satisfied: rdflib>=6.3.2 in /usr/local/lib/python3.10/dist-packages (from rdfpandas) (6.3.2)\n",
            "Requirement already satisfied: python-dateutil>=2.8.2 in /usr/local/lib/python3.10/dist-packages (from pandas>=2.0.0->rdfpandas) (2.8.2)\n",
            "Requirement already satisfied: pytz>=2020.1 in /usr/local/lib/python3.10/dist-packages (from pandas>=2.0.0->rdfpandas) (2022.7.1)\n",
            "Requirement already satisfied: tzdata>=2022.1 in /usr/local/lib/python3.10/dist-packages (from pandas>=2.0.0->rdfpandas) (2023.3)\n",
            "Requirement already satisfied: numpy>=1.21.0 in /usr/local/lib/python3.10/dist-packages (from pandas>=2.0.0->rdfpandas) (1.22.4)\n",
            "Requirement already satisfied: isodate<0.7.0,>=0.6.0 in /usr/local/lib/python3.10/dist-packages (from rdflib>=6.3.2->rdfpandas) (0.6.1)\n",
            "Requirement already satisfied: pyparsing<4,>=2.1.0 in /usr/local/lib/python3.10/dist-packages (from rdflib>=6.3.2->rdfpandas) (3.1.0)\n",
            "Requirement already satisfied: six in /usr/local/lib/python3.10/dist-packages (from isodate<0.7.0,>=0.6.0->rdflib>=6.3.2->rdfpandas) (1.16.0)\n",
            "Requirement already satisfied: openpyxl in /usr/local/lib/python3.10/dist-packages (3.0.10)\n",
            "Requirement already satisfied: et-xmlfile in /usr/local/lib/python3.10/dist-packages (from openpyxl) (1.1.0)\n"
          ]
        }
      ],
      "source": [
        "%pip install rdfpandas\n",
        "%pip install openpyxl"
      ]
    },
    {
      "cell_type": "markdown",
      "metadata": {
        "id": "hqc52ohYUX2q"
      },
      "source": [
        "##   Imports"
      ]
    },
    {
      "cell_type": "code",
      "execution_count": 3,
      "metadata": {
        "id": "n8S3Lkr9UX2q"
      },
      "outputs": [],
      "source": [
        "import numpy as np\n",
        "import pandas as pd\n",
        "import os"
      ]
    },
    {
      "cell_type": "markdown",
      "metadata": {
        "id": "-SxFF3EBUX2q"
      },
      "source": [
        "### Optional    google  colab   enhancements"
      ]
    },
    {
      "cell_type": "code",
      "execution_count": 7,
      "metadata": {
        "id": "j3A_QUmxUX2r"
      },
      "outputs": [],
      "source": [
        "#optional\n",
        "if 'COLAB_JUPYTER_TOKEN' in os.environ:\n",
        "  from google.colab import data_table\n",
        "  data_table.enable_dataframe_formatter()"
      ]
    },
    {
      "cell_type": "markdown",
      "metadata": {
        "id": "q1sXQLGUUX2r"
      },
      "source": [
        "## Source Data Read/Setup"
      ]
    },
    {
      "cell_type": "markdown",
      "metadata": {
        "id": "LgtU0oP9UX2r"
      },
      "source": [
        "### Read dodcio DevSecOpsActivitesToolsGuidebookTables.xlsx"
      ]
    },
    {
      "cell_type": "code",
      "execution_count": null,
      "metadata": {
        "id": "OAK5AP5LUX2r"
      },
      "outputs": [],
      "source": [
        "sourceURI = \"https://dodcio.defense.gov/Portals/0/Documents/Library/DevSecOpsActivitesToolsGuidebookTables.xlsx\"\n",
        "xls = pd.ExcelFile(sourceURI)"
      ]
    },
    {
      "cell_type": "code",
      "execution_count": null,
      "metadata": {
        "id": "28i9hqYIUX2r"
      },
      "outputs": [],
      "source": [
        "# check cheet names\n",
        "xls.sheet_names"
      ]
    },
    {
      "cell_type": "markdown",
      "metadata": {
        "id": "XjZeS1j7UX2r"
      },
      "source": [
        "### Setup fixed data"
      ]
    },
    {
      "cell_type": "code",
      "execution_count": null,
      "metadata": {
        "id": "PwZO0RlBUX2s"
      },
      "outputs": [],
      "source": [
        "phaseNames = [ 'Plan',\n",
        " 'Develop',\n",
        " 'Build',\n",
        " 'Test',\n",
        " 'Release',\n",
        " 'Deliver',\n",
        " 'Deploy',\n",
        " 'Operate',\n",
        " 'Monitor',\n",
        " 'Feedback']"
      ]
    },
    {
      "cell_type": "markdown",
      "metadata": {
        "id": "pvkNyFwTUX2s"
      },
      "source": [
        "##  Build phaseActivityDataFrame"
      ]
    },
    {
      "cell_type": "markdown",
      "metadata": {
        "id": "BJ_749-dUX2s"
      },
      "source": [
        "One named worksheet per phase: Pull these into a list of DataFrames, adjusting column names to create valid identifiers. Turn NaN entries into blank strings."
      ]
    },
    {
      "cell_type": "code",
      "execution_count": null,
      "metadata": {
        "id": "JwYBj7y5UX2s"
      },
      "outputs": [],
      "source": [
        "phaseDataList = []\n",
        "for phName in phaseNames:\n",
        "  df = pd.read_excel(xls,phName)\n",
        "  df = df.rename(columns={\"Activities\":\"Activity\",\n",
        "                     \"Security / Testing / CM\": \"SecurityTestingCM\",\n",
        "                     \"Tool Dependencies\": \"ToolDependency\",\n",
        "                     \"Tool Dependency\": \"ToolDependency\"\n",
        "                     })\n",
        "  phaseDataList.append(df.replace(np.nan, \"\"))"
      ]
    },
    {
      "cell_type": "markdown",
      "metadata": {
        "id": "oG1YtjvbUX2s"
      },
      "source": [
        "phaseDataList : list of dataframes :- concatenate into one dataframe, with the addition of a Phase column for identification."
      ]
    },
    {
      "cell_type": "code",
      "execution_count": null,
      "metadata": {
        "id": "7gFuoMsAUX2s"
      },
      "outputs": [],
      "source": [
        "phaseActivityDataFrame = pd.concat(phaseDataList,keys=phaseNames, names=[\"Phase\",\"IDinPhase\"])"
      ]
    },
    {
      "cell_type": "code",
      "execution_count": null,
      "metadata": {
        "id": "RdhybdnYUX2t"
      },
      "outputs": [],
      "source": [
        "phaseActivityDataFrame"
      ]
    }
  ],
  "metadata": {
    "language_info": {
      "name": "python"
    },
    "orig_nbformat": 4,
    "colab": {
      "provenance": [],
      "include_colab_link": true
    },
    "kernelspec": {
      "name": "python3",
      "display_name": "Python 3"
    }
  },
  "nbformat": 4,
  "nbformat_minor": 0
}